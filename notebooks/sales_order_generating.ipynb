{
 "cells": [
  {
   "cell_type": "markdown",
   "metadata": {},
   "source": [
    "### Generate sales order lines given sales_order_id and order_date"
   ]
  },
  {
   "cell_type": "code",
   "execution_count": 5,
   "metadata": {},
   "outputs": [
    {
     "name": "stdout",
     "output_type": "stream",
     "text": [
      "INSERT INTO SalesOrderDetail (SalesOrderID, SalesOrderLineNumber, ProductKey, Qty, ModifiedDate) VALUES (12345, 1, 230, 1, '2023-10-20 00:00:00');\n",
      "INSERT INTO SalesOrderDetail (SalesOrderID, SalesOrderLineNumber, ProductKey, Qty, ModifiedDate) VALUES (12345, 2, 588, 8, '2023-10-20 00:00:00');\n",
      "INSERT INTO SalesOrderDetail (SalesOrderID, SalesOrderLineNumber, ProductKey, Qty, ModifiedDate) VALUES (12345, 3, 442, 3, '2023-10-20 00:00:00');\n",
      "INSERT INTO SalesOrderDetail (SalesOrderID, SalesOrderLineNumber, ProductKey, Qty, ModifiedDate) VALUES (12345, 4, 10, 2, '2023-10-20 00:00:00');\n",
      "INSERT INTO SalesOrderDetail (SalesOrderID, SalesOrderLineNumber, ProductKey, Qty, ModifiedDate) VALUES (12345, 5, 447, 5, '2023-10-20 00:00:00');\n",
      "INSERT INTO SalesOrderDetail (SalesOrderID, SalesOrderLineNumber, ProductKey, Qty, ModifiedDate) VALUES (12345, 6, 55, 3, '2023-10-20 00:00:00');\n",
      "INSERT INTO SalesOrderDetail (SalesOrderID, SalesOrderLineNumber, ProductKey, Qty, ModifiedDate) VALUES (12345, 7, 3, 3, '2023-10-20 00:00:00');\n",
      "INSERT INTO SalesOrderDetail (SalesOrderID, SalesOrderLineNumber, ProductKey, Qty, ModifiedDate) VALUES (12345, 8, 223, 11, '2023-10-20 00:00:00');\n",
      "INSERT INTO SalesOrderDetail (SalesOrderID, SalesOrderLineNumber, ProductKey, Qty, ModifiedDate) VALUES (12345, 9, 458, 7, '2023-10-20 00:00:00');\n",
      "INSERT INTO SalesOrderDetail (SalesOrderID, SalesOrderLineNumber, ProductKey, Qty, ModifiedDate) VALUES (12345, 10, 478, 19, '2023-10-20 00:00:00');\n"
     ]
    }
   ],
   "source": [
    "import random\n",
    "from datetime import datetime\n",
    "\n",
    "modified_date = datetime(year=2023, month=10, day=20)\n",
    "\n",
    "def generate_sales_order_lines(sales_order_id=12345, modified_date=modified_date):\n",
    "    lines_count = random.randint(1, 10)\n",
    "    products = []\n",
    "    for line in range(1, lines_count + 1):\n",
    "        product = random.randint(1, 606)\n",
    "        while product in products:\n",
    "            product = random.randint(1, 606)\n",
    "        products.append(product)\n",
    "        \n",
    "        qty = random.randint(1, 20)\n",
    "        insert_query = (\n",
    "            f\"INSERT INTO SalesOrderDetail (SalesOrderID, SalesOrderLineNumber, ProductKey, Qty, ModifiedDate) \"\n",
    "            f\"VALUES ({sales_order_id}, {line}, {product}, {qty}, '{modified_date.strftime('%Y-%m-%d %H:%M:%S')}');\"\n",
    "        )\n",
    "        print(insert_query)\n",
    "\n",
    "generate_sales_order_lines()"
   ]
  },
  {
   "cell_type": "markdown",
   "metadata": {},
   "source": [
    "### Generate new customer given CustomerID"
   ]
  },
  {
   "cell_type": "code",
   "execution_count": 10,
   "metadata": {},
   "outputs": [
    {
     "name": "stdout",
     "output_type": "stream",
     "text": [
      "INSERT INTO Customer (CustomerID, Name, Email, Age, ModifiedDate) VALUES (97, Aaron Jones, johnsonemily@example.com, 68, '2023-10-20 00:00:00');\n"
     ]
    }
   ],
   "source": [
    "from faker import Faker\n",
    "import random\n",
    "\n",
    "modified_date = datetime(year=2023, month=10, day=20)\n",
    "def generate_customer_info(customer_id=97, modified_date=modified_date):\n",
    "    fake = Faker()\n",
    "    name = fake.name()\n",
    "    email = fake.email()\n",
    "    age = random.randint(17, 90)\n",
    "    insert_query = (\n",
    "            f\"INSERT INTO Customer (CustomerID, Name, Email, Age, ModifiedDate) \"\n",
    "            f\"VALUES ({customer_id}, {name}, {email}, {age}, '{modified_date.strftime('%Y-%m-%d %H:%M:%S')}');\"\n",
    "        )\n",
    "    print(insert_query)\n",
    "\n",
    "generate_customer_info()"
   ]
  },
  {
   "cell_type": "code",
   "execution_count": null,
   "metadata": {},
   "outputs": [],
   "source": []
  }
 ],
 "metadata": {
  "kernelspec": {
   "display_name": "pyspark",
   "language": "python",
   "name": "python3"
  },
  "language_info": {
   "codemirror_mode": {
    "name": "ipython",
    "version": 3
   },
   "file_extension": ".py",
   "mimetype": "text/x-python",
   "name": "python",
   "nbconvert_exporter": "python",
   "pygments_lexer": "ipython3",
   "version": "3.11.8"
  }
 },
 "nbformat": 4,
 "nbformat_minor": 2
}
