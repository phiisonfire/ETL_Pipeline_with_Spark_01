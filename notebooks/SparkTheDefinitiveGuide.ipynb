{
 "cells": [
  {
   "cell_type": "markdown",
   "id": "0a8debd8-799d-49d3-9c3d-99f767889cc6",
   "metadata": {},
   "source": [
    "https://github.com/databricks/Spark-The-Definitive-Guide"
   ]
  },
  {
   "cell_type": "code",
   "execution_count": 1,
   "id": "c04fb2b1-9369-41b4-a8a0-4ebfe96dfbc4",
   "metadata": {},
   "outputs": [
    {
     "name": "stderr",
     "output_type": "stream",
     "text": [
      "24/06/01 06:35:16 WARN Utils: Your hostname, desktop resolves to a loopback address: 127.0.1.1; using 192.168.1.7 instead (on interface enp2s0)\n",
      "24/06/01 06:35:16 WARN Utils: Set SPARK_LOCAL_IP if you need to bind to another address\n",
      "Setting default log level to \"WARN\".\n",
      "To adjust logging level use sc.setLogLevel(newLevel). For SparkR, use setLogLevel(newLevel).\n",
      "24/06/01 06:35:17 WARN NativeCodeLoader: Unable to load native-hadoop library for your platform... using builtin-java classes where applicable\n"
     ]
    },
    {
     "data": {
      "text/html": [
       "\n",
       "            <div>\n",
       "                <p><b>SparkSession - in-memory</b></p>\n",
       "                \n",
       "        <div>\n",
       "            <p><b>SparkContext</b></p>\n",
       "\n",
       "            <p><a href=\"http://192.168.1.7:4040\">Spark UI</a></p>\n",
       "\n",
       "            <dl>\n",
       "              <dt>Version</dt>\n",
       "                <dd><code>v3.5.1</code></dd>\n",
       "              <dt>Master</dt>\n",
       "                <dd><code>local[4]</code></dd>\n",
       "              <dt>AppName</dt>\n",
       "                <dd><code>Spark The Definitive Guide</code></dd>\n",
       "            </dl>\n",
       "        </div>\n",
       "        \n",
       "            </div>\n",
       "        "
      ],
      "text/plain": [
       "<pyspark.sql.session.SparkSession at 0x7eb8817676d0>"
      ]
     },
     "execution_count": 1,
     "metadata": {},
     "output_type": "execute_result"
    },
    {
     "name": "stderr",
     "output_type": "stream",
     "text": [
      "----------------------------------------\n",
      "Exception occurred during processing of request from ('127.0.0.1', 51454)\n",
      "Traceback (most recent call last):\n",
      "  File \"/home/phinguyen/miniconda3/envs/pyspark/lib/python3.10/socketserver.py\", line 316, in _handle_request_noblock\n",
      "    self.process_request(request, client_address)\n",
      "  File \"/home/phinguyen/miniconda3/envs/pyspark/lib/python3.10/socketserver.py\", line 347, in process_request\n",
      "    self.finish_request(request, client_address)\n",
      "  File \"/home/phinguyen/miniconda3/envs/pyspark/lib/python3.10/socketserver.py\", line 360, in finish_request\n",
      "    self.RequestHandlerClass(request, client_address, self)\n",
      "  File \"/home/phinguyen/miniconda3/envs/pyspark/lib/python3.10/socketserver.py\", line 747, in __init__\n",
      "    self.handle()\n",
      "  File \"/home/phinguyen/miniconda3/envs/pyspark/lib/python3.10/site-packages/pyspark/accumulators.py\", line 295, in handle\n",
      "    poll(accum_updates)\n",
      "  File \"/home/phinguyen/miniconda3/envs/pyspark/lib/python3.10/site-packages/pyspark/accumulators.py\", line 267, in poll\n",
      "    if self.rfile in r and func():\n",
      "  File \"/home/phinguyen/miniconda3/envs/pyspark/lib/python3.10/site-packages/pyspark/accumulators.py\", line 271, in accum_updates\n",
      "    num_updates = read_int(self.rfile)\n",
      "  File \"/home/phinguyen/miniconda3/envs/pyspark/lib/python3.10/site-packages/pyspark/serializers.py\", line 596, in read_int\n",
      "    raise EOFError\n",
      "EOFError\n",
      "----------------------------------------\n"
     ]
    }
   ],
   "source": [
    "from pyspark.sql import SparkSession\n",
    "\n",
    "# Initialize SparkSession with Hive support\n",
    "spark = SparkSession.builder \\\n",
    "    .appName(\"Spark The Definitive Guide\") \\\n",
    "    .master(\"local[4]\") \\\n",
    "    .config(\"spark.driver.memory\", \"4g\") \\\n",
    "    .getOrCreate()\n",
    "spark"
   ]
  },
  {
   "cell_type": "code",
   "execution_count": 2,
   "id": "a722371e-53a9-41bf-82cc-e32278f8c7f7",
   "metadata": {},
   "outputs": [
    {
     "name": "stdout",
     "output_type": "stream",
     "text": [
      "+--------------------+-------------------+-----+\n",
      "|   DEST_COUNTRY_NAME|ORIGIN_COUNTRY_NAME|count|\n",
      "+--------------------+-------------------+-----+\n",
      "|       United States|            Romania|   15|\n",
      "|       United States|            Croatia|    1|\n",
      "|       United States|            Ireland|  344|\n",
      "|               Egypt|      United States|   15|\n",
      "|       United States|              India|   62|\n",
      "|       United States|          Singapore|    1|\n",
      "|       United States|            Grenada|   62|\n",
      "|          Costa Rica|      United States|  588|\n",
      "|             Senegal|      United States|   40|\n",
      "|             Moldova|      United States|    1|\n",
      "|       United States|       Sint Maarten|  325|\n",
      "|       United States|   Marshall Islands|   39|\n",
      "|              Guyana|      United States|   64|\n",
      "|               Malta|      United States|    1|\n",
      "|            Anguilla|      United States|   41|\n",
      "|             Bolivia|      United States|   30|\n",
      "|       United States|           Paraguay|    6|\n",
      "|             Algeria|      United States|    4|\n",
      "|Turks and Caicos ...|      United States|  230|\n",
      "|       United States|          Gibraltar|    1|\n",
      "+--------------------+-------------------+-----+\n",
      "only showing top 20 rows\n",
      "\n"
     ]
    }
   ],
   "source": [
    "df = spark.read.option(\"header\", \"true\").option(\"inferSchema\", \"true\").csv(\"./data/2015-summary.csv\")\n",
    "df.show()"
   ]
  },
  {
   "cell_type": "code",
   "execution_count": 3,
   "id": "ebb1fc16-81af-41f1-9a43-0bab2123e48b",
   "metadata": {},
   "outputs": [
    {
     "data": {
      "text/plain": [
       "1"
      ]
     },
     "execution_count": 3,
     "metadata": {},
     "output_type": "execute_result"
    }
   ],
   "source": [
    "df.rdd.getNumPartitions()"
   ]
  },
  {
   "cell_type": "code",
   "execution_count": 4,
   "id": "240f2161-c6f8-43f2-8140-df981a38863d",
   "metadata": {},
   "outputs": [
    {
     "name": "stdout",
     "output_type": "stream",
     "text": [
      "+-----------------+-------------------+-----+---------+\n",
      "|DEST_COUNTRY_NAME|ORIGIN_COUNTRY_NAME|count|numberOne|\n",
      "+-----------------+-------------------+-----+---------+\n",
      "|    United States|            Romania|   15|        1|\n",
      "|    United States|            Croatia|    1|        1|\n",
      "|    United States|            Ireland|  344|        1|\n",
      "+-----------------+-------------------+-----+---------+\n",
      "only showing top 3 rows\n",
      "\n"
     ]
    }
   ],
   "source": [
    "from pyspark.sql.functions import lit\n",
    "df.withColumn('numberOne', lit(1)).show(3)"
   ]
  },
  {
   "cell_type": "code",
   "execution_count": 5,
   "id": "4eefa397-f0d3-4837-84ca-08f4097979ad",
   "metadata": {},
   "outputs": [
    {
     "name": "stdout",
     "output_type": "stream",
     "text": [
      "+-----------------+-------------------+-----+------+\n",
      "|DEST_COUNTRY_NAME|ORIGIN_COUNTRY_NAME|count|count2|\n",
      "+-----------------+-------------------+-----+------+\n",
      "|    United States|            Romania|   15|    15|\n",
      "|    United States|            Croatia|    1|     1|\n",
      "|    United States|            Ireland|  344|   344|\n",
      "+-----------------+-------------------+-----+------+\n",
      "only showing top 3 rows\n",
      "\n"
     ]
    }
   ],
   "source": [
    "from pyspark.sql.functions import col\n",
    "\n",
    "df.withColumn('count2', col('count').cast('long')).show(3)"
   ]
  },
  {
   "cell_type": "code",
   "execution_count": 6,
   "id": "f5978d63-38fe-4d8c-b366-8bb8fe1b1656",
   "metadata": {},
   "outputs": [
    {
     "name": "stdout",
     "output_type": "stream",
     "text": [
      "+-----------------+-------------------+-----+\n",
      "|DEST_COUNTRY_NAME|ORIGIN_COUNTRY_NAME|count|\n",
      "+-----------------+-------------------+-----+\n",
      "|    United States|            Romania|   15|\n",
      "|    United States|            Ireland|  344|\n",
      "|            Egypt|      United States|   15|\n",
      "+-----------------+-------------------+-----+\n",
      "only showing top 3 rows\n",
      "\n"
     ]
    }
   ],
   "source": [
    "df.where('count > 2').show(3)"
   ]
  },
  {
   "cell_type": "code",
   "execution_count": 7,
   "id": "5e30ae56-f219-4629-a255-191aced84fd9",
   "metadata": {},
   "outputs": [
    {
     "name": "stdout",
     "output_type": "stream",
     "text": [
      "+-----------------+-------------------+-----+\n",
      "|DEST_COUNTRY_NAME|ORIGIN_COUNTRY_NAME|count|\n",
      "+-----------------+-------------------+-----+\n",
      "|    United States|            Romania|   15|\n",
      "|    United States|            Ireland|  344|\n",
      "|            Egypt|      United States|   15|\n",
      "+-----------------+-------------------+-----+\n",
      "only showing top 3 rows\n",
      "\n"
     ]
    }
   ],
   "source": [
    "df.filter(col('count') > 2).show(3)"
   ]
  },
  {
   "cell_type": "code",
   "execution_count": 8,
   "id": "32ca2e34-bb71-4e44-96b6-d6be47d92f6c",
   "metadata": {},
   "outputs": [
    {
     "name": "stdout",
     "output_type": "stream",
     "text": [
      "+-----------------+-------------------+\n",
      "|DEST_COUNTRY_NAME|ORIGIN_COUNTRY_NAME|\n",
      "+-----------------+-------------------+\n",
      "|          Croatia|      United States|\n",
      "|           Kosovo|      United States|\n",
      "|          Romania|      United States|\n",
      "|          Ireland|      United States|\n",
      "|    United States|              Egypt|\n",
      "|            India|      United States|\n",
      "|            Niger|      United States|\n",
      "|        Singapore|      United States|\n",
      "|          Grenada|      United States|\n",
      "|    United States|         Costa Rica|\n",
      "|    United States|            Senegal|\n",
      "| Marshall Islands|      United States|\n",
      "|     Sint Maarten|      United States|\n",
      "|    United States|              Malta|\n",
      "|    United States|             Guyana|\n",
      "|    United States|         Montenegro|\n",
      "|    United States|           Anguilla|\n",
      "|    United States|            Bolivia|\n",
      "|         Paraguay|      United States|\n",
      "|    United States|          Gibraltar|\n",
      "+-----------------+-------------------+\n",
      "only showing top 20 rows\n",
      "\n"
     ]
    }
   ],
   "source": [
    "df.select('DEST_COUNTRY_NAME', 'ORIGIN_COUNTRY_NAME').distinct().show()"
   ]
  },
  {
   "cell_type": "code",
   "execution_count": 9,
   "id": "3de92489-45d1-4720-8cd5-e801cb910338",
   "metadata": {},
   "outputs": [
    {
     "data": {
      "text/plain": [
       "132"
      ]
     },
     "execution_count": 9,
     "metadata": {},
     "output_type": "execute_result"
    }
   ],
   "source": [
    "df.select('DEST_COUNTRY_NAME').distinct().count()"
   ]
  },
  {
   "cell_type": "code",
   "execution_count": 10,
   "id": "b760ea99-30af-48e3-8e05-12c5b4f726f5",
   "metadata": {},
   "outputs": [
    {
     "data": {
      "text/plain": [
       "256"
      ]
     },
     "execution_count": 10,
     "metadata": {},
     "output_type": "execute_result"
    }
   ],
   "source": [
    "df.count()"
   ]
  },
  {
   "cell_type": "code",
   "execution_count": 11,
   "id": "98cb2cd3-757a-4d64-8057-d1feb200ccaa",
   "metadata": {},
   "outputs": [
    {
     "name": "stdout",
     "output_type": "stream",
     "text": [
      "+-----------------+-------------------+-----+\n",
      "|DEST_COUNTRY_NAME|ORIGIN_COUNTRY_NAME|count|\n",
      "+-----------------+-------------------+-----+\n",
      "|     Burkina Faso|      United States|    1|\n",
      "|    Cote d'Ivoire|      United States|    1|\n",
      "|           Cyprus|      United States|    1|\n",
      "|         Djibouti|      United States|    1|\n",
      "|        Indonesia|      United States|    1|\n",
      "+-----------------+-------------------+-----+\n",
      "only showing top 5 rows\n",
      "\n"
     ]
    }
   ],
   "source": [
    "from pyspark.sql.functions import desc, asc\n",
    "\n",
    "df.sort('count', 'DEST_COUNTRY_NAME').show(5)"
   ]
  },
  {
   "cell_type": "code",
   "execution_count": 12,
   "id": "ff645385-c04c-4f04-a837-0569905cfb3e",
   "metadata": {},
   "outputs": [
    {
     "name": "stdout",
     "output_type": "stream",
     "text": [
      "+-----------------+-------------------+------+\n",
      "|DEST_COUNTRY_NAME|ORIGIN_COUNTRY_NAME| count|\n",
      "+-----------------+-------------------+------+\n",
      "|    United States|      United States|370002|\n",
      "|    United States|             Canada|  8483|\n",
      "|           Canada|      United States|  8399|\n",
      "|    United States|             Mexico|  7187|\n",
      "|           Mexico|      United States|  7140|\n",
      "+-----------------+-------------------+------+\n",
      "only showing top 5 rows\n",
      "\n"
     ]
    }
   ],
   "source": [
    "df.sort(col('count').desc(), col('DEST_COUNTRY_NAME').asc()).show(5)"
   ]
  },
  {
   "cell_type": "code",
   "execution_count": 13,
   "id": "6a91ba1d-726b-4d99-b4dd-748738cf03d7",
   "metadata": {},
   "outputs": [],
   "source": [
    "df = spark.read.json('/home/phinguyen/data_engineering/Spark-The-Definitive-Guide/data/flight-data/json/*.json')"
   ]
  },
  {
   "cell_type": "code",
   "execution_count": 14,
   "id": "fa3e8d90-2dfd-4d73-a9e6-d54596aab782",
   "metadata": {},
   "outputs": [
    {
     "data": {
      "text/plain": [
       "3"
      ]
     },
     "execution_count": 14,
     "metadata": {},
     "output_type": "execute_result"
    }
   ],
   "source": [
    "df.rdd.getNumPartitions()"
   ]
  },
  {
   "cell_type": "code",
   "execution_count": 15,
   "id": "17e7c0af-74d8-45c5-bca8-059482cab483",
   "metadata": {},
   "outputs": [
    {
     "data": {
      "text/plain": [
       "DataFrame[DEST_COUNTRY_NAME: string, ORIGIN_COUNTRY_NAME: string, count: bigint]"
      ]
     },
     "execution_count": 15,
     "metadata": {},
     "output_type": "execute_result"
    }
   ],
   "source": [
    "df = df.sortWithinPartitions('count')\n",
    "df"
   ]
  },
  {
   "cell_type": "code",
   "execution_count": 16,
   "id": "239e28cb-5611-4ece-9396-5cc3bb4682b7",
   "metadata": {},
   "outputs": [
    {
     "name": "stderr",
     "output_type": "stream",
     "text": [
      "                                                                                \r"
     ]
    }
   ],
   "source": [
    "retail_df = spark.read \\\n",
    "            .option('header', 'true') \\\n",
    "            .option('inferSchema', 'true') \\\n",
    "            .csv(\"/home/phinguyen/data_engineering/Spark-The-Definitive-Guide/data/retail-data/by-day/*.csv\")"
   ]
  },
  {
   "cell_type": "code",
   "execution_count": 17,
   "id": "6d8334dd-9b2d-486d-a36f-a79f56dd1d17",
   "metadata": {},
   "outputs": [
    {
     "data": {
      "text/plain": [
       "10"
      ]
     },
     "execution_count": 17,
     "metadata": {},
     "output_type": "execute_result"
    }
   ],
   "source": [
    "retail_df.rdd.getNumPartitions()"
   ]
  },
  {
   "cell_type": "code",
   "execution_count": 18,
   "id": "ab7cf9e6-07e6-4026-93b3-441ae96abaf0",
   "metadata": {},
   "outputs": [
    {
     "name": "stdout",
     "output_type": "stream",
     "text": [
      "root\n",
      " |-- InvoiceNo: string (nullable = true)\n",
      " |-- StockCode: string (nullable = true)\n",
      " |-- Description: string (nullable = true)\n",
      " |-- Quantity: integer (nullable = true)\n",
      " |-- InvoiceDate: timestamp (nullable = true)\n",
      " |-- UnitPrice: double (nullable = true)\n",
      " |-- CustomerID: double (nullable = true)\n",
      " |-- Country: string (nullable = true)\n",
      "\n"
     ]
    }
   ],
   "source": [
    "retail_df.printSchema()"
   ]
  },
  {
   "cell_type": "code",
   "execution_count": 19,
   "id": "b6d2c8b4-9150-4846-b595-ae6e3f57605a",
   "metadata": {},
   "outputs": [
    {
     "name": "stdout",
     "output_type": "stream",
     "text": [
      "+---------+---------+--------------------+--------+-------------------+---------+----------+--------------+\n",
      "|InvoiceNo|StockCode|         Description|Quantity|        InvoiceDate|UnitPrice|CustomerID|       Country|\n",
      "+---------+---------+--------------------+--------+-------------------+---------+----------+--------------+\n",
      "|   536365|   85123A|WHITE HANGING HEA...|       6|2010-12-01 08:26:00|     2.55|   17850.0|United Kingdom|\n",
      "|   536365|    71053| WHITE METAL LANTERN|       6|2010-12-01 08:26:00|     3.39|   17850.0|United Kingdom|\n",
      "|   536365|   84406B|CREAM CUPID HEART...|       8|2010-12-01 08:26:00|     2.75|   17850.0|United Kingdom|\n",
      "|   536365|   84029G|KNITTED UNION FLA...|       6|2010-12-01 08:26:00|     3.39|   17850.0|United Kingdom|\n",
      "|   536365|   84029E|RED WOOLLY HOTTIE...|       6|2010-12-01 08:26:00|     3.39|   17850.0|United Kingdom|\n",
      "|   536365|    22752|SET 7 BABUSHKA NE...|       2|2010-12-01 08:26:00|     7.65|   17850.0|United Kingdom|\n",
      "|   536365|    21730|GLASS STAR FROSTE...|       6|2010-12-01 08:26:00|     4.25|   17850.0|United Kingdom|\n",
      "+---------+---------+--------------------+--------+-------------------+---------+----------+--------------+\n",
      "\n"
     ]
    }
   ],
   "source": [
    "retail_df.filter(col('InvoiceNo') == 536365).show()"
   ]
  },
  {
   "cell_type": "code",
   "execution_count": 20,
   "id": "13d2d6b3-29bc-403a-8a98-63cae2e67c6a",
   "metadata": {},
   "outputs": [
    {
     "name": "stdout",
     "output_type": "stream",
     "text": [
      "+---------+---------+--------------+--------+-------------------+---------+----------+--------------+\n",
      "|InvoiceNo|StockCode|   Description|Quantity|        InvoiceDate|UnitPrice|CustomerID|       Country|\n",
      "+---------+---------+--------------+--------+-------------------+---------+----------+--------------+\n",
      "|   580610|      DOT|DOTCOM POSTAGE|       1|2011-12-05 11:48:00|  2196.67|      NULL|United Kingdom|\n",
      "|   580612|      DOT|DOTCOM POSTAGE|       1|2011-12-05 11:58:00|   2114.0|      NULL|United Kingdom|\n",
      "|   580727|      DOT|DOTCOM POSTAGE|       1|2011-12-05 17:17:00|  1599.26|   14096.0|United Kingdom|\n",
      "|   580729|      DOT|DOTCOM POSTAGE|       1|2011-12-05 17:24:00|   1172.1|      NULL|United Kingdom|\n",
      "|   580730|      DOT|DOTCOM POSTAGE|       1|2011-12-05 17:28:00|   845.23|      NULL|United Kingdom|\n",
      "|   581217|      DOT|DOTCOM POSTAGE|       1|2011-12-08 09:20:00|    863.8|      NULL|United Kingdom|\n",
      "|   581219|      DOT|DOTCOM POSTAGE|       1|2011-12-08 09:28:00|  1008.96|      NULL|United Kingdom|\n",
      "|   581238|      DOT|DOTCOM POSTAGE|       1|2011-12-08 10:53:00|  1683.75|      NULL|United Kingdom|\n",
      "|   581439|      DOT|DOTCOM POSTAGE|       1|2011-12-08 16:30:00|   938.59|      NULL|United Kingdom|\n",
      "|   579297|      DOT|DOTCOM POSTAGE|       1|2011-11-29 11:23:00|   1563.0|      NULL|United Kingdom|\n",
      "|   579471|      DOT|DOTCOM POSTAGE|       1|2011-11-29 15:08:00|    892.5|      NULL|United Kingdom|\n",
      "|   579508|      DOT|DOTCOM POSTAGE|       1|2011-11-29 16:33:00|   732.69|      NULL|United Kingdom|\n",
      "|   579512|      DOT|DOTCOM POSTAGE|       1|2011-11-29 16:47:00|   620.22|      NULL|United Kingdom|\n",
      "|   576644|      DOT|DOTCOM POSTAGE|       1|2011-11-16 10:01:00|  1556.08|      NULL|United Kingdom|\n",
      "|   576837|      DOT|DOTCOM POSTAGE|       1|2011-11-16 15:16:00|   710.95|      NULL|United Kingdom|\n",
      "|   576840|      DOT|DOTCOM POSTAGE|       1|2011-11-16 15:23:00|   690.21|      NULL|United Kingdom|\n",
      "|   574950|      DOT|DOTCOM POSTAGE|       1|2011-11-08 09:29:00|    401.8|      NULL|United Kingdom|\n",
      "|   575138|      DOT|DOTCOM POSTAGE|       1|2011-11-08 15:24:00|  1483.21|      NULL|United Kingdom|\n",
      "|   575176|      DOT|DOTCOM POSTAGE|       1|2011-11-08 18:29:00|   428.78|      NULL|United Kingdom|\n",
      "|   575177|      DOT|DOTCOM POSTAGE|       1|2011-11-08 18:41:00|   375.71|      NULL|United Kingdom|\n",
      "+---------+---------+--------------+--------+-------------------+---------+----------+--------------+\n",
      "only showing top 20 rows\n",
      "\n"
     ]
    }
   ],
   "source": [
    "from pyspark.sql.functions import instr\n",
    "\n",
    "priceFilter = col('UnitPrice') > 600\n",
    "descriptFilter = instr(retail_df.Description, \"POSTAGE\") >= 1\n",
    "\n",
    "retail_df \\\n",
    ".filter(retail_df.StockCode.isin(\"DOT\")) \\\n",
    ".filter(priceFilter | descriptFilter) \\\n",
    ".show()"
   ]
  },
  {
   "cell_type": "code",
   "execution_count": 21,
   "id": "b63157ba-a263-438b-a9a0-6370db004850",
   "metadata": {},
   "outputs": [
    {
     "name": "stderr",
     "output_type": "stream",
     "text": [
      "24/06/01 06:35:25 WARN SparkStringUtils: Truncated the string representation of a plan since it was too large. This behavior can be adjusted by setting 'spark.sql.debug.maxToStringFields'.\n",
      "[Stage 30:============================>                            (5 + 4) / 10]\r"
     ]
    },
    {
     "name": "stdout",
     "output_type": "stream",
     "text": [
      "+-------+------------------+------------------+--------------------+-----------------+-----------------+------------------+-----------+\n",
      "|summary|         InvoiceNo|         StockCode|         Description|         Quantity|        UnitPrice|        CustomerID|    Country|\n",
      "+-------+------------------+------------------+--------------------+-----------------+-----------------+------------------+-----------+\n",
      "|  count|            541909|            541909|              540455|           541909|           541909|            406829|     541909|\n",
      "|   mean|  559965.752026781|27623.240210938104|             20713.0| 9.55224954743324|4.611113626089641|15287.690570239585|       NULL|\n",
      "| stddev|13428.417280796697|16799.737628427683|                NULL|218.0811578502335|96.75985306117963| 1713.600303321597|       NULL|\n",
      "|    min|            536365|             10002| 4 PURPLE FLOCK D...|           -80995|        -11062.06|           12346.0|  Australia|\n",
      "|    max|           C581569|                 m|   wrongly sold sets|            80995|          38970.0|           18287.0|Unspecified|\n",
      "+-------+------------------+------------------+--------------------+-----------------+-----------------+------------------+-----------+\n",
      "\n"
     ]
    },
    {
     "name": "stderr",
     "output_type": "stream",
     "text": [
      "                                                                                \r"
     ]
    }
   ],
   "source": [
    "retail_df.describe().show()"
   ]
  },
  {
   "cell_type": "code",
   "execution_count": 22,
   "id": "5f52b558-234e-4e80-b157-f92bfe6e7403",
   "metadata": {},
   "outputs": [
    {
     "name": "stdout",
     "output_type": "stream",
     "text": [
      "+-------------+\n",
      "|sum(Quantity)|\n",
      "+-------------+\n",
      "|      5176450|\n",
      "+-------------+\n",
      "\n"
     ]
    }
   ],
   "source": [
    "from pyspark.sql.functions import count, mean, stddev_pop, min, max, sum\n",
    "\n",
    "retail_df.agg(sum('Quantity')).show()"
   ]
  },
  {
   "cell_type": "code",
   "execution_count": 23,
   "id": "cfc81c56-399e-4a02-83ab-03c2093fcdcb",
   "metadata": {},
   "outputs": [
    {
     "name": "stdout",
     "output_type": "stream",
     "text": [
      "+--------------+\n",
      "|max(InvoiceNo)|\n",
      "+--------------+\n",
      "|       C581569|\n",
      "+--------------+\n",
      "\n"
     ]
    }
   ],
   "source": [
    "retail_df.agg(max('InvoiceNo')).show()"
   ]
  },
  {
   "cell_type": "code",
   "execution_count": 24,
   "id": "546f228d-7634-4860-9d94-17941041d637",
   "metadata": {},
   "outputs": [
    {
     "data": {
      "text/plain": [
       "10"
      ]
     },
     "execution_count": 24,
     "metadata": {},
     "output_type": "execute_result"
    }
   ],
   "source": [
    "retail_df.rdd.getNumPartitions()"
   ]
  },
  {
   "cell_type": "code",
   "execution_count": 25,
   "id": "eecbeb1b-ccdb-4515-b785-4b921ada706c",
   "metadata": {},
   "outputs": [
    {
     "name": "stdout",
     "output_type": "stream",
     "text": [
      "+---------+---------+-------------------+--------+-------------------+---------+----------+--------------+\n",
      "|InvoiceNo|StockCode|        Description|Quantity|        InvoiceDate|UnitPrice|CustomerID|       Country|\n",
      "+---------+---------+-------------------+--------+-------------------+---------+----------+--------------+\n",
      "|   580538|    23084| RABBIT NIGHT LIGHT|      48|2011-12-05 08:38:00|     1.79|   14075.0|United Kingdom|\n",
      "|   580538|    23077|DOUGHNUT LIP GLOSS |      20|2011-12-05 08:38:00|     1.25|   14075.0|United Kingdom|\n",
      "+---------+---------+-------------------+--------+-------------------+---------+----------+--------------+\n",
      "only showing top 2 rows\n",
      "\n"
     ]
    }
   ],
   "source": [
    "retail_df.show(2)"
   ]
  },
  {
   "cell_type": "code",
   "execution_count": 26,
   "id": "741bad17-4c77-428f-8ad0-083ddb93692e",
   "metadata": {},
   "outputs": [],
   "source": [
    "from pyspark.sql.functions import struct\n",
    "\n",
    "complexDF = retail_df.select(struct('Quantity', 'InvoiceNo').alias('complexColumn'), 'Country')"
   ]
  },
  {
   "cell_type": "code",
   "execution_count": 27,
   "id": "d326e744-ff10-4978-8ece-d7c6523c41fb",
   "metadata": {},
   "outputs": [
    {
     "name": "stdout",
     "output_type": "stream",
     "text": [
      "+-------------+--------------+\n",
      "|complexColumn|       Country|\n",
      "+-------------+--------------+\n",
      "| {48, 580538}|United Kingdom|\n",
      "| {20, 580538}|United Kingdom|\n",
      "| {24, 580538}|United Kingdom|\n",
      "| {24, 580538}|United Kingdom|\n",
      "|  {6, 580538}|United Kingdom|\n",
      "+-------------+--------------+\n",
      "only showing top 5 rows\n",
      "\n"
     ]
    }
   ],
   "source": [
    "complexDF.show(5)"
   ]
  },
  {
   "cell_type": "code",
   "execution_count": 28,
   "id": "57283042-4cc9-4c0f-b9cb-604c81a93e09",
   "metadata": {},
   "outputs": [
    {
     "name": "stdout",
     "output_type": "stream",
     "text": [
      "+----------------------+--------------+\n",
      "|complexColumn.Quantity|       Country|\n",
      "+----------------------+--------------+\n",
      "|                    48|United Kingdom|\n",
      "|                    20|United Kingdom|\n",
      "+----------------------+--------------+\n",
      "only showing top 2 rows\n",
      "\n"
     ]
    }
   ],
   "source": [
    "complexDF.select(col('complexColumn').getField('Quantity'), 'Country').show(2)"
   ]
  },
  {
   "cell_type": "code",
   "execution_count": 29,
   "id": "009a5267-1671-49f6-8f9b-eb654fb3434a",
   "metadata": {},
   "outputs": [
    {
     "name": "stdout",
     "output_type": "stream",
     "text": [
      "+--------+---------+--------------+\n",
      "|Quantity|InvoiceNo|       Country|\n",
      "+--------+---------+--------------+\n",
      "|      48|   580538|United Kingdom|\n",
      "|      20|   580538|United Kingdom|\n",
      "+--------+---------+--------------+\n",
      "only showing top 2 rows\n",
      "\n"
     ]
    }
   ],
   "source": [
    "complexDF.select('complexColumn.*', 'Country').show(2)"
   ]
  },
  {
   "cell_type": "code",
   "execution_count": 30,
   "id": "b1faad9d-dcb5-465c-b797-05511b92e846",
   "metadata": {},
   "outputs": [
    {
     "name": "stdout",
     "output_type": "stream",
     "text": [
      "+--------------------+\n",
      "|    ArrayDescription|\n",
      "+--------------------+\n",
      "|[RABBIT, NIGHT, L...|\n",
      "|[DOUGHNUT, LIP, G...|\n",
      "+--------------------+\n",
      "only showing top 2 rows\n",
      "\n"
     ]
    }
   ],
   "source": [
    "from pyspark.sql.functions import split, size\n",
    "\n",
    "retail_df.select(split(col('Description'), pattern=' ').alias('ArrayDescription')).show(2)"
   ]
  },
  {
   "cell_type": "code",
   "execution_count": 31,
   "id": "f0b97ed4-c6b0-439c-8d6b-1c9ea67027e1",
   "metadata": {},
   "outputs": [
    {
     "name": "stdout",
     "output_type": "stream",
     "text": [
      "+-------------------+\n",
      "|ArrayDescription[0]|\n",
      "+-------------------+\n",
      "|             RABBIT|\n",
      "|           DOUGHNUT|\n",
      "|                 12|\n",
      "+-------------------+\n",
      "only showing top 3 rows\n",
      "\n"
     ]
    }
   ],
   "source": [
    "retail_df.select(split(col('Description'), pattern=' ').alias('ArrayDescription')) \\\n",
    "            .selectExpr('ArrayDescription[0]').show(3)"
   ]
  },
  {
   "cell_type": "code",
   "execution_count": 32,
   "id": "3ee84651-ca2e-4dfd-a7f5-c38bd9e63efb",
   "metadata": {},
   "outputs": [
    {
     "name": "stdout",
     "output_type": "stream",
     "text": [
      "+--------------------+---------------------------------------------------------+\n",
      "|    ArrayDescription|size(split(Description,  , -1) AS ArrayDescriptionLength)|\n",
      "+--------------------+---------------------------------------------------------+\n",
      "|[RABBIT, NIGHT, L...|                                                        3|\n",
      "|[DOUGHNUT, LIP, G...|                                                        4|\n",
      "|[12, MESSAGE, CAR...|                                                        5|\n",
      "+--------------------+---------------------------------------------------------+\n",
      "only showing top 3 rows\n",
      "\n"
     ]
    }
   ],
   "source": [
    "retail_df.select(split(col('Description'), pattern=' ').alias('ArrayDescription'),\n",
    "                 size(split(col('Description'), pattern=' ').alias('ArrayDescriptionLength'))).show(3)"
   ]
  },
  {
   "cell_type": "code",
   "execution_count": 33,
   "id": "4f31c8b3-eb6f-45dd-ae04-2a3e1450abb3",
   "metadata": {},
   "outputs": [
    {
     "name": "stdout",
     "output_type": "stream",
     "text": [
      "+-------------------+--------+\n",
      "|        Description|exploded|\n",
      "+-------------------+--------+\n",
      "| RABBIT NIGHT LIGHT|  RABBIT|\n",
      "| RABBIT NIGHT LIGHT|   NIGHT|\n",
      "| RABBIT NIGHT LIGHT|   LIGHT|\n",
      "|DOUGHNUT LIP GLOSS |DOUGHNUT|\n",
      "|DOUGHNUT LIP GLOSS |     LIP|\n",
      "+-------------------+--------+\n",
      "only showing top 5 rows\n",
      "\n"
     ]
    }
   ],
   "source": [
    "from pyspark.sql.functions import explode\n",
    "\n",
    "retail_df.withColumn('splitted', split('Description', ' ')) \\\n",
    "            .withColumn('exploded', explode('splitted')) \\\n",
    "            .select('Description', 'exploded').show(5)    "
   ]
  },
  {
   "cell_type": "code",
   "execution_count": 34,
   "id": "4079e434-99d9-42c4-8fd8-cb228c410771",
   "metadata": {},
   "outputs": [
    {
     "name": "stdout",
     "output_type": "stream",
     "text": [
      "+---------+---------+-------------------+--------+-------------------+---------+----------+--------------+\n",
      "|InvoiceNo|StockCode|        Description|Quantity|        InvoiceDate|UnitPrice|CustomerID|       Country|\n",
      "+---------+---------+-------------------+--------+-------------------+---------+----------+--------------+\n",
      "|   580538|    23084| RABBIT NIGHT LIGHT|      48|2011-12-05 08:38:00|     1.79|   14075.0|United Kingdom|\n",
      "|   580538|    23077|DOUGHNUT LIP GLOSS |      20|2011-12-05 08:38:00|     1.25|   14075.0|United Kingdom|\n",
      "+---------+---------+-------------------+--------+-------------------+---------+----------+--------------+\n",
      "only showing top 2 rows\n",
      "\n"
     ]
    }
   ],
   "source": [
    "retail_df.show(2)"
   ]
  },
  {
   "cell_type": "code",
   "execution_count": 35,
   "id": "d3a9800d-5e6a-43ba-a808-197d14b1103b",
   "metadata": {},
   "outputs": [
    {
     "name": "stdout",
     "output_type": "stream",
     "text": [
      "+-------------------+\n",
      "|        complex_map|\n",
      "+-------------------+\n",
      "|{580538 -> 14075.0}|\n",
      "|{580538 -> 14075.0}|\n",
      "|{580538 -> 14075.0}|\n",
      "+-------------------+\n",
      "only showing top 3 rows\n",
      "\n"
     ]
    }
   ],
   "source": [
    "from pyspark.sql.functions import create_map\n",
    "\n",
    "retail_df.select(create_map('InvoiceNo', 'CustomerID').alias('complex_map')).show(3)"
   ]
  },
  {
   "cell_type": "code",
   "execution_count": 36,
   "id": "04810498-d3f6-49e8-b46e-2959fde03a42",
   "metadata": {},
   "outputs": [
    {
     "name": "stdout",
     "output_type": "stream",
     "text": [
      "+-------------------+\n",
      "|complex_map[580538]|\n",
      "+-------------------+\n",
      "|            14075.0|\n",
      "|            14075.0|\n",
      "|            14075.0|\n",
      "|            14075.0|\n",
      "|            14075.0|\n",
      "|            14075.0|\n",
      "|            14075.0|\n",
      "|            14075.0|\n",
      "|               NULL|\n",
      "|               NULL|\n",
      "|               NULL|\n",
      "|               NULL|\n",
      "|               NULL|\n",
      "|               NULL|\n",
      "|               NULL|\n",
      "|               NULL|\n",
      "|               NULL|\n",
      "|               NULL|\n",
      "|               NULL|\n",
      "|               NULL|\n",
      "+-------------------+\n",
      "only showing top 20 rows\n",
      "\n"
     ]
    }
   ],
   "source": [
    "retail_df.select(create_map('InvoiceNo', 'CustomerID').alias('complex_map')) \\\n",
    "            .selectExpr('complex_map[580538]').show()"
   ]
  },
  {
   "cell_type": "code",
   "execution_count": 37,
   "id": "ea58f323-cd8b-4094-82bd-15dd36189ef2",
   "metadata": {},
   "outputs": [
    {
     "name": "stdout",
     "output_type": "stream",
     "text": [
      "+------+-------+\n",
      "|   key|  value|\n",
      "+------+-------+\n",
      "|580538|14075.0|\n",
      "|580538|14075.0|\n",
      "|580538|14075.0|\n",
      "|580538|14075.0|\n",
      "|580538|14075.0|\n",
      "|580538|14075.0|\n",
      "|580538|14075.0|\n",
      "|580538|14075.0|\n",
      "|580539|18180.0|\n",
      "|580539|18180.0|\n",
      "+------+-------+\n",
      "only showing top 10 rows\n",
      "\n"
     ]
    }
   ],
   "source": [
    "retail_df.select(create_map('InvoiceNo', 'CustomerID').alias('complex_map')) \\\n",
    "            .selectExpr('explode(complex_map)').show(10)"
   ]
  },
  {
   "cell_type": "code",
   "execution_count": 38,
   "id": "b8322798-54a6-4c93-a9b5-9a138be65ef0",
   "metadata": {},
   "outputs": [],
   "source": [
    "df = retail_df"
   ]
  },
  {
   "cell_type": "code",
   "execution_count": 39,
   "id": "ad9b7652-7193-4fee-be47-ffb74588ad4c",
   "metadata": {},
   "outputs": [
    {
     "data": {
      "text/plain": [
       "DataFrame[InvoiceNo: string, StockCode: string, Description: string, Quantity: int, InvoiceDate: timestamp, UnitPrice: double, CustomerID: double, Country: string]"
      ]
     },
     "execution_count": 39,
     "metadata": {},
     "output_type": "execute_result"
    }
   ],
   "source": [
    "df.cache()"
   ]
  },
  {
   "cell_type": "code",
   "execution_count": 40,
   "id": "3b9845b9-c646-4ae7-baf5-be009502b7f8",
   "metadata": {},
   "outputs": [],
   "source": [
    "df.createOrReplaceGlobalTempView('dfTable')"
   ]
  },
  {
   "cell_type": "code",
   "execution_count": 41,
   "id": "845f316f-c830-4bfd-a2aa-1515a22282e6",
   "metadata": {},
   "outputs": [
    {
     "data": {
      "text/plain": [
       "541909"
      ]
     },
     "execution_count": 41,
     "metadata": {},
     "output_type": "execute_result"
    }
   ],
   "source": [
    "df.count()"
   ]
  },
  {
   "cell_type": "code",
   "execution_count": 42,
   "id": "ec5f4593-ba6c-469d-814b-d8e5b16ac6c3",
   "metadata": {},
   "outputs": [
    {
     "name": "stdout",
     "output_type": "stream",
     "text": [
      "+----------------+\n",
      "|count(StockCode)|\n",
      "+----------------+\n",
      "|          541909|\n",
      "+----------------+\n",
      "\n"
     ]
    }
   ],
   "source": [
    "df.select(count('StockCode')).show()"
   ]
  },
  {
   "cell_type": "code",
   "execution_count": 43,
   "id": "26f76da7-61d8-412b-a2b1-66758e5c04ab",
   "metadata": {},
   "outputs": [
    {
     "name": "stdout",
     "output_type": "stream",
     "text": [
      "+-------------------------+\n",
      "|count(DISTINCT StockCode)|\n",
      "+-------------------------+\n",
      "|                     4070|\n",
      "+-------------------------+\n",
      "\n"
     ]
    }
   ],
   "source": [
    "from pyspark.sql.functions import countDistinct\n",
    "\n",
    "df.select(countDistinct('StockCode')).show()"
   ]
  },
  {
   "cell_type": "code",
   "execution_count": 44,
   "id": "5b0174d7-4848-45c9-bd43-ed8651032ef3",
   "metadata": {},
   "outputs": [
    {
     "name": "stdout",
     "output_type": "stream",
     "text": [
      "+--------------------------------+\n",
      "|approx_count_distinct(StockCode)|\n",
      "+--------------------------------+\n",
      "|                            3804|\n",
      "+--------------------------------+\n",
      "\n"
     ]
    }
   ],
   "source": [
    "from pyspark.sql.functions import approx_count_distinct\n",
    "\n",
    "df.select(approx_count_distinct('StockCode', 0.05)).show()"
   ]
  },
  {
   "cell_type": "code",
   "execution_count": 45,
   "id": "c98de32b-5b68-4662-94a8-2e23a92375b2",
   "metadata": {},
   "outputs": [
    {
     "name": "stdout",
     "output_type": "stream",
     "text": [
      "+---------+----------+-----+\n",
      "|InvoiceNo|CustomerId|count|\n",
      "+---------+----------+-----+\n",
      "|   580657|   14696.0|   20|\n",
      "|   581474|   12748.0|   24|\n",
      "|   576641|   17549.0|    4|\n",
      "|   575753|   17841.0|   80|\n",
      "|   576357|   15660.0|   18|\n",
      "|  C579018|   16678.0|    1|\n",
      "|   579062|   17651.0|   16|\n",
      "|   570413|   17652.0|   18|\n",
      "|  C569961|   13704.0|    1|\n",
      "|   537252|      NULL|    1|\n",
      "|   580739|      NULL|    2|\n",
      "|   573726|      NULL|    1|\n",
      "|   570264|      NULL|    1|\n",
      "|   536596|      NULL|    6|\n",
      "|   567695|      NULL|    1|\n",
      "|   580538|   14075.0|    8|\n",
      "|   581231|   14291.0|    1|\n",
      "|   579507|   15297.0|   16|\n",
      "|   576874|   15432.0|   10|\n",
      "|   574994|   17870.0|   16|\n",
      "+---------+----------+-----+\n",
      "only showing top 20 rows\n",
      "\n"
     ]
    }
   ],
   "source": [
    "df.groupby('InvoiceNo', 'CustomerId').count().show()"
   ]
  },
  {
   "cell_type": "code",
   "execution_count": 46,
   "id": "bc3e5d17-28b7-4bab-a33a-afa4814ec26d",
   "metadata": {},
   "outputs": [
    {
     "name": "stdout",
     "output_type": "stream",
     "text": [
      "+---------+------------+-----------------+\n",
      "|InvoiceNo|customer_cnt|count(CustomerID)|\n",
      "+---------+------------+-----------------+\n",
      "|   574966|           8|                8|\n",
      "|   575091|          38|               38|\n",
      "|   578057|          28|               28|\n",
      "|   537252|           0|                0|\n",
      "|   578459|           8|                8|\n",
      "|  C578132|           1|                1|\n",
      "|   578292|          72|               72|\n",
      "|   576112|          20|               20|\n",
      "|   577022|          38|               38|\n",
      "|   574592|           8|                8|\n",
      "|  C576393|           2|                2|\n",
      "|   577511|          46|               46|\n",
      "|   577541|          21|               21|\n",
      "|   580739|           0|                0|\n",
      "|   580906|           4|                4|\n",
      "|   573726|           0|                0|\n",
      "|   575671|          20|               20|\n",
      "|   570264|           0|                0|\n",
      "|   570281|           3|                3|\n",
      "|   569823|          69|               69|\n",
      "+---------+------------+-----------------+\n",
      "only showing top 20 rows\n",
      "\n"
     ]
    }
   ],
   "source": [
    "from pyspark.sql.functions import expr\n",
    "\n",
    "df.groupby('InvoiceNo').agg(\n",
    "    count('CustomerID').alias('customer_cnt'),\n",
    "    expr('count(CustomerID)')\n",
    ").show()"
   ]
  },
  {
   "cell_type": "code",
   "execution_count": 47,
   "id": "0968c129-83fc-4730-b66e-3c89ede6de3b",
   "metadata": {},
   "outputs": [
    {
     "name": "stdout",
     "output_type": "stream",
     "text": [
      "+---------+---------+-------------------+--------+-------------------+---------+----------+--------------+----------+\n",
      "|InvoiceNo|StockCode|        Description|Quantity|        InvoiceDate|UnitPrice|CustomerID|       Country|      date|\n",
      "+---------+---------+-------------------+--------+-------------------+---------+----------+--------------+----------+\n",
      "|   580538|    23084| RABBIT NIGHT LIGHT|      48|2011-12-05 08:38:00|     1.79|   14075.0|United Kingdom|2011-12-05|\n",
      "|   580538|    23077|DOUGHNUT LIP GLOSS |      20|2011-12-05 08:38:00|     1.25|   14075.0|United Kingdom|2011-12-05|\n",
      "+---------+---------+-------------------+--------+-------------------+---------+----------+--------------+----------+\n",
      "only showing top 2 rows\n",
      "\n"
     ]
    }
   ],
   "source": [
    "from pyspark.sql.functions import to_date\n",
    "\n",
    "dfWithDate = df.withColumn('date', to_date(col('InvoiceDate'), 'MM/d/yyyy H:mm'))\n",
    "dfWithDate.show(2)"
   ]
  },
  {
   "cell_type": "code",
   "execution_count": 48,
   "id": "0f42eb6c-e094-4489-9029-bdbcf55c17b9",
   "metadata": {},
   "outputs": [],
   "source": [
    "from pyspark.sql.window import Window\n",
    "\n",
    "windowSpec = Window\\\n",
    "    .partitionBy('CustomerID', 'date')\\\n",
    "    .orderBy(desc('Quantity'))\\\n",
    "    .rowsBetween(Window.unboundedPreceding, Window.currentRow)"
   ]
  },
  {
   "cell_type": "code",
   "execution_count": 49,
   "id": "6a3d764e-1790-420f-a61e-2e000755d15e",
   "metadata": {},
   "outputs": [
    {
     "data": {
      "text/plain": [
       "Column<'max(Quantity) OVER (PARTITION BY CustomerID, date ORDER BY Quantity DESC NULLS LAST ROWS BETWEEN UNBOUNDED PRECEDING AND CURRENT ROW)'>"
      ]
     },
     "execution_count": 49,
     "metadata": {},
     "output_type": "execute_result"
    }
   ],
   "source": [
    "maxPurchaseQuantity = max(col('Quantity')).over(windowSpec)\n",
    "maxPurchaseQuantity"
   ]
  },
  {
   "cell_type": "code",
   "execution_count": null,
   "id": "09bbaf1f-e1f7-4225-a4c7-da4409c83b17",
   "metadata": {},
   "outputs": [],
   "source": []
  },
  {
   "cell_type": "code",
   "execution_count": 50,
   "id": "450786be-d3ec-412a-a049-452520fa874a",
   "metadata": {},
   "outputs": [
    {
     "name": "stdout",
     "output_type": "stream",
     "text": [
      "+----------+----------+--------+---+---------+--------+\n",
      "|CustomerId|      date|Quantity|rnk|dense_rnk|purchase|\n",
      "+----------+----------+--------+---+---------+--------+\n",
      "|   12431.0|2010-12-01|      24|  1|        1|      24|\n",
      "|   12431.0|2010-12-01|      24|  1|        1|      24|\n",
      "|   12431.0|2010-12-01|      12|  3|        2|      24|\n",
      "|   12431.0|2010-12-01|       8|  4|        3|      24|\n",
      "|   12431.0|2010-12-01|       6|  5|        4|      24|\n",
      "|   12431.0|2010-12-01|       6|  5|        4|      24|\n",
      "|   12431.0|2010-12-01|       6|  5|        4|      24|\n",
      "|   12431.0|2010-12-01|       4|  8|        5|      24|\n",
      "|   12431.0|2010-12-01|       4|  8|        5|      24|\n",
      "|   12431.0|2010-12-01|       4|  8|        5|      24|\n",
      "|   12431.0|2010-12-01|       3| 11|        6|      24|\n",
      "|   12431.0|2010-12-01|       2| 12|        7|      24|\n",
      "|   12431.0|2010-12-01|       2| 12|        7|      24|\n",
      "|   12431.0|2010-12-01|       2| 12|        7|      24|\n",
      "|   12433.0|2010-12-01|      48|  5|        4|      96|\n",
      "|   12433.0|2010-12-01|      96|  1|        1|      96|\n",
      "|   12433.0|2010-12-01|      72|  2|        2|      96|\n",
      "|   12433.0|2010-12-01|      72|  2|        2|      96|\n",
      "|   12433.0|2010-12-01|      50|  4|        3|      96|\n",
      "|   12433.0|2010-12-01|      48|  5|        4|      96|\n",
      "+----------+----------+--------+---+---------+--------+\n",
      "only showing top 20 rows\n",
      "\n"
     ]
    }
   ],
   "source": [
    "dfWithDate.createOrReplaceGlobalTempView('dfWithDateTable')\n",
    "\n",
    "spark.sql(\"\"\"\n",
    "    SELECT \n",
    "        CustomerId\n",
    "        , date\n",
    "        , Quantity\n",
    "        , rank(Quantity) over(partition by CustomerId, date order by quantity desc) as rnk\n",
    "        , dense_rank(Quantity) over(partition by CustomerId, date order by quantity desc) as dense_rnk\n",
    "        , max(Quantity) over(partition by CustomerId, date order by quantity desc) as purchase\n",
    "    FROM global_temp.dfWithDateTable\n",
    "    WHERE CustomerId is not null\n",
    "    ORDER BY date, CustomerId\n",
    "\"\"\").show()"
   ]
  },
  {
   "cell_type": "markdown",
   "id": "157dde52-5f59-4494-beeb-085ab5d0c773",
   "metadata": {},
   "source": [
    "# RDD"
   ]
  },
  {
   "cell_type": "code",
   "execution_count": 51,
   "id": "782dc158-e03a-455c-bc94-a4425d7468af",
   "metadata": {},
   "outputs": [],
   "source": [
    "myCollection = \"Spark The Definitive Guide : Big Data Processing Made Simple\"\\\n",
    ".split(\" \")\n",
    "words = spark.sparkContext.parallelize(myCollection, 2)"
   ]
  },
  {
   "cell_type": "code",
   "execution_count": 52,
   "id": "3473bf1b-4fc2-42fb-a491-58d7ad07950c",
   "metadata": {},
   "outputs": [
    {
     "data": {
      "text/plain": [
       "'myWords'"
      ]
     },
     "execution_count": 52,
     "metadata": {},
     "output_type": "execute_result"
    }
   ],
   "source": [
    "words.setName(\"myWords\")\n",
    "words.name() # myWords"
   ]
  },
  {
   "cell_type": "code",
   "execution_count": 53,
   "id": "49b6d1af-382f-4f9d-84d5-e10726ec0cfd",
   "metadata": {},
   "outputs": [
    {
     "data": {
      "text/plain": [
       "10"
      ]
     },
     "execution_count": 53,
     "metadata": {},
     "output_type": "execute_result"
    }
   ],
   "source": [
    "words.count()"
   ]
  },
  {
   "cell_type": "code",
   "execution_count": 54,
   "id": "376db902-083d-401f-b141-d64812cf22f9",
   "metadata": {},
   "outputs": [
    {
     "data": {
      "text/plain": [
       "10"
      ]
     },
     "execution_count": 54,
     "metadata": {},
     "output_type": "execute_result"
    }
   ],
   "source": [
    "words.distinct().count()"
   ]
  },
  {
   "cell_type": "code",
   "execution_count": 55,
   "id": "816a5a81-9000-4f94-8a1d-c19d3dbb788a",
   "metadata": {},
   "outputs": [
    {
     "data": {
      "text/plain": [
       "['Spark', 'Simple']"
      ]
     },
     "execution_count": 55,
     "metadata": {},
     "output_type": "execute_result"
    }
   ],
   "source": [
    "words.filter(lambda word: word.startswith('S')).collect()"
   ]
  },
  {
   "cell_type": "code",
   "execution_count": 56,
   "id": "7f1d8725-b2fd-43f2-a4e5-33eda4bf7b51",
   "metadata": {},
   "outputs": [],
   "source": [
    "words2 = words.map(lambda word: (word, word[0], word.startswith('S')))"
   ]
  },
  {
   "cell_type": "code",
   "execution_count": 57,
   "id": "c71c4308-36c0-49a4-9530-228c531b734b",
   "metadata": {},
   "outputs": [
    {
     "data": {
      "text/plain": [
       "PythonRDD[251] at RDD at PythonRDD.scala:53"
      ]
     },
     "execution_count": 57,
     "metadata": {},
     "output_type": "execute_result"
    }
   ],
   "source": [
    "words2"
   ]
  },
  {
   "cell_type": "code",
   "execution_count": 58,
   "id": "1724f286-9257-4d15-843b-76fa91ee0307",
   "metadata": {},
   "outputs": [
    {
     "data": {
      "text/plain": [
       "[('Spark', 'S', True),\n",
       " ('The', 'T', False),\n",
       " ('Definitive', 'D', False),\n",
       " ('Guide', 'G', False),\n",
       " (':', ':', False),\n",
       " ('Big', 'B', False),\n",
       " ('Data', 'D', False),\n",
       " ('Processing', 'P', False),\n",
       " ('Made', 'M', False),\n",
       " ('Simple', 'S', True)]"
      ]
     },
     "execution_count": 58,
     "metadata": {},
     "output_type": "execute_result"
    }
   ],
   "source": [
    "words2.collect()"
   ]
  },
  {
   "cell_type": "code",
   "execution_count": 59,
   "id": "7c351b79-4310-44ef-a193-915ba5429186",
   "metadata": {},
   "outputs": [
    {
     "data": {
      "text/plain": [
       "['S',\n",
       " 'p',\n",
       " 'a',\n",
       " 'r',\n",
       " 'k',\n",
       " 'T',\n",
       " 'h',\n",
       " 'e',\n",
       " 'D',\n",
       " 'e',\n",
       " 'f',\n",
       " 'i',\n",
       " 'n',\n",
       " 'i',\n",
       " 't',\n",
       " 'i',\n",
       " 'v',\n",
       " 'e',\n",
       " 'G',\n",
       " 'u']"
      ]
     },
     "execution_count": 59,
     "metadata": {},
     "output_type": "execute_result"
    }
   ],
   "source": [
    "words.flatMap(lambda word: list(word)).take(20)"
   ]
  },
  {
   "cell_type": "code",
   "execution_count": 60,
   "id": "9b7960dc-4ff8-4af5-a416-bffcb73c1d5f",
   "metadata": {},
   "outputs": [
    {
     "data": {
      "text/plain": [
       "['Definitive',\n",
       " 'Processing',\n",
       " 'Simple',\n",
       " 'Spark',\n",
       " 'Guide',\n",
       " 'Data',\n",
       " 'Made',\n",
       " 'The',\n",
       " 'Big',\n",
       " ':']"
      ]
     },
     "execution_count": 60,
     "metadata": {},
     "output_type": "execute_result"
    }
   ],
   "source": [
    "words.sortBy(lambda word: len(word) * -1).collect()"
   ]
  },
  {
   "cell_type": "code",
   "execution_count": 61,
   "id": "7c447ee6-707d-495c-a8fd-ff3d6075a444",
   "metadata": {},
   "outputs": [],
   "source": [
    "rangeRDD = spark.sparkContext.parallelize(range(1,20))"
   ]
  },
  {
   "cell_type": "code",
   "execution_count": 62,
   "id": "80a23ff1-1508-4c4c-aedd-044dc6ebf71a",
   "metadata": {},
   "outputs": [
    {
     "data": {
      "text/plain": [
       "PythonRDD[261] at RDD at PythonRDD.scala:53"
      ]
     },
     "execution_count": 62,
     "metadata": {},
     "output_type": "execute_result"
    }
   ],
   "source": [
    "rangeRDD"
   ]
  },
  {
   "cell_type": "code",
   "execution_count": 63,
   "id": "5a4c4801-c105-4eea-848f-1b2c727f744c",
   "metadata": {},
   "outputs": [
    {
     "data": {
      "text/plain": [
       "190"
      ]
     },
     "execution_count": 63,
     "metadata": {},
     "output_type": "execute_result"
    }
   ],
   "source": [
    "rangeRDD.reduce(lambda x, y: x + y)"
   ]
  },
  {
   "cell_type": "code",
   "execution_count": 64,
   "id": "d180f0a5-5d13-46e1-b5f3-42a5158f2056",
   "metadata": {},
   "outputs": [
    {
     "data": {
      "text/plain": [
       "'Processing'"
      ]
     },
     "execution_count": 64,
     "metadata": {},
     "output_type": "execute_result"
    }
   ],
   "source": [
    "def longestWordReducer(leftWord: str, rightWord: str):\n",
    "    if len(leftWord) > len(rightWord):\n",
    "        return leftWord\n",
    "    else:\n",
    "        return rightWord\n",
    "\n",
    "words.reduce(longestWordReducer)"
   ]
  },
  {
   "cell_type": "code",
   "execution_count": 65,
   "id": "8845ac1d-58ab-4703-a16d-fa82efc58852",
   "metadata": {},
   "outputs": [
    {
     "data": {
      "text/plain": [
       "['5', '5']"
      ]
     },
     "execution_count": 65,
     "metadata": {},
     "output_type": "execute_result"
    }
   ],
   "source": [
    "words.pipe(\"wc -l\").collect()"
   ]
  },
  {
   "cell_type": "code",
   "execution_count": 66,
   "id": "bcb191f7-845e-4ba7-8cb6-31a8607bf1bb",
   "metadata": {},
   "outputs": [
    {
     "data": {
      "text/plain": [
       "2"
      ]
     },
     "execution_count": 66,
     "metadata": {},
     "output_type": "execute_result"
    }
   ],
   "source": [
    "words.getNumPartitions()"
   ]
  },
  {
   "cell_type": "code",
   "execution_count": 67,
   "id": "4c4d3b02-8126-479d-bc65-6a4f6990f285",
   "metadata": {},
   "outputs": [
    {
     "data": {
      "text/plain": [
       "PythonRDD[265] at RDD at PythonRDD.scala:53"
      ]
     },
     "execution_count": 67,
     "metadata": {},
     "output_type": "execute_result"
    }
   ],
   "source": [
    "wordsMap = words.map(lambda word: len(word))\n",
    "wordsMap"
   ]
  },
  {
   "cell_type": "code",
   "execution_count": 68,
   "id": "93e8cdc6-a2f1-43b2-9fee-0331c19dcc05",
   "metadata": {},
   "outputs": [
    {
     "data": {
      "text/plain": [
       "[5, 3, 10, 5, 1, 3, 4, 10, 4, 6]"
      ]
     },
     "execution_count": 68,
     "metadata": {},
     "output_type": "execute_result"
    }
   ],
   "source": [
    "wordsMap.collect()"
   ]
  },
  {
   "cell_type": "code",
   "execution_count": 69,
   "id": "8bc1947b-ec93-42c7-9184-7988016a4614",
   "metadata": {},
   "outputs": [
    {
     "data": {
      "text/plain": [
       "PythonRDD[266] at RDD at PythonRDD.scala:53"
      ]
     },
     "execution_count": 69,
     "metadata": {},
     "output_type": "execute_result"
    }
   ],
   "source": [
    "words.mapPartitions(lambda partition: 1)"
   ]
  },
  {
   "cell_type": "code",
   "execution_count": 71,
   "id": "76c4ec0b-599f-4dcb-ae2b-964d76c538e7",
   "metadata": {},
   "outputs": [
    {
     "data": {
      "text/plain": [
       "[1, 1]"
      ]
     },
     "execution_count": 71,
     "metadata": {},
     "output_type": "execute_result"
    }
   ],
   "source": [
    "words.mapPartitions(lambda partition: [1]).collect()"
   ]
  },
  {
   "cell_type": "code",
   "execution_count": 72,
   "id": "94871488-3d13-4d84-923a-e2872d51bd20",
   "metadata": {},
   "outputs": [
    {
     "data": {
      "text/plain": [
       "['Spark',\n",
       " 'The',\n",
       " 'Definitive',\n",
       " 'Guide',\n",
       " ':',\n",
       " 'Big',\n",
       " 'Data',\n",
       " 'Processing',\n",
       " 'Made',\n",
       " 'Simple']"
      ]
     },
     "execution_count": 72,
     "metadata": {},
     "output_type": "execute_result"
    }
   ],
   "source": [
    "words.collect()"
   ]
  },
  {
   "cell_type": "code",
   "execution_count": 74,
   "id": "c9f3c847-5cd3-4608-9b9a-63a9c2704b27",
   "metadata": {},
   "outputs": [
    {
     "name": "stdout",
     "output_type": "stream",
     "text": [
      "['0_Spark', '0_The', '0_Definitive', '0_Guide', '0_:', '1_Big', '1_Data', '1_Processing', '1_Made', '1_Simple']\n"
     ]
    }
   ],
   "source": [
    "from pyspark import TaskContext\n",
    "\n",
    "# Function to add partition index to each element\n",
    "def add_partition_index(partition):\n",
    "    partition_index = TaskContext().partitionId()\n",
    "    return (f\"{partition_index}_{word}\" for word in partition)\n",
    "\n",
    "# Use mapPartitions to apply the function to each partition\n",
    "indexed_words_rdd = words.mapPartitions(add_partition_index)\n",
    "\n",
    "# Collect the results\n",
    "indexed_words = indexed_words_rdd.collect()\n",
    "print(indexed_words)"
   ]
  },
  {
   "cell_type": "code",
   "execution_count": 75,
   "id": "8b278790-9c92-47b0-916a-a894c618a71a",
   "metadata": {},
   "outputs": [
    {
     "data": {
      "text/plain": [
       "['partition 0 => Spark',\n",
       " 'partition 0 => The',\n",
       " 'partition 0 => Definitive',\n",
       " 'partition 0 => Guide',\n",
       " 'partition 0 => :',\n",
       " 'partition 1 => Big',\n",
       " 'partition 1 => Data',\n",
       " 'partition 1 => Processing',\n",
       " 'partition 1 => Made',\n",
       " 'partition 1 => Simple']"
      ]
     },
     "execution_count": 75,
     "metadata": {},
     "output_type": "execute_result"
    }
   ],
   "source": [
    "def indexedFunc(partitionIndex, partitionIterator):\n",
    "    return [f\"partition {partitionIndex} => {record}\" for record in partitionIterator]\n",
    "\n",
    "words.mapPartitionsWithIndex(indexedFunc).collect()"
   ]
  },
  {
   "cell_type": "code",
   "execution_count": 76,
   "id": "b3cb382c-3e23-49f4-9d3b-b96009905c9a",
   "metadata": {},
   "outputs": [
    {
     "data": {
      "text/plain": [
       "[('spark', 1),\n",
       " ('the', 1),\n",
       " ('definitive', 1),\n",
       " ('guide', 1),\n",
       " (':', 1),\n",
       " ('big', 1),\n",
       " ('data', 1),\n",
       " ('processing', 1),\n",
       " ('made', 1),\n",
       " ('simple', 1)]"
      ]
     },
     "execution_count": 76,
     "metadata": {},
     "output_type": "execute_result"
    }
   ],
   "source": [
    "wordPairs = words.map(lambda word: (word.lower(), 1))\n",
    "wordPairs.collect()"
   ]
  },
  {
   "cell_type": "code",
   "execution_count": 77,
   "id": "f56c7f40-76ee-4dd7-81f2-aaa3a5b03b85",
   "metadata": {},
   "outputs": [
    {
     "data": {
      "text/plain": [
       "[('s', 'Spark'),\n",
       " ('t', 'The'),\n",
       " ('d', 'Definitive'),\n",
       " ('g', 'Guide'),\n",
       " (':', ':'),\n",
       " ('b', 'Big'),\n",
       " ('d', 'Data'),\n",
       " ('p', 'Processing'),\n",
       " ('m', 'Made'),\n",
       " ('s', 'Simple')]"
      ]
     },
     "execution_count": 77,
     "metadata": {},
     "output_type": "execute_result"
    }
   ],
   "source": [
    "keyword = words.keyBy(lambda word: word.lower()[0])\n",
    "keyword.collect()"
   ]
  },
  {
   "cell_type": "code",
   "execution_count": 78,
   "id": "2154a207-93c8-4c66-a98e-5f81d3ce2784",
   "metadata": {},
   "outputs": [
    {
     "data": {
      "text/plain": [
       "[('s', 'SPARK'),\n",
       " ('t', 'THE'),\n",
       " ('d', 'DEFINITIVE'),\n",
       " ('g', 'GUIDE'),\n",
       " (':', ':'),\n",
       " ('b', 'BIG'),\n",
       " ('d', 'DATA'),\n",
       " ('p', 'PROCESSING'),\n",
       " ('m', 'MADE'),\n",
       " ('s', 'SIMPLE')]"
      ]
     },
     "execution_count": 78,
     "metadata": {},
     "output_type": "execute_result"
    }
   ],
   "source": [
    "keyword.mapValues(lambda word: word.upper()).collect()"
   ]
  },
  {
   "cell_type": "code",
   "execution_count": 80,
   "id": "fe5e5e46-a2ba-46af-bc23-ae7c3084f801",
   "metadata": {},
   "outputs": [
    {
     "data": {
      "text/plain": [
       "[('s', 'S'),\n",
       " ('s', 'P'),\n",
       " ('s', 'A'),\n",
       " ('s', 'R'),\n",
       " ('s', 'K'),\n",
       " ('t', 'T'),\n",
       " ('t', 'H'),\n",
       " ('t', 'E'),\n",
       " ('d', 'D'),\n",
       " ('d', 'E')]"
      ]
     },
     "execution_count": 80,
     "metadata": {},
     "output_type": "execute_result"
    }
   ],
   "source": [
    "# note that word (String) is iterable\n",
    "keyword.flatMapValues(lambda word: word.upper()).take(10)"
   ]
  },
  {
   "cell_type": "code",
   "execution_count": 82,
   "id": "8231ea62-3517-493f-9480-389dcb48a572",
   "metadata": {},
   "outputs": [
    {
     "data": {
      "text/plain": [
       "['s', 't', 'd', 'g', ':', 'b', 'd', 'p', 'm', 's']"
      ]
     },
     "execution_count": 82,
     "metadata": {},
     "output_type": "execute_result"
    }
   ],
   "source": [
    "keyword.keys().collect()"
   ]
  },
  {
   "cell_type": "code",
   "execution_count": 83,
   "id": "09bacf5e-e010-47cf-aa2a-759a3e58a1b3",
   "metadata": {},
   "outputs": [
    {
     "data": {
      "text/plain": [
       "['Spark',\n",
       " 'The',\n",
       " 'Definitive',\n",
       " 'Guide',\n",
       " ':',\n",
       " 'Big',\n",
       " 'Data',\n",
       " 'Processing',\n",
       " 'Made',\n",
       " 'Simple']"
      ]
     },
     "execution_count": 83,
     "metadata": {},
     "output_type": "execute_result"
    }
   ],
   "source": [
    "keyword.values().collect()"
   ]
  },
  {
   "cell_type": "code",
   "execution_count": 85,
   "id": "b43f7b89-673f-4bdb-bb21-4b6c6b7f0e6c",
   "metadata": {},
   "outputs": [],
   "source": [
    "sc = spark.sparkContext\n",
    "\n",
    "chars = words.flatMap(lambda word: word.lower())\n",
    "KVcharacters = chars.map(lambda letter: (letter, 1))\n",
    "def maxFunc(left, right):\n",
    "    return max(left, right)\n",
    "def addFunc(left, right):\n",
    "    return left + right\n",
    "nums = sc.parallelize(range(1,31), 5)"
   ]
  },
  {
   "cell_type": "code",
   "execution_count": 88,
   "id": "f692ae04-6e38-42ee-85e5-037300367407",
   "metadata": {},
   "outputs": [
    {
     "data": {
      "text/plain": [
       "defaultdict(int,\n",
       "            {'s': 4,\n",
       "             'p': 3,\n",
       "             'a': 4,\n",
       "             'r': 2,\n",
       "             'k': 1,\n",
       "             't': 3,\n",
       "             'h': 1,\n",
       "             'e': 7,\n",
       "             'd': 4,\n",
       "             'f': 1,\n",
       "             'i': 7,\n",
       "             'n': 2,\n",
       "             'v': 1,\n",
       "             'g': 3,\n",
       "             'u': 1,\n",
       "             ':': 1,\n",
       "             'b': 1,\n",
       "             'o': 1,\n",
       "             'c': 1,\n",
       "             'm': 2,\n",
       "             'l': 1})"
      ]
     },
     "execution_count": 88,
     "metadata": {},
     "output_type": "execute_result"
    }
   ],
   "source": [
    "KVcharacters.countByKey()"
   ]
  },
  {
   "cell_type": "code",
   "execution_count": 91,
   "id": "740136d3-0144-4a0f-a1a9-6cd896b549fa",
   "metadata": {},
   "outputs": [
    {
     "data": {
      "text/plain": [
       "PythonRDD[298] at RDD at PythonRDD.scala:53"
      ]
     },
     "execution_count": 91,
     "metadata": {},
     "output_type": "execute_result"
    }
   ],
   "source": [
    "KVcharactersReduceByKey = KVcharacters.reduceByKey(addFunc)\n",
    "KVcharactersReduceByKey"
   ]
  },
  {
   "cell_type": "code",
   "execution_count": 92,
   "id": "9c2fb5de-499d-4bda-b684-852ad3f04fdc",
   "metadata": {},
   "outputs": [
    {
     "data": {
      "text/plain": [
       "2"
      ]
     },
     "execution_count": 92,
     "metadata": {},
     "output_type": "execute_result"
    }
   ],
   "source": [
    "KVcharactersReduceByKey.getNumPartitions()"
   ]
  },
  {
   "cell_type": "code",
   "execution_count": 95,
   "id": "128ad426-105d-46d9-ac10-0e005abeb37c",
   "metadata": {},
   "outputs": [
    {
     "data": {
      "text/plain": [
       "[('a', 4),\n",
       " ('k', 1),\n",
       " ('t', 3),\n",
       " ('e', 7),\n",
       " ('f', 1),\n",
       " ('n', 2),\n",
       " ('v', 1),\n",
       " ('u', 1),\n",
       " (':', 1),\n",
       " ('o', 1),\n",
       " ('m', 2)]"
      ]
     },
     "execution_count": 95,
     "metadata": {},
     "output_type": "execute_result"
    }
   ],
   "source": [
    "# Use glom to get the elements of each partition as a list\n",
    "partitions = KVcharactersReduceByKey.glom().collect()\n",
    "partitions[1]"
   ]
  },
  {
   "cell_type": "code",
   "execution_count": 94,
   "id": "e10e3e84-028b-40d7-b57d-5c9eab299ea2",
   "metadata": {},
   "outputs": [
    {
     "data": {
      "text/plain": [
       "[('s', 4),\n",
       " ('p', 3),\n",
       " ('r', 2),\n",
       " ('h', 1),\n",
       " ('d', 4),\n",
       " ('i', 7),\n",
       " ('g', 3),\n",
       " ('b', 1),\n",
       " ('c', 1),\n",
       " ('l', 1)]"
      ]
     },
     "execution_count": 94,
     "metadata": {},
     "output_type": "execute_result"
    }
   ],
   "source": [
    "partitions[0]"
   ]
  },
  {
   "cell_type": "code",
   "execution_count": 96,
   "id": "3c04cb7a-f1ac-4f6e-8a22-c44f8743a35a",
   "metadata": {},
   "outputs": [
    {
     "data": {
      "text/plain": [
       "[('s', 4),\n",
       " ('p', 3),\n",
       " ('r', 2),\n",
       " ('h', 1),\n",
       " ('d', 4),\n",
       " ('i', 7),\n",
       " ('g', 3),\n",
       " ('b', 1),\n",
       " ('c', 1),\n",
       " ('l', 1),\n",
       " ('a', 4),\n",
       " ('k', 1),\n",
       " ('t', 3),\n",
       " ('e', 7),\n",
       " ('f', 1),\n",
       " ('n', 2),\n",
       " ('v', 1),\n",
       " ('u', 1),\n",
       " (':', 1),\n",
       " ('o', 1),\n",
       " ('m', 2)]"
      ]
     },
     "execution_count": 96,
     "metadata": {},
     "output_type": "execute_result"
    }
   ],
   "source": [
    "KVcharactersReduceByKey.collect()"
   ]
  },
  {
   "cell_type": "code",
   "execution_count": 97,
   "id": "56e421d4-ea2b-4dee-b960-2cd04b08ebdc",
   "metadata": {},
   "outputs": [
    {
     "data": {
      "text/plain": [
       "[('s', 1),\n",
       " ('p', 1),\n",
       " ('a', 1),\n",
       " ('r', 1),\n",
       " ('k', 1),\n",
       " ('t', 1),\n",
       " ('h', 1),\n",
       " ('e', 1),\n",
       " ('d', 1),\n",
       " ('e', 1),\n",
       " ('f', 1),\n",
       " ('i', 1),\n",
       " ('n', 1),\n",
       " ('i', 1),\n",
       " ('t', 1),\n",
       " ('i', 1),\n",
       " ('v', 1),\n",
       " ('e', 1),\n",
       " ('g', 1),\n",
       " ('u', 1),\n",
       " ('i', 1),\n",
       " ('d', 1),\n",
       " ('e', 1),\n",
       " (':', 1),\n",
       " ('b', 1),\n",
       " ('i', 1),\n",
       " ('g', 1),\n",
       " ('d', 1),\n",
       " ('a', 1),\n",
       " ('t', 1),\n",
       " ('a', 1),\n",
       " ('p', 1),\n",
       " ('r', 1),\n",
       " ('o', 1),\n",
       " ('c', 1),\n",
       " ('e', 1),\n",
       " ('s', 1),\n",
       " ('s', 1),\n",
       " ('i', 1),\n",
       " ('n', 1),\n",
       " ('g', 1),\n",
       " ('m', 1),\n",
       " ('a', 1),\n",
       " ('d', 1),\n",
       " ('e', 1),\n",
       " ('s', 1),\n",
       " ('i', 1),\n",
       " ('m', 1),\n",
       " ('p', 1),\n",
       " ('l', 1),\n",
       " ('e', 1)]"
      ]
     },
     "execution_count": 97,
     "metadata": {},
     "output_type": "execute_result"
    }
   ],
   "source": [
    "KVcharacters.collect()"
   ]
  },
  {
   "cell_type": "code",
   "execution_count": 98,
   "id": "20bf3b82-af68-4db5-bd8a-2fb2bdfc1abd",
   "metadata": {},
   "outputs": [
    {
     "data": {
      "text/plain": [
       "[('s', 1),\n",
       " ('p', 1),\n",
       " ('a', 1),\n",
       " ('r', 1),\n",
       " ('k', 1),\n",
       " ('t', 1),\n",
       " ('h', 1),\n",
       " ('e', 1),\n",
       " ('d', 1),\n",
       " ('e', 1),\n",
       " ('f', 1),\n",
       " ('i', 1),\n",
       " ('n', 1),\n",
       " ('i', 1),\n",
       " ('t', 1),\n",
       " ('i', 1),\n",
       " ('v', 1),\n",
       " ('e', 1),\n",
       " ('g', 1),\n",
       " ('u', 1),\n",
       " ('i', 1),\n",
       " ('d', 1),\n",
       " ('e', 1),\n",
       " (':', 1)]"
      ]
     },
     "execution_count": 98,
     "metadata": {},
     "output_type": "execute_result"
    }
   ],
   "source": [
    "KVcharactersPartitions = KVcharacters.glom().collect()\n",
    "KVcharactersPartitions[0]"
   ]
  },
  {
   "cell_type": "code",
   "execution_count": 99,
   "id": "8ede4f9d-d278-4265-9938-ca7f644f6c97",
   "metadata": {},
   "outputs": [
    {
     "data": {
      "text/plain": [
       "10"
      ]
     },
     "execution_count": 99,
     "metadata": {},
     "output_type": "execute_result"
    }
   ],
   "source": [
    "retail_df.rdd.getNumPartitions()"
   ]
  },
  {
   "cell_type": "code",
   "execution_count": 100,
   "id": "18ccdc17-1319-4fb6-aa8c-99da1351f442",
   "metadata": {},
   "outputs": [
    {
     "name": "stdout",
     "output_type": "stream",
     "text": [
      "root\n",
      " |-- InvoiceNo: string (nullable = true)\n",
      " |-- StockCode: string (nullable = true)\n",
      " |-- Description: string (nullable = true)\n",
      " |-- Quantity: integer (nullable = true)\n",
      " |-- InvoiceDate: timestamp (nullable = true)\n",
      " |-- UnitPrice: double (nullable = true)\n",
      " |-- CustomerID: double (nullable = true)\n",
      " |-- Country: string (nullable = true)\n",
      "\n"
     ]
    }
   ],
   "source": [
    "retail_df.printSchema()"
   ]
  },
  {
   "cell_type": "code",
   "execution_count": 101,
   "id": "06e1de9d-f371-43e0-bcd1-080cfbbbf967",
   "metadata": {},
   "outputs": [
    {
     "data": {
      "text/plain": [
       "[Row(InvoiceNo='580538', StockCode='23084', Description='RABBIT NIGHT LIGHT', Quantity=48, InvoiceDate=datetime.datetime(2011, 12, 5, 8, 38), UnitPrice=1.79, CustomerID=14075.0, Country='United Kingdom'),\n",
       " Row(InvoiceNo='580538', StockCode='23077', Description='DOUGHNUT LIP GLOSS ', Quantity=20, InvoiceDate=datetime.datetime(2011, 12, 5, 8, 38), UnitPrice=1.25, CustomerID=14075.0, Country='United Kingdom')]"
      ]
     },
     "execution_count": 101,
     "metadata": {},
     "output_type": "execute_result"
    }
   ],
   "source": [
    "rdd = retail_df.rdd\n",
    "rdd.take(2)"
   ]
  },
  {
   "cell_type": "code",
   "execution_count": 108,
   "id": "14a1b98a-5033-41e7-9cda-93c3c09c6665",
   "metadata": {},
   "outputs": [
    {
     "data": {
      "text/plain": [
       "[(14075.0,\n",
       "  Row(InvoiceNo='580538', StockCode='23084', Description='RABBIT NIGHT LIGHT', Quantity=48, InvoiceDate=datetime.datetime(2011, 12, 5, 8, 38), UnitPrice=1.79, CustomerID=14075.0, Country='United Kingdom')),\n",
       " (14075.0,\n",
       "  Row(InvoiceNo='580538', StockCode='23077', Description='DOUGHNUT LIP GLOSS ', Quantity=20, InvoiceDate=datetime.datetime(2011, 12, 5, 8, 38), UnitPrice=1.25, CustomerID=14075.0, Country='United Kingdom'))]"
      ]
     },
     "execution_count": 108,
     "metadata": {},
     "output_type": "execute_result"
    }
   ],
   "source": [
    "def partitionFunc(key):\n",
    "    \"\"\"\n",
    "    Put records with key (CustomerID) in [17850, 12583] into partition 0. \n",
    "    The rest are evenly put into partitions 1 and 2.\n",
    "    \"\"\"\n",
    "    import random\n",
    "    if key == 17850 or key == 12583:\n",
    "        return 0\n",
    "    else:\n",
    "        return random.randint(1, 2)\n",
    "\n",
    "keyedRDD = rdd.keyBy(lambda row: row[6])\n",
    "keyedRDD.take(2)"
   ]
  },
  {
   "cell_type": "code",
   "execution_count": 109,
   "id": "ca079c6e-874a-4783-a1a7-60827dbc1f76",
   "metadata": {},
   "outputs": [
    {
     "data": {
      "text/plain": [
       "MapPartitionsRDD[315] at mapPartitions at PythonRDD.scala:160"
      ]
     },
     "execution_count": 109,
     "metadata": {},
     "output_type": "execute_result"
    }
   ],
   "source": [
    "keyedRDDCustomPartition = keyedRDD.partitionBy(3, partitionFunc)\n",
    "keyedRDDCustomPartition"
   ]
  },
  {
   "cell_type": "code",
   "execution_count": 110,
   "id": "7de9bd8f-af58-499d-87ec-c24d70261fb8",
   "metadata": {},
   "outputs": [
    {
     "data": {
      "text/plain": [
       "3"
      ]
     },
     "execution_count": 110,
     "metadata": {},
     "output_type": "execute_result"
    }
   ],
   "source": [
    "keyedRDDCustomPartition.getNumPartitions()"
   ]
  },
  {
   "cell_type": "code",
   "execution_count": 111,
   "id": "1b9b060f-bc78-4d8b-873e-e9dbafde764b",
   "metadata": {},
   "outputs": [
    {
     "name": "stderr",
     "output_type": "stream",
     "text": [
      "                                                                                \r"
     ]
    },
    {
     "data": {
      "text/plain": [
       "[(12583.0,\n",
       "  Row(InvoiceNo='575067', StockCode='23480', Description='MINI LIGHTS WOODLAND MUSHROOMS', Quantity=20, InvoiceDate=datetime.datetime(2011, 11, 8, 12, 45), UnitPrice=3.75, CustomerID=12583.0, Country='France')),\n",
       " (12583.0,\n",
       "  Row(InvoiceNo='575067', StockCode='23570', Description='TRADITIONAL PICK UP STICKS GAME ', Quantity=12, InvoiceDate=datetime.datetime(2011, 11, 8, 12, 45), UnitPrice=1.25, CustomerID=12583.0, Country='France')),\n",
       " (12583.0,\n",
       "  Row(InvoiceNo='575067', StockCode='23367', Description='SET 12 COLOUR PENCILS SPACEBOY ', Quantity=16, InvoiceDate=datetime.datetime(2011, 11, 8, 12, 45), UnitPrice=0.65, CustomerID=12583.0, Country='France')),\n",
       " (12583.0,\n",
       "  Row(InvoiceNo='575067', StockCode='22555', Description='PLASTERS IN TIN STRONGMAN', Quantity=24, InvoiceDate=datetime.datetime(2011, 11, 8, 12, 45), UnitPrice=1.65, CustomerID=12583.0, Country='France')),\n",
       " (12583.0,\n",
       "  Row(InvoiceNo='575067', StockCode='22951', Description='60 CAKE CASES DOLLY GIRL DESIGN', Quantity=24, InvoiceDate=datetime.datetime(2011, 11, 8, 12, 45), UnitPrice=0.55, CustomerID=12583.0, Country='France')),\n",
       " (12583.0,\n",
       "  Row(InvoiceNo='575067', StockCode='22417', Description='PACK OF 60 SPACEBOY CAKE CASES', Quantity=24, InvoiceDate=datetime.datetime(2011, 11, 8, 12, 45), UnitPrice=0.55, CustomerID=12583.0, Country='France')),\n",
       " (12583.0,\n",
       "  Row(InvoiceNo='575067', StockCode='21976', Description='PACK OF 60 MUSHROOM CAKE CASES', Quantity=24, InvoiceDate=datetime.datetime(2011, 11, 8, 12, 45), UnitPrice=0.55, CustomerID=12583.0, Country='France')),\n",
       " (12583.0,\n",
       "  Row(InvoiceNo='575067', StockCode='20719', Description='WOODLAND CHARLOTTE BAG', Quantity=20, InvoiceDate=datetime.datetime(2011, 11, 8, 12, 45), UnitPrice=0.85, CustomerID=12583.0, Country='France')),\n",
       " (12583.0,\n",
       "  Row(InvoiceNo='575067', StockCode='20724', Description='RED RETROSPOT CHARLOTTE BAG', Quantity=20, InvoiceDate=datetime.datetime(2011, 11, 8, 12, 45), UnitPrice=0.85, CustomerID=12583.0, Country='France')),\n",
       " (12583.0,\n",
       "  Row(InvoiceNo='575067', StockCode='22356', Description='CHARLOTTE BAG PINK POLKADOT', Quantity=10, InvoiceDate=datetime.datetime(2011, 11, 8, 12, 45), UnitPrice=0.85, CustomerID=12583.0, Country='France')),\n",
       " (12583.0,\n",
       "  Row(InvoiceNo='575067', StockCode='22492', Description='MINI PAINT SET VINTAGE ', Quantity=108, InvoiceDate=datetime.datetime(2011, 11, 8, 12, 45), UnitPrice=0.65, CustomerID=12583.0, Country='France')),\n",
       " (12583.0,\n",
       "  Row(InvoiceNo='575067', StockCode='22636', Description='CHILDS BREAKFAST SET CIRCUS PARADE', Quantity=4, InvoiceDate=datetime.datetime(2011, 11, 8, 12, 45), UnitPrice=8.5, CustomerID=12583.0, Country='France')),\n",
       " (12583.0,\n",
       "  Row(InvoiceNo='575067', StockCode='22197', Description='POPCORN HOLDER', Quantity=24, InvoiceDate=datetime.datetime(2011, 11, 8, 12, 45), UnitPrice=0.85, CustomerID=12583.0, Country='France')),\n",
       " (12583.0,\n",
       "  Row(InvoiceNo='575067', StockCode='22083', Description='PAPER CHAIN KIT RETROSPOT', Quantity=6, InvoiceDate=datetime.datetime(2011, 11, 8, 12, 45), UnitPrice=2.95, CustomerID=12583.0, Country='France')),\n",
       " (12583.0,\n",
       "  Row(InvoiceNo='575067', StockCode='22326', Description='ROUND SNACK BOXES SET OF4 WOODLAND ', Quantity=6, InvoiceDate=datetime.datetime(2011, 11, 8, 12, 45), UnitPrice=2.95, CustomerID=12583.0, Country='France')),\n",
       " (12583.0,\n",
       "  Row(InvoiceNo='575067', StockCode='22328', Description='ROUND SNACK BOXES SET OF 4 FRUITS ', Quantity=12, InvoiceDate=datetime.datetime(2011, 11, 8, 12, 45), UnitPrice=2.95, CustomerID=12583.0, Country='France')),\n",
       " (12583.0,\n",
       "  Row(InvoiceNo='575067', StockCode='21207', Description='SKULL AND CROSSBONES  GARLAND ', Quantity=12, InvoiceDate=datetime.datetime(2011, 11, 8, 12, 45), UnitPrice=1.65, CustomerID=12583.0, Country='France')),\n",
       " (12583.0,\n",
       "  Row(InvoiceNo='575067', StockCode='22727', Description='ALARM CLOCK BAKELIKE RED ', Quantity=24, InvoiceDate=datetime.datetime(2011, 11, 8, 12, 45), UnitPrice=3.75, CustomerID=12583.0, Country='France')),\n",
       " (12583.0,\n",
       "  Row(InvoiceNo='575067', StockCode='22726', Description='ALARM CLOCK BAKELIKE GREEN', Quantity=16, InvoiceDate=datetime.datetime(2011, 11, 8, 12, 45), UnitPrice=3.75, CustomerID=12583.0, Country='France')),\n",
       " (12583.0,\n",
       "  Row(InvoiceNo='575067', StockCode='22728', Description='ALARM CLOCK BAKELIKE PINK', Quantity=12, InvoiceDate=datetime.datetime(2011, 11, 8, 12, 45), UnitPrice=3.75, CustomerID=12583.0, Country='France')),\n",
       " (12583.0,\n",
       "  Row(InvoiceNo='575067', StockCode='22730', Description='ALARM CLOCK BAKELIKE IVORY', Quantity=12, InvoiceDate=datetime.datetime(2011, 11, 8, 12, 45), UnitPrice=3.75, CustomerID=12583.0, Country='France')),\n",
       " (12583.0,\n",
       "  Row(InvoiceNo='575067', StockCode='23445', Description='ICE CREAM BUBBLES', Quantity=20, InvoiceDate=datetime.datetime(2011, 11, 8, 12, 45), UnitPrice=0.83, CustomerID=12583.0, Country='France')),\n",
       " (12583.0,\n",
       "  Row(InvoiceNo='575067', StockCode='23298', Description='SPOTTY BUNTING', Quantity=9, InvoiceDate=datetime.datetime(2011, 11, 8, 12, 45), UnitPrice=4.95, CustomerID=12583.0, Country='France')),\n",
       " (12583.0,\n",
       "  Row(InvoiceNo='575067', StockCode='POST', Description='POSTAGE', Quantity=2, InvoiceDate=datetime.datetime(2011, 11, 8, 12, 45), UnitPrice=18.0, CustomerID=12583.0, Country='France')),\n",
       " (17850.0,\n",
       "  Row(InvoiceNo='536365', StockCode='85123A', Description='WHITE HANGING HEART T-LIGHT HOLDER', Quantity=6, InvoiceDate=datetime.datetime(2010, 12, 1, 8, 26), UnitPrice=2.55, CustomerID=17850.0, Country='United Kingdom')),\n",
       " (17850.0,\n",
       "  Row(InvoiceNo='536365', StockCode='71053', Description='WHITE METAL LANTERN', Quantity=6, InvoiceDate=datetime.datetime(2010, 12, 1, 8, 26), UnitPrice=3.39, CustomerID=17850.0, Country='United Kingdom')),\n",
       " (17850.0,\n",
       "  Row(InvoiceNo='536365', StockCode='84406B', Description='CREAM CUPID HEARTS COAT HANGER', Quantity=8, InvoiceDate=datetime.datetime(2010, 12, 1, 8, 26), UnitPrice=2.75, CustomerID=17850.0, Country='United Kingdom')),\n",
       " (17850.0,\n",
       "  Row(InvoiceNo='536365', StockCode='84029G', Description='KNITTED UNION FLAG HOT WATER BOTTLE', Quantity=6, InvoiceDate=datetime.datetime(2010, 12, 1, 8, 26), UnitPrice=3.39, CustomerID=17850.0, Country='United Kingdom')),\n",
       " (17850.0,\n",
       "  Row(InvoiceNo='536365', StockCode='84029E', Description='RED WOOLLY HOTTIE WHITE HEART.', Quantity=6, InvoiceDate=datetime.datetime(2010, 12, 1, 8, 26), UnitPrice=3.39, CustomerID=17850.0, Country='United Kingdom')),\n",
       " (17850.0,\n",
       "  Row(InvoiceNo='536365', StockCode='22752', Description='SET 7 BABUSHKA NESTING BOXES', Quantity=2, InvoiceDate=datetime.datetime(2010, 12, 1, 8, 26), UnitPrice=7.65, CustomerID=17850.0, Country='United Kingdom')),\n",
       " (17850.0,\n",
       "  Row(InvoiceNo='536365', StockCode='21730', Description='GLASS STAR FROSTED T-LIGHT HOLDER', Quantity=6, InvoiceDate=datetime.datetime(2010, 12, 1, 8, 26), UnitPrice=4.25, CustomerID=17850.0, Country='United Kingdom')),\n",
       " (17850.0,\n",
       "  Row(InvoiceNo='536366', StockCode='22633', Description='HAND WARMER UNION JACK', Quantity=6, InvoiceDate=datetime.datetime(2010, 12, 1, 8, 28), UnitPrice=1.85, CustomerID=17850.0, Country='United Kingdom')),\n",
       " (17850.0,\n",
       "  Row(InvoiceNo='536366', StockCode='22632', Description='HAND WARMER RED POLKA DOT', Quantity=6, InvoiceDate=datetime.datetime(2010, 12, 1, 8, 28), UnitPrice=1.85, CustomerID=17850.0, Country='United Kingdom')),\n",
       " (12583.0,\n",
       "  Row(InvoiceNo='536370', StockCode='22728', Description='ALARM CLOCK BAKELIKE PINK', Quantity=24, InvoiceDate=datetime.datetime(2010, 12, 1, 8, 45), UnitPrice=3.75, CustomerID=12583.0, Country='France')),\n",
       " (12583.0,\n",
       "  Row(InvoiceNo='536370', StockCode='22727', Description='ALARM CLOCK BAKELIKE RED ', Quantity=24, InvoiceDate=datetime.datetime(2010, 12, 1, 8, 45), UnitPrice=3.75, CustomerID=12583.0, Country='France')),\n",
       " (12583.0,\n",
       "  Row(InvoiceNo='536370', StockCode='22726', Description='ALARM CLOCK BAKELIKE GREEN', Quantity=12, InvoiceDate=datetime.datetime(2010, 12, 1, 8, 45), UnitPrice=3.75, CustomerID=12583.0, Country='France')),\n",
       " (12583.0,\n",
       "  Row(InvoiceNo='536370', StockCode='21724', Description='PANDA AND BUNNIES STICKER SHEET', Quantity=12, InvoiceDate=datetime.datetime(2010, 12, 1, 8, 45), UnitPrice=0.85, CustomerID=12583.0, Country='France')),\n",
       " (12583.0,\n",
       "  Row(InvoiceNo='536370', StockCode='21883', Description='STARS GIFT TAPE ', Quantity=24, InvoiceDate=datetime.datetime(2010, 12, 1, 8, 45), UnitPrice=0.65, CustomerID=12583.0, Country='France')),\n",
       " (12583.0,\n",
       "  Row(InvoiceNo='536370', StockCode='10002', Description='INFLATABLE POLITICAL GLOBE ', Quantity=48, InvoiceDate=datetime.datetime(2010, 12, 1, 8, 45), UnitPrice=0.85, CustomerID=12583.0, Country='France')),\n",
       " (12583.0,\n",
       "  Row(InvoiceNo='536370', StockCode='21791', Description='VINTAGE HEADS AND TAILS CARD GAME ', Quantity=24, InvoiceDate=datetime.datetime(2010, 12, 1, 8, 45), UnitPrice=1.25, CustomerID=12583.0, Country='France')),\n",
       " (12583.0,\n",
       "  Row(InvoiceNo='536370', StockCode='21035', Description='SET/2 RED RETROSPOT TEA TOWELS ', Quantity=18, InvoiceDate=datetime.datetime(2010, 12, 1, 8, 45), UnitPrice=2.95, CustomerID=12583.0, Country='France')),\n",
       " (12583.0,\n",
       "  Row(InvoiceNo='536370', StockCode='22326', Description='ROUND SNACK BOXES SET OF4 WOODLAND ', Quantity=24, InvoiceDate=datetime.datetime(2010, 12, 1, 8, 45), UnitPrice=2.95, CustomerID=12583.0, Country='France')),\n",
       " (12583.0,\n",
       "  Row(InvoiceNo='536370', StockCode='22629', Description='SPACEBOY LUNCH BOX ', Quantity=24, InvoiceDate=datetime.datetime(2010, 12, 1, 8, 45), UnitPrice=1.95, CustomerID=12583.0, Country='France')),\n",
       " (12583.0,\n",
       "  Row(InvoiceNo='536370', StockCode='22659', Description='LUNCH BOX I LOVE LONDON', Quantity=24, InvoiceDate=datetime.datetime(2010, 12, 1, 8, 45), UnitPrice=1.95, CustomerID=12583.0, Country='France')),\n",
       " (12583.0,\n",
       "  Row(InvoiceNo='536370', StockCode='22631', Description='CIRCUS PARADE LUNCH BOX ', Quantity=24, InvoiceDate=datetime.datetime(2010, 12, 1, 8, 45), UnitPrice=1.95, CustomerID=12583.0, Country='France')),\n",
       " (12583.0,\n",
       "  Row(InvoiceNo='536370', StockCode='22661', Description='CHARLOTTE BAG DOLLY GIRL DESIGN', Quantity=20, InvoiceDate=datetime.datetime(2010, 12, 1, 8, 45), UnitPrice=0.85, CustomerID=12583.0, Country='France')),\n",
       " (12583.0,\n",
       "  Row(InvoiceNo='536370', StockCode='21731', Description='RED TOADSTOOL LED NIGHT LIGHT', Quantity=24, InvoiceDate=datetime.datetime(2010, 12, 1, 8, 45), UnitPrice=1.65, CustomerID=12583.0, Country='France')),\n",
       " (12583.0,\n",
       "  Row(InvoiceNo='536370', StockCode='22900', Description=' SET 2 TEA TOWELS I LOVE LONDON ', Quantity=24, InvoiceDate=datetime.datetime(2010, 12, 1, 8, 45), UnitPrice=2.95, CustomerID=12583.0, Country='France')),\n",
       " (12583.0,\n",
       "  Row(InvoiceNo='536370', StockCode='21913', Description='VINTAGE SEASIDE JIGSAW PUZZLES', Quantity=12, InvoiceDate=datetime.datetime(2010, 12, 1, 8, 45), UnitPrice=3.75, CustomerID=12583.0, Country='France')),\n",
       " (12583.0,\n",
       "  Row(InvoiceNo='536370', StockCode='22540', Description='MINI JIGSAW CIRCUS PARADE ', Quantity=24, InvoiceDate=datetime.datetime(2010, 12, 1, 8, 45), UnitPrice=0.42, CustomerID=12583.0, Country='France')),\n",
       " (12583.0,\n",
       "  Row(InvoiceNo='536370', StockCode='22544', Description='MINI JIGSAW SPACEBOY', Quantity=24, InvoiceDate=datetime.datetime(2010, 12, 1, 8, 45), UnitPrice=0.42, CustomerID=12583.0, Country='France')),\n",
       " (12583.0,\n",
       "  Row(InvoiceNo='536370', StockCode='22492', Description='MINI PAINT SET VINTAGE ', Quantity=36, InvoiceDate=datetime.datetime(2010, 12, 1, 8, 45), UnitPrice=0.65, CustomerID=12583.0, Country='France')),\n",
       " (12583.0,\n",
       "  Row(InvoiceNo='536370', StockCode='POST', Description='POSTAGE', Quantity=3, InvoiceDate=datetime.datetime(2010, 12, 1, 8, 45), UnitPrice=18.0, CustomerID=12583.0, Country='France')),\n",
       " (17850.0,\n",
       "  Row(InvoiceNo='536372', StockCode='22632', Description='HAND WARMER RED POLKA DOT', Quantity=6, InvoiceDate=datetime.datetime(2010, 12, 1, 9, 1), UnitPrice=1.85, CustomerID=17850.0, Country='United Kingdom')),\n",
       " (17850.0,\n",
       "  Row(InvoiceNo='536372', StockCode='22633', Description='HAND WARMER UNION JACK', Quantity=6, InvoiceDate=datetime.datetime(2010, 12, 1, 9, 1), UnitPrice=1.85, CustomerID=17850.0, Country='United Kingdom')),\n",
       " (17850.0,\n",
       "  Row(InvoiceNo='536373', StockCode='85123A', Description='WHITE HANGING HEART T-LIGHT HOLDER', Quantity=6, InvoiceDate=datetime.datetime(2010, 12, 1, 9, 2), UnitPrice=2.55, CustomerID=17850.0, Country='United Kingdom')),\n",
       " (17850.0,\n",
       "  Row(InvoiceNo='536373', StockCode='71053', Description='WHITE METAL LANTERN', Quantity=6, InvoiceDate=datetime.datetime(2010, 12, 1, 9, 2), UnitPrice=3.39, CustomerID=17850.0, Country='United Kingdom')),\n",
       " (17850.0,\n",
       "  Row(InvoiceNo='536373', StockCode='84406B', Description='CREAM CUPID HEARTS COAT HANGER', Quantity=8, InvoiceDate=datetime.datetime(2010, 12, 1, 9, 2), UnitPrice=2.75, CustomerID=17850.0, Country='United Kingdom')),\n",
       " (17850.0,\n",
       "  Row(InvoiceNo='536373', StockCode='20679', Description='EDWARDIAN PARASOL RED', Quantity=6, InvoiceDate=datetime.datetime(2010, 12, 1, 9, 2), UnitPrice=4.95, CustomerID=17850.0, Country='United Kingdom')),\n",
       " (17850.0,\n",
       "  Row(InvoiceNo='536373', StockCode='37370', Description='RETRO COFFEE MUGS ASSORTED', Quantity=6, InvoiceDate=datetime.datetime(2010, 12, 1, 9, 2), UnitPrice=1.06, CustomerID=17850.0, Country='United Kingdom')),\n",
       " (17850.0,\n",
       "  Row(InvoiceNo='536373', StockCode='21871', Description='SAVE THE PLANET MUG', Quantity=6, InvoiceDate=datetime.datetime(2010, 12, 1, 9, 2), UnitPrice=1.06, CustomerID=17850.0, Country='United Kingdom')),\n",
       " (17850.0,\n",
       "  Row(InvoiceNo='536373', StockCode='21071', Description='VINTAGE BILLBOARD DRINK ME MUG', Quantity=6, InvoiceDate=datetime.datetime(2010, 12, 1, 9, 2), UnitPrice=1.06, CustomerID=17850.0, Country='United Kingdom')),\n",
       " (17850.0,\n",
       "  Row(InvoiceNo='536373', StockCode='21068', Description='VINTAGE BILLBOARD LOVE/HATE MUG', Quantity=6, InvoiceDate=datetime.datetime(2010, 12, 1, 9, 2), UnitPrice=1.06, CustomerID=17850.0, Country='United Kingdom')),\n",
       " (17850.0,\n",
       "  Row(InvoiceNo='536373', StockCode='82483', Description='WOOD 2 DRAWER CABINET WHITE FINISH', Quantity=2, InvoiceDate=datetime.datetime(2010, 12, 1, 9, 2), UnitPrice=4.95, CustomerID=17850.0, Country='United Kingdom')),\n",
       " (17850.0,\n",
       "  Row(InvoiceNo='536373', StockCode='82486', Description='WOOD S/3 CABINET ANT WHITE FINISH', Quantity=4, InvoiceDate=datetime.datetime(2010, 12, 1, 9, 2), UnitPrice=6.95, CustomerID=17850.0, Country='United Kingdom')),\n",
       " (17850.0,\n",
       "  Row(InvoiceNo='536373', StockCode='82482', Description='WOODEN PICTURE FRAME WHITE FINISH', Quantity=6, InvoiceDate=datetime.datetime(2010, 12, 1, 9, 2), UnitPrice=2.1, CustomerID=17850.0, Country='United Kingdom')),\n",
       " (17850.0,\n",
       "  Row(InvoiceNo='536373', StockCode='82494L', Description='WOODEN FRAME ANTIQUE WHITE ', Quantity=6, InvoiceDate=datetime.datetime(2010, 12, 1, 9, 2), UnitPrice=2.55, CustomerID=17850.0, Country='United Kingdom')),\n",
       " (17850.0,\n",
       "  Row(InvoiceNo='536373', StockCode='84029G', Description='KNITTED UNION FLAG HOT WATER BOTTLE', Quantity=6, InvoiceDate=datetime.datetime(2010, 12, 1, 9, 2), UnitPrice=3.39, CustomerID=17850.0, Country='United Kingdom')),\n",
       " (17850.0,\n",
       "  Row(InvoiceNo='536373', StockCode='84029E', Description='RED WOOLLY HOTTIE WHITE HEART.', Quantity=6, InvoiceDate=datetime.datetime(2010, 12, 1, 9, 2), UnitPrice=3.39, CustomerID=17850.0, Country='United Kingdom')),\n",
       " (17850.0,\n",
       "  Row(InvoiceNo='536373', StockCode='22752', Description='SET 7 BABUSHKA NESTING BOXES', Quantity=2, InvoiceDate=datetime.datetime(2010, 12, 1, 9, 2), UnitPrice=7.65, CustomerID=17850.0, Country='United Kingdom')),\n",
       " (17850.0,\n",
       "  Row(InvoiceNo='536373', StockCode='21730', Description='GLASS STAR FROSTED T-LIGHT HOLDER', Quantity=6, InvoiceDate=datetime.datetime(2010, 12, 1, 9, 2), UnitPrice=4.25, CustomerID=17850.0, Country='United Kingdom')),\n",
       " (17850.0,\n",
       "  Row(InvoiceNo='536375', StockCode='85123A', Description='WHITE HANGING HEART T-LIGHT HOLDER', Quantity=6, InvoiceDate=datetime.datetime(2010, 12, 1, 9, 32), UnitPrice=2.55, CustomerID=17850.0, Country='United Kingdom')),\n",
       " (17850.0,\n",
       "  Row(InvoiceNo='536375', StockCode='71053', Description='WHITE METAL LANTERN', Quantity=6, InvoiceDate=datetime.datetime(2010, 12, 1, 9, 32), UnitPrice=3.39, CustomerID=17850.0, Country='United Kingdom')),\n",
       " (17850.0,\n",
       "  Row(InvoiceNo='536375', StockCode='84406B', Description='CREAM CUPID HEARTS COAT HANGER', Quantity=8, InvoiceDate=datetime.datetime(2010, 12, 1, 9, 32), UnitPrice=2.75, CustomerID=17850.0, Country='United Kingdom')),\n",
       " (17850.0,\n",
       "  Row(InvoiceNo='536375', StockCode='20679', Description='EDWARDIAN PARASOL RED', Quantity=6, InvoiceDate=datetime.datetime(2010, 12, 1, 9, 32), UnitPrice=4.95, CustomerID=17850.0, Country='United Kingdom')),\n",
       " (17850.0,\n",
       "  Row(InvoiceNo='536375', StockCode='37370', Description='RETRO COFFEE MUGS ASSORTED', Quantity=6, InvoiceDate=datetime.datetime(2010, 12, 1, 9, 32), UnitPrice=1.06, CustomerID=17850.0, Country='United Kingdom')),\n",
       " (17850.0,\n",
       "  Row(InvoiceNo='536375', StockCode='21871', Description='SAVE THE PLANET MUG', Quantity=6, InvoiceDate=datetime.datetime(2010, 12, 1, 9, 32), UnitPrice=1.06, CustomerID=17850.0, Country='United Kingdom')),\n",
       " (17850.0,\n",
       "  Row(InvoiceNo='536375', StockCode='21071', Description='VINTAGE BILLBOARD DRINK ME MUG', Quantity=6, InvoiceDate=datetime.datetime(2010, 12, 1, 9, 32), UnitPrice=1.06, CustomerID=17850.0, Country='United Kingdom')),\n",
       " (17850.0,\n",
       "  Row(InvoiceNo='536375', StockCode='21068', Description='VINTAGE BILLBOARD LOVE/HATE MUG', Quantity=6, InvoiceDate=datetime.datetime(2010, 12, 1, 9, 32), UnitPrice=1.06, CustomerID=17850.0, Country='United Kingdom')),\n",
       " (17850.0,\n",
       "  Row(InvoiceNo='536375', StockCode='82483', Description='WOOD 2 DRAWER CABINET WHITE FINISH', Quantity=2, InvoiceDate=datetime.datetime(2010, 12, 1, 9, 32), UnitPrice=4.95, CustomerID=17850.0, Country='United Kingdom')),\n",
       " (17850.0,\n",
       "  Row(InvoiceNo='536375', StockCode='82486', Description='WOOD S/3 CABINET ANT WHITE FINISH', Quantity=4, InvoiceDate=datetime.datetime(2010, 12, 1, 9, 32), UnitPrice=6.95, CustomerID=17850.0, Country='United Kingdom')),\n",
       " (17850.0,\n",
       "  Row(InvoiceNo='536375', StockCode='82482', Description='WOODEN PICTURE FRAME WHITE FINISH', Quantity=6, InvoiceDate=datetime.datetime(2010, 12, 1, 9, 32), UnitPrice=2.1, CustomerID=17850.0, Country='United Kingdom')),\n",
       " (17850.0,\n",
       "  Row(InvoiceNo='536375', StockCode='82494L', Description='WOODEN FRAME ANTIQUE WHITE ', Quantity=6, InvoiceDate=datetime.datetime(2010, 12, 1, 9, 32), UnitPrice=2.55, CustomerID=17850.0, Country='United Kingdom')),\n",
       " (17850.0,\n",
       "  Row(InvoiceNo='536375', StockCode='84029G', Description='KNITTED UNION FLAG HOT WATER BOTTLE', Quantity=6, InvoiceDate=datetime.datetime(2010, 12, 1, 9, 32), UnitPrice=3.39, CustomerID=17850.0, Country='United Kingdom')),\n",
       " (17850.0,\n",
       "  Row(InvoiceNo='536375', StockCode='84029E', Description='RED WOOLLY HOTTIE WHITE HEART.', Quantity=6, InvoiceDate=datetime.datetime(2010, 12, 1, 9, 32), UnitPrice=3.39, CustomerID=17850.0, Country='United Kingdom')),\n",
       " (17850.0,\n",
       "  Row(InvoiceNo='536375', StockCode='22752', Description='SET 7 BABUSHKA NESTING BOXES', Quantity=2, InvoiceDate=datetime.datetime(2010, 12, 1, 9, 32), UnitPrice=7.65, CustomerID=17850.0, Country='United Kingdom')),\n",
       " (17850.0,\n",
       "  Row(InvoiceNo='536375', StockCode='21730', Description='GLASS STAR FROSTED T-LIGHT HOLDER', Quantity=6, InvoiceDate=datetime.datetime(2010, 12, 1, 9, 32), UnitPrice=4.25, CustomerID=17850.0, Country='United Kingdom')),\n",
       " (17850.0,\n",
       "  Row(InvoiceNo='536377', StockCode='22632', Description='HAND WARMER RED POLKA DOT', Quantity=6, InvoiceDate=datetime.datetime(2010, 12, 1, 9, 34), UnitPrice=1.85, CustomerID=17850.0, Country='United Kingdom')),\n",
       " (17850.0,\n",
       "  Row(InvoiceNo='536377', StockCode='22633', Description='HAND WARMER UNION JACK', Quantity=6, InvoiceDate=datetime.datetime(2010, 12, 1, 9, 34), UnitPrice=1.85, CustomerID=17850.0, Country='United Kingdom')),\n",
       " (17850.0,\n",
       "  Row(InvoiceNo='536396', StockCode='85123A', Description='WHITE HANGING HEART T-LIGHT HOLDER', Quantity=6, InvoiceDate=datetime.datetime(2010, 12, 1, 10, 51), UnitPrice=2.55, CustomerID=17850.0, Country='United Kingdom')),\n",
       " (17850.0,\n",
       "  Row(InvoiceNo='536396', StockCode='71053', Description='WHITE METAL LANTERN', Quantity=6, InvoiceDate=datetime.datetime(2010, 12, 1, 10, 51), UnitPrice=3.39, CustomerID=17850.0, Country='United Kingdom')),\n",
       " (17850.0,\n",
       "  Row(InvoiceNo='536396', StockCode='84406B', Description='CREAM CUPID HEARTS COAT HANGER', Quantity=8, InvoiceDate=datetime.datetime(2010, 12, 1, 10, 51), UnitPrice=2.75, CustomerID=17850.0, Country='United Kingdom')),\n",
       " (17850.0,\n",
       "  Row(InvoiceNo='536396', StockCode='15056BL', Description='EDWARDIAN PARASOL BLACK', Quantity=6, InvoiceDate=datetime.datetime(2010, 12, 1, 10, 51), UnitPrice=4.95, CustomerID=17850.0, Country='United Kingdom')),\n",
       " (17850.0,\n",
       "  Row(InvoiceNo='536396', StockCode='20679', Description='EDWARDIAN PARASOL RED', Quantity=6, InvoiceDate=datetime.datetime(2010, 12, 1, 10, 51), UnitPrice=4.95, CustomerID=17850.0, Country='United Kingdom')),\n",
       " (17850.0,\n",
       "  Row(InvoiceNo='536396', StockCode='37370', Description='RETRO COFFEE MUGS ASSORTED', Quantity=6, InvoiceDate=datetime.datetime(2010, 12, 1, 10, 51), UnitPrice=1.06, CustomerID=17850.0, Country='United Kingdom')),\n",
       " (17850.0,\n",
       "  Row(InvoiceNo='536396', StockCode='21871', Description='SAVE THE PLANET MUG', Quantity=6, InvoiceDate=datetime.datetime(2010, 12, 1, 10, 51), UnitPrice=1.06, CustomerID=17850.0, Country='United Kingdom')),\n",
       " (17850.0,\n",
       "  Row(InvoiceNo='536396', StockCode='21071', Description='VINTAGE BILLBOARD DRINK ME MUG', Quantity=6, InvoiceDate=datetime.datetime(2010, 12, 1, 10, 51), UnitPrice=1.06, CustomerID=17850.0, Country='United Kingdom')),\n",
       " (17850.0,\n",
       "  Row(InvoiceNo='536396', StockCode='21068', Description='VINTAGE BILLBOARD LOVE/HATE MUG', Quantity=6, InvoiceDate=datetime.datetime(2010, 12, 1, 10, 51), UnitPrice=1.06, CustomerID=17850.0, Country='United Kingdom')),\n",
       " (17850.0,\n",
       "  Row(InvoiceNo='536396', StockCode='82483', Description='WOOD 2 DRAWER CABINET WHITE FINISH', Quantity=2, InvoiceDate=datetime.datetime(2010, 12, 1, 10, 51), UnitPrice=4.95, CustomerID=17850.0, Country='United Kingdom')),\n",
       " (17850.0,\n",
       "  Row(InvoiceNo='536396', StockCode='82486', Description='WOOD S/3 CABINET ANT WHITE FINISH', Quantity=4, InvoiceDate=datetime.datetime(2010, 12, 1, 10, 51), UnitPrice=6.95, CustomerID=17850.0, Country='United Kingdom')),\n",
       " (17850.0,\n",
       "  Row(InvoiceNo='536396', StockCode='82482', Description='WOODEN PICTURE FRAME WHITE FINISH', Quantity=6, InvoiceDate=datetime.datetime(2010, 12, 1, 10, 51), UnitPrice=2.1, CustomerID=17850.0, Country='United Kingdom')),\n",
       " (17850.0,\n",
       "  Row(InvoiceNo='536396', StockCode='82494L', Description='WOODEN FRAME ANTIQUE WHITE ', Quantity=12, InvoiceDate=datetime.datetime(2010, 12, 1, 10, 51), UnitPrice=2.55, CustomerID=17850.0, Country='United Kingdom')),\n",
       " (17850.0,\n",
       "  Row(InvoiceNo='536396', StockCode='84029G', Description='KNITTED UNION FLAG HOT WATER BOTTLE', Quantity=6, InvoiceDate=datetime.datetime(2010, 12, 1, 10, 51), UnitPrice=3.39, CustomerID=17850.0, Country='United Kingdom')),\n",
       " (17850.0,\n",
       "  Row(InvoiceNo='536396', StockCode='84029E', Description='RED WOOLLY HOTTIE WHITE HEART.', Quantity=6, InvoiceDate=datetime.datetime(2010, 12, 1, 10, 51), UnitPrice=3.39, CustomerID=17850.0, Country='United Kingdom')),\n",
       " (17850.0,\n",
       "  Row(InvoiceNo='536396', StockCode='22752', Description='SET 7 BABUSHKA NESTING BOXES', Quantity=2, InvoiceDate=datetime.datetime(2010, 12, 1, 10, 51), UnitPrice=7.65, CustomerID=17850.0, Country='United Kingdom')),\n",
       " (17850.0,\n",
       "  Row(InvoiceNo='536396', StockCode='22803', Description='IVORY EMBROIDERED QUILT ', Quantity=2, InvoiceDate=datetime.datetime(2010, 12, 1, 10, 51), UnitPrice=35.75, CustomerID=17850.0, Country='United Kingdom')),\n",
       " (17850.0,\n",
       "  Row(InvoiceNo='536396', StockCode='21730', Description='GLASS STAR FROSTED T-LIGHT HOLDER', Quantity=6, InvoiceDate=datetime.datetime(2010, 12, 1, 10, 51), UnitPrice=4.25, CustomerID=17850.0, Country='United Kingdom')),\n",
       " (17850.0,\n",
       "  Row(InvoiceNo='536399', StockCode='22632', Description='HAND WARMER RED POLKA DOT', Quantity=6, InvoiceDate=datetime.datetime(2010, 12, 1, 10, 52), UnitPrice=1.85, CustomerID=17850.0, Country='United Kingdom')),\n",
       " (17850.0,\n",
       "  Row(InvoiceNo='536399', StockCode='22633', Description='HAND WARMER UNION JACK', Quantity=6, InvoiceDate=datetime.datetime(2010, 12, 1, 10, 52), UnitPrice=1.85, CustomerID=17850.0, Country='United Kingdom')),\n",
       " (17850.0,\n",
       "  Row(InvoiceNo='536406', StockCode='85123A', Description='WHITE HANGING HEART T-LIGHT HOLDER', Quantity=8, InvoiceDate=datetime.datetime(2010, 12, 1, 11, 33), UnitPrice=2.55, CustomerID=17850.0, Country='United Kingdom')),\n",
       " (17850.0,\n",
       "  Row(InvoiceNo='536406', StockCode='71053', Description='WHITE METAL LANTERN', Quantity=8, InvoiceDate=datetime.datetime(2010, 12, 1, 11, 33), UnitPrice=3.39, CustomerID=17850.0, Country='United Kingdom')),\n",
       " (17850.0,\n",
       "  Row(InvoiceNo='536406', StockCode='84406B', Description='CREAM CUPID HEARTS COAT HANGER', Quantity=8, InvoiceDate=datetime.datetime(2010, 12, 1, 11, 33), UnitPrice=2.75, CustomerID=17850.0, Country='United Kingdom')),\n",
       " (17850.0,\n",
       "  Row(InvoiceNo='536406', StockCode='20679', Description='EDWARDIAN PARASOL RED', Quantity=6, InvoiceDate=datetime.datetime(2010, 12, 1, 11, 33), UnitPrice=4.95, CustomerID=17850.0, Country='United Kingdom')),\n",
       " (17850.0,\n",
       "  Row(InvoiceNo='536406', StockCode='37370', Description='RETRO COFFEE MUGS ASSORTED', Quantity=6, InvoiceDate=datetime.datetime(2010, 12, 1, 11, 33), UnitPrice=1.06, CustomerID=17850.0, Country='United Kingdom')),\n",
       " (17850.0,\n",
       "  Row(InvoiceNo='536406', StockCode='21871', Description='SAVE THE PLANET MUG', Quantity=6, InvoiceDate=datetime.datetime(2010, 12, 1, 11, 33), UnitPrice=1.06, CustomerID=17850.0, Country='United Kingdom')),\n",
       " (17850.0,\n",
       "  Row(InvoiceNo='536406', StockCode='21071', Description='VINTAGE BILLBOARD DRINK ME MUG', Quantity=6, InvoiceDate=datetime.datetime(2010, 12, 1, 11, 33), UnitPrice=1.06, CustomerID=17850.0, Country='United Kingdom')),\n",
       " (17850.0,\n",
       "  Row(InvoiceNo='536406', StockCode='21068', Description='VINTAGE BILLBOARD LOVE/HATE MUG', Quantity=6, InvoiceDate=datetime.datetime(2010, 12, 1, 11, 33), UnitPrice=1.06, CustomerID=17850.0, Country='United Kingdom')),\n",
       " (17850.0,\n",
       "  Row(InvoiceNo='536406', StockCode='82483', Description='WOOD 2 DRAWER CABINET WHITE FINISH', Quantity=4, InvoiceDate=datetime.datetime(2010, 12, 1, 11, 33), UnitPrice=4.95, CustomerID=17850.0, Country='United Kingdom')),\n",
       " (17850.0,\n",
       "  Row(InvoiceNo='536406', StockCode='82486', Description='WOOD S/3 CABINET ANT WHITE FINISH', Quantity=4, InvoiceDate=datetime.datetime(2010, 12, 1, 11, 33), UnitPrice=6.95, CustomerID=17850.0, Country='United Kingdom')),\n",
       " (17850.0,\n",
       "  Row(InvoiceNo='536406', StockCode='82482', Description='WOODEN PICTURE FRAME WHITE FINISH', Quantity=6, InvoiceDate=datetime.datetime(2010, 12, 1, 11, 33), UnitPrice=2.1, CustomerID=17850.0, Country='United Kingdom')),\n",
       " (17850.0,\n",
       "  Row(InvoiceNo='536406', StockCode='82494L', Description='WOODEN FRAME ANTIQUE WHITE ', Quantity=6, InvoiceDate=datetime.datetime(2010, 12, 1, 11, 33), UnitPrice=2.55, CustomerID=17850.0, Country='United Kingdom')),\n",
       " (17850.0,\n",
       "  Row(InvoiceNo='536406', StockCode='84029G', Description='KNITTED UNION FLAG HOT WATER BOTTLE', Quantity=6, InvoiceDate=datetime.datetime(2010, 12, 1, 11, 33), UnitPrice=3.39, CustomerID=17850.0, Country='United Kingdom')),\n",
       " (17850.0,\n",
       "  Row(InvoiceNo='536406', StockCode='84029E', Description='RED WOOLLY HOTTIE WHITE HEART.', Quantity=6, InvoiceDate=datetime.datetime(2010, 12, 1, 11, 33), UnitPrice=3.39, CustomerID=17850.0, Country='United Kingdom')),\n",
       " (17850.0,\n",
       "  Row(InvoiceNo='536406', StockCode='22752', Description='SET 7 BABUSHKA NESTING BOXES', Quantity=2, InvoiceDate=datetime.datetime(2010, 12, 1, 11, 33), UnitPrice=7.65, CustomerID=17850.0, Country='United Kingdom')),\n",
       " (17850.0,\n",
       "  Row(InvoiceNo='536406', StockCode='22803', Description='IVORY EMBROIDERED QUILT ', Quantity=2, InvoiceDate=datetime.datetime(2010, 12, 1, 11, 33), UnitPrice=35.75, CustomerID=17850.0, Country='United Kingdom')),\n",
       " (17850.0,\n",
       "  Row(InvoiceNo='536406', StockCode='21730', Description='GLASS STAR FROSTED T-LIGHT HOLDER', Quantity=6, InvoiceDate=datetime.datetime(2010, 12, 1, 11, 33), UnitPrice=4.25, CustomerID=17850.0, Country='United Kingdom')),\n",
       " (17850.0,\n",
       "  Row(InvoiceNo='536407', StockCode='22632', Description='HAND WARMER RED POLKA DOT', Quantity=6, InvoiceDate=datetime.datetime(2010, 12, 1, 11, 34), UnitPrice=1.85, CustomerID=17850.0, Country='United Kingdom')),\n",
       " (17850.0,\n",
       "  Row(InvoiceNo='536407', StockCode='22633', Description='HAND WARMER UNION JACK', Quantity=6, InvoiceDate=datetime.datetime(2010, 12, 1, 11, 34), UnitPrice=1.85, CustomerID=17850.0, Country='United Kingdom')),\n",
       " (12583.0,\n",
       "  Row(InvoiceNo='567552', StockCode='23169', Description='CLASSIC GLASS COOKIE JAR', Quantity=6, InvoiceDate=datetime.datetime(2011, 9, 21, 10, 40), UnitPrice=4.15, CustomerID=12583.0, Country='France')),\n",
       " (12583.0,\n",
       "  Row(InvoiceNo='567552', StockCode='22326', Description='ROUND SNACK BOXES SET OF4 WOODLAND ', Quantity=12, InvoiceDate=datetime.datetime(2011, 9, 21, 10, 40), UnitPrice=2.95, CustomerID=12583.0, Country='France')),\n",
       " (12583.0,\n",
       "  Row(InvoiceNo='567552', StockCode='22492', Description='MINI PAINT SET VINTAGE ', Quantity=72, InvoiceDate=datetime.datetime(2011, 9, 21, 10, 40), UnitPrice=0.65, CustomerID=12583.0, Country='France')),\n",
       " (12583.0,\n",
       "  Row(InvoiceNo='567552', StockCode='21039', Description='RED RETROSPOT SHOPPING BAG', Quantity=6, InvoiceDate=datetime.datetime(2011, 9, 21, 10, 40), UnitPrice=2.55, CustomerID=12583.0, Country='France')),\n",
       " (12583.0,\n",
       "  Row(InvoiceNo='567552', StockCode='21210', Description='SET OF 72 RETROSPOT PAPER  DOILIES', Quantity=12, InvoiceDate=datetime.datetime(2011, 9, 21, 10, 40), UnitPrice=1.45, CustomerID=12583.0, Country='France')),\n",
       " (12583.0,\n",
       "  Row(InvoiceNo='567552', StockCode='22659', Description='LUNCH BOX I LOVE LONDON', Quantity=12, InvoiceDate=datetime.datetime(2011, 9, 21, 10, 40), UnitPrice=1.95, CustomerID=12583.0, Country='France')),\n",
       " (12583.0,\n",
       "  Row(InvoiceNo='567552', StockCode='22726', Description='ALARM CLOCK BAKELIKE GREEN', Quantity=8, InvoiceDate=datetime.datetime(2011, 9, 21, 10, 40), UnitPrice=3.75, CustomerID=12583.0, Country='France')),\n",
       " (12583.0,\n",
       "  Row(InvoiceNo='567552', StockCode='22727', Description='ALARM CLOCK BAKELIKE RED ', Quantity=12, InvoiceDate=datetime.datetime(2011, 9, 21, 10, 40), UnitPrice=3.75, CustomerID=12583.0, Country='France')),\n",
       " (12583.0,\n",
       "  Row(InvoiceNo='567552', StockCode='22728', Description='ALARM CLOCK BAKELIKE PINK', Quantity=8, InvoiceDate=datetime.datetime(2011, 9, 21, 10, 40), UnitPrice=3.75, CustomerID=12583.0, Country='France')),\n",
       " (12583.0,\n",
       "  Row(InvoiceNo='567552', StockCode='22333', Description='RETROSPOT PARTY BAG + STICKER SET', Quantity=16, InvoiceDate=datetime.datetime(2011, 9, 21, 10, 40), UnitPrice=1.65, CustomerID=12583.0, Country='France')),\n",
       " (12583.0,\n",
       "  Row(InvoiceNo='567552', StockCode='22466', Description='FAIRY TALE COTTAGE NIGHT LIGHT', Quantity=12, InvoiceDate=datetime.datetime(2011, 9, 21, 10, 40), UnitPrice=1.95, CustomerID=12583.0, Country='France')),\n",
       " (12583.0,\n",
       "  Row(InvoiceNo='567552', StockCode='23328', Description='SET 6 SCHOOL MILK BOTTLES IN CRATE', Quantity=4, InvoiceDate=datetime.datetime(2011, 9, 21, 10, 40), UnitPrice=3.75, CustomerID=12583.0, Country='France')),\n",
       " (12583.0,\n",
       "  Row(InvoiceNo='567552', StockCode='23388', Description='WOODLAND MINI BACKPACK', Quantity=4, InvoiceDate=datetime.datetime(2011, 9, 21, 10, 40), UnitPrice=4.15, CustomerID=12583.0, Country='France')),\n",
       " (12583.0,\n",
       "  Row(InvoiceNo='567552', StockCode='23389', Description='SPACEBOY MINI BACKPACK', Quantity=4, InvoiceDate=datetime.datetime(2011, 9, 21, 10, 40), UnitPrice=4.15, CustomerID=12583.0, Country='France')),\n",
       " (12583.0,\n",
       "  Row(InvoiceNo='567552', StockCode='23390', Description='DOLLY GIRL MINI BACKPACK', Quantity=4, InvoiceDate=datetime.datetime(2011, 9, 21, 10, 40), UnitPrice=4.15, CustomerID=12583.0, Country='France')),\n",
       " (12583.0,\n",
       "  Row(InvoiceNo='567552', StockCode='23373', Description='VINTAGE CHRISTMAS PAPER GIFT BAG', Quantity=10, InvoiceDate=datetime.datetime(2011, 9, 21, 10, 40), UnitPrice=0.82, CustomerID=12583.0, Country='France')),\n",
       " (12583.0,\n",
       "  Row(InvoiceNo='567552', StockCode='23374', Description='RED SPOT PAPER GIFT BAG', Quantity=20, InvoiceDate=datetime.datetime(2011, 9, 21, 10, 40), UnitPrice=0.82, CustomerID=12583.0, Country='France')),\n",
       " (12583.0,\n",
       "  Row(InvoiceNo='567552', StockCode='22991', Description='GIRAFFE WOODEN RULER', Quantity=12, InvoiceDate=datetime.datetime(2011, 9, 21, 10, 40), UnitPrice=1.95, CustomerID=12583.0, Country='France')),\n",
       " (12583.0,\n",
       "  Row(InvoiceNo='567552', StockCode='21731', Description='RED TOADSTOOL LED NIGHT LIGHT', Quantity=12, InvoiceDate=datetime.datetime(2011, 9, 21, 10, 40), UnitPrice=1.65, CustomerID=12583.0, Country='France')),\n",
       " (12583.0,\n",
       "  Row(InvoiceNo='567552', StockCode='22778', Description='GLASS CLOCHE SMALL', Quantity=4, InvoiceDate=datetime.datetime(2011, 9, 21, 10, 40), UnitPrice=3.95, CustomerID=12583.0, Country='France')),\n",
       " (12583.0,\n",
       "  Row(InvoiceNo='567552', StockCode='POST', Description='POSTAGE', Quantity=3, InvoiceDate=datetime.datetime(2011, 9, 21, 10, 40), UnitPrice=18.0, CustomerID=12583.0, Country='France')),\n",
       " (12583.0,\n",
       "  Row(InvoiceNo='567552', StockCode='22197', Description='POPCORN HOLDER', Quantity=24, InvoiceDate=datetime.datetime(2011, 9, 21, 10, 40), UnitPrice=0.85, CustomerID=12583.0, Country='France')),\n",
       " (12583.0,\n",
       "  Row(InvoiceNo='577687', StockCode='21212', Description='PACK OF 72 RETROSPOT CAKE CASES', Quantity=24, InvoiceDate=datetime.datetime(2011, 11, 21, 11, 16), UnitPrice=0.55, CustomerID=12583.0, Country='France')),\n",
       " (12583.0,\n",
       "  Row(InvoiceNo='577687', StockCode='23367', Description='SET 12 COLOUR PENCILS SPACEBOY ', Quantity=16, InvoiceDate=datetime.datetime(2011, 11, 21, 11, 16), UnitPrice=0.65, CustomerID=12583.0, Country='France')),\n",
       " (12583.0,\n",
       "  Row(InvoiceNo='577687', StockCode='23368', Description='SET 12 COLOUR PENCILS DOLLY GIRL ', Quantity=16, InvoiceDate=datetime.datetime(2011, 11, 21, 11, 16), UnitPrice=0.65, CustomerID=12583.0, Country='France')),\n",
       " (12583.0,\n",
       "  Row(InvoiceNo='577687', StockCode='22333', Description='RETROSPOT PARTY BAG + STICKER SET', Quantity=16, InvoiceDate=datetime.datetime(2011, 11, 21, 11, 16), UnitPrice=1.65, CustomerID=12583.0, Country='France')),\n",
       " (12583.0,\n",
       "  Row(InvoiceNo='577687', StockCode='22991', Description='GIRAFFE WOODEN RULER', Quantity=12, InvoiceDate=datetime.datetime(2011, 11, 21, 11, 16), UnitPrice=1.95, CustomerID=12583.0, Country='France')),\n",
       " (12583.0,\n",
       "  Row(InvoiceNo='577687', StockCode='21094', Description='SET/6 RED SPOTTY PAPER PLATES', Quantity=12, InvoiceDate=datetime.datetime(2011, 11, 21, 11, 16), UnitPrice=0.85, CustomerID=12583.0, Country='France')),\n",
       " (12583.0,\n",
       "  Row(InvoiceNo='577687', StockCode='21086', Description='SET/6 RED SPOTTY PAPER CUPS', Quantity=12, InvoiceDate=datetime.datetime(2011, 11, 21, 11, 16), UnitPrice=0.65, CustomerID=12583.0, Country='France')),\n",
       " (12583.0,\n",
       "  Row(InvoiceNo='577687', StockCode='21080', Description='SET/20 RED RETROSPOT PAPER NAPKINS ', Quantity=12, InvoiceDate=datetime.datetime(2011, 11, 21, 11, 16), UnitPrice=0.85, CustomerID=12583.0, Country='France')),\n",
       " (12583.0,\n",
       "  Row(InvoiceNo='577687', StockCode='21988', Description='PACK OF 6 SKULL PAPER PLATES', Quantity=12, InvoiceDate=datetime.datetime(2011, 11, 21, 11, 16), UnitPrice=0.85, CustomerID=12583.0, Country='France')),\n",
       " (12583.0,\n",
       "  Row(InvoiceNo='577687', StockCode='21989', Description='PACK OF 20 SKULL PAPER NAPKINS', Quantity=12, InvoiceDate=datetime.datetime(2011, 11, 21, 11, 16), UnitPrice=0.85, CustomerID=12583.0, Country='France')),\n",
       " (12583.0,\n",
       "  Row(InvoiceNo='577687', StockCode='21987', Description='PACK OF 6 SKULL PAPER CUPS', Quantity=12, InvoiceDate=datetime.datetime(2011, 11, 21, 11, 16), UnitPrice=0.65, CustomerID=12583.0, Country='France')),\n",
       " (12583.0,\n",
       "  Row(InvoiceNo='577687', StockCode='21680', Description='WOODLAND  STICKERS', Quantity=24, InvoiceDate=datetime.datetime(2011, 11, 21, 11, 16), UnitPrice=0.85, CustomerID=12583.0, Country='France')),\n",
       " (12583.0,\n",
       "  Row(InvoiceNo='577687', StockCode='22332', Description='SKULLS PARTY BAG + STICKER SET', Quantity=16, InvoiceDate=datetime.datetime(2011, 11, 21, 11, 16), UnitPrice=1.65, CustomerID=12583.0, Country='France')),\n",
       " (12583.0,\n",
       "  Row(InvoiceNo='577687', StockCode='23598', Description='PAPER BUNTING VINTAGE PARTY', Quantity=24, InvoiceDate=datetime.datetime(2011, 11, 21, 11, 16), UnitPrice=2.95, CustomerID=12583.0, Country='France')),\n",
       " (12583.0,\n",
       "  Row(InvoiceNo='577687', StockCode='POST', Description='POSTAGE', Quantity=3, InvoiceDate=datetime.datetime(2011, 11, 21, 11, 16), UnitPrice=18.0, CustomerID=12583.0, Country='France')),\n",
       " (12583.0,\n",
       "  Row(InvoiceNo='577687', StockCode='23084', Description='RABBIT NIGHT LIGHT', Quantity=48, InvoiceDate=datetime.datetime(2011, 11, 21, 11, 16), UnitPrice=1.79, CustomerID=12583.0, Country='France')),\n",
       " (12583.0,\n",
       "  Row(InvoiceNo='581001', StockCode='23562', Description='SET OF 6 RIBBONS PERFECTLY PRETTY  ', Quantity=6, InvoiceDate=datetime.datetime(2011, 12, 7, 8, 7), UnitPrice=2.89, CustomerID=12583.0, Country='France')),\n",
       " (12583.0,\n",
       "  Row(InvoiceNo='581001', StockCode='22540', Description='MINI JIGSAW CIRCUS PARADE ', Quantity=48, InvoiceDate=datetime.datetime(2011, 12, 7, 8, 7), UnitPrice=0.19, CustomerID=12583.0, Country='France')),\n",
       " (12583.0,\n",
       "  Row(InvoiceNo='581001', StockCode='22544', Description='MINI JIGSAW SPACEBOY', Quantity=48, InvoiceDate=datetime.datetime(2011, 12, 7, 8, 7), UnitPrice=0.19, CustomerID=12583.0, Country='France')),\n",
       " (12583.0,\n",
       "  Row(InvoiceNo='581001', StockCode='23480', Description='MINI LIGHTS WOODLAND MUSHROOMS', Quantity=32, InvoiceDate=datetime.datetime(2011, 12, 7, 8, 7), UnitPrice=3.75, CustomerID=12583.0, Country='France')),\n",
       " (12583.0,\n",
       "  Row(InvoiceNo='581001', StockCode='23084', Description='RABBIT NIGHT LIGHT', Quantity=24, InvoiceDate=datetime.datetime(2011, 12, 7, 8, 7), UnitPrice=1.79, CustomerID=12583.0, Country='France')),\n",
       " (12583.0,\n",
       "  Row(InvoiceNo='581001', StockCode='23298', Description='SPOTTY BUNTING', Quantity=12, InvoiceDate=datetime.datetime(2011, 12, 7, 8, 7), UnitPrice=4.95, CustomerID=12583.0, Country='France')),\n",
       " (12583.0,\n",
       "  Row(InvoiceNo='581001', StockCode='22909', Description='SET OF 20 VINTAGE CHRISTMAS NAPKINS', Quantity=12, InvoiceDate=datetime.datetime(2011, 12, 7, 8, 7), UnitPrice=0.85, CustomerID=12583.0, Country='France')),\n",
       " (12583.0,\n",
       "  Row(InvoiceNo='581001', StockCode='22613', Description='PACK OF 20 SPACEBOY NAPKINS', Quantity=12, InvoiceDate=datetime.datetime(2011, 12, 7, 8, 7), UnitPrice=0.85, CustomerID=12583.0, Country='France')),\n",
       " (12583.0,\n",
       "  Row(InvoiceNo='581001', StockCode='22617', Description='BAKING SET SPACEBOY DESIGN', Quantity=3, InvoiceDate=datetime.datetime(2011, 12, 7, 8, 7), UnitPrice=4.95, CustomerID=12583.0, Country='France')),\n",
       " (12583.0,\n",
       "  Row(InvoiceNo='581001', StockCode='23515', Description='EMBROIDERED RIBBON REEL DAISY ', Quantity=6, InvoiceDate=datetime.datetime(2011, 12, 7, 8, 7), UnitPrice=2.08, CustomerID=12583.0, Country='France')),\n",
       " (12583.0,\n",
       "  Row(InvoiceNo='581001', StockCode='22367', Description='CHILDRENS APRON SPACEBOY DESIGN', Quantity=8, InvoiceDate=datetime.datetime(2011, 12, 7, 8, 7), UnitPrice=1.95, CustomerID=12583.0, Country='France')),\n",
       " (12583.0,\n",
       "  Row(InvoiceNo='581001', StockCode='POST', Description='POSTAGE', Quantity=3, InvoiceDate=datetime.datetime(2011, 12, 7, 8, 7), UnitPrice=18.0, CustomerID=12583.0, Country='France')),\n",
       " (12583.0,\n",
       "  Row(InvoiceNo='581001', StockCode='21156', Description='RETROSPOT CHILDRENS APRON', Quantity=8, InvoiceDate=datetime.datetime(2011, 12, 7, 8, 7), UnitPrice=1.95, CustomerID=12583.0, Country='France')),\n",
       " (12583.0,\n",
       "  Row(InvoiceNo='581001', StockCode='22352', Description='LUNCH BOX WITH CUTLERY RETROSPOT ', Quantity=12, InvoiceDate=datetime.datetime(2011, 12, 7, 8, 7), UnitPrice=2.55, CustomerID=12583.0, Country='France')),\n",
       " (12583.0,\n",
       "  Row(InvoiceNo='581001', StockCode='21559', Description='STRAWBERRY LUNCH BOX WITH CUTLERY', Quantity=12, InvoiceDate=datetime.datetime(2011, 12, 7, 8, 7), UnitPrice=2.55, CustomerID=12583.0, Country='France')),\n",
       " (12583.0,\n",
       "  Row(InvoiceNo='581001', StockCode='22326', Description='ROUND SNACK BOXES SET OF4 WOODLAND ', Quantity=12, InvoiceDate=datetime.datetime(2011, 12, 7, 8, 7), UnitPrice=2.95, CustomerID=12583.0, Country='France')),\n",
       " (12583.0,\n",
       "  Row(InvoiceNo='581001', StockCode='23388', Description='WOODLAND MINI BACKPACK', Quantity=12, InvoiceDate=datetime.datetime(2011, 12, 7, 8, 7), UnitPrice=4.15, CustomerID=12583.0, Country='France')),\n",
       " (12583.0,\n",
       "  Row(InvoiceNo='581001', StockCode='22728', Description='ALARM CLOCK BAKELIKE PINK', Quantity=18, InvoiceDate=datetime.datetime(2011, 12, 7, 8, 7), UnitPrice=3.75, CustomerID=12583.0, Country='France')),\n",
       " (12583.0,\n",
       "  Row(InvoiceNo='581001', StockCode='22726', Description='ALARM CLOCK BAKELIKE GREEN', Quantity=24, InvoiceDate=datetime.datetime(2011, 12, 7, 8, 7), UnitPrice=3.75, CustomerID=12583.0, Country='France')),\n",
       " (12583.0,\n",
       "  Row(InvoiceNo='570851', StockCode='23389', Description='SPACEBOY MINI BACKPACK', Quantity=32, InvoiceDate=datetime.datetime(2011, 10, 12, 14, 46), UnitPrice=4.15, CustomerID=12583.0, Country='France')),\n",
       " (12583.0,\n",
       "  Row(InvoiceNo='570851', StockCode='23388', Description='WOODLAND MINI BACKPACK', Quantity=16, InvoiceDate=datetime.datetime(2011, 10, 12, 14, 46), UnitPrice=4.15, CustomerID=12583.0, Country='France')),\n",
       " (12583.0,\n",
       "  Row(InvoiceNo='570851', StockCode='23390', Description='DOLLY GIRL MINI BACKPACK', Quantity=16, InvoiceDate=datetime.datetime(2011, 10, 12, 14, 46), UnitPrice=4.15, CustomerID=12583.0, Country='France')),\n",
       " (12583.0,\n",
       "  Row(InvoiceNo='570851', StockCode='22197', Description='POPCORN HOLDER', Quantity=12, InvoiceDate=datetime.datetime(2011, 10, 12, 14, 46), UnitPrice=0.85, CustomerID=12583.0, Country='France')),\n",
       " (12583.0,\n",
       "  Row(InvoiceNo='570851', StockCode='POST', Description='POSTAGE', Quantity=1, InvoiceDate=datetime.datetime(2011, 10, 12, 14, 46), UnitPrice=18.0, CustomerID=12583.0, Country='France')),\n",
       " (12583.0,\n",
       "  Row(InvoiceNo='570851', StockCode='20724', Description='RED RETROSPOT CHARLOTTE BAG', Quantity=24, InvoiceDate=datetime.datetime(2011, 10, 12, 14, 46), UnitPrice=0.85, CustomerID=12583.0, Country='France')),\n",
       " (17850.0,\n",
       "  Row(InvoiceNo='536600', StockCode='85123A', Description='WHITE HANGING HEART T-LIGHT HOLDER', Quantity=6, InvoiceDate=datetime.datetime(2010, 12, 2, 8, 32), UnitPrice=2.55, CustomerID=17850.0, Country='United Kingdom')),\n",
       " (17850.0,\n",
       "  Row(InvoiceNo='536600', StockCode='71053', Description='WHITE METAL LANTERN', Quantity=6, InvoiceDate=datetime.datetime(2010, 12, 2, 8, 32), UnitPrice=3.39, CustomerID=17850.0, Country='United Kingdom')),\n",
       " (17850.0,\n",
       "  Row(InvoiceNo='536600', StockCode='82483', Description='WOOD 2 DRAWER CABINET WHITE FINISH', Quantity=4, InvoiceDate=datetime.datetime(2010, 12, 2, 8, 32), UnitPrice=4.95, CustomerID=17850.0, Country='United Kingdom')),\n",
       " (17850.0,\n",
       "  Row(InvoiceNo='536600', StockCode='82486', Description='WOOD S/3 CABINET ANT WHITE FINISH', Quantity=2, InvoiceDate=datetime.datetime(2010, 12, 2, 8, 32), UnitPrice=6.95, CustomerID=17850.0, Country='United Kingdom')),\n",
       " (17850.0,\n",
       "  Row(InvoiceNo='536600', StockCode='82482', Description='WOODEN PICTURE FRAME WHITE FINISH', Quantity=6, InvoiceDate=datetime.datetime(2010, 12, 2, 8, 32), UnitPrice=2.1, CustomerID=17850.0, Country='United Kingdom')),\n",
       " (17850.0,\n",
       "  Row(InvoiceNo='536600', StockCode='82494L', Description='WOODEN FRAME ANTIQUE WHITE ', Quantity=6, InvoiceDate=datetime.datetime(2010, 12, 2, 8, 32), UnitPrice=2.55, CustomerID=17850.0, Country='United Kingdom')),\n",
       " (17850.0,\n",
       "  Row(InvoiceNo='536600', StockCode='22411', Description='JUMBO SHOPPER VINTAGE RED PAISLEY', Quantity=6, InvoiceDate=datetime.datetime(2010, 12, 2, 8, 32), UnitPrice=1.65, CustomerID=17850.0, Country='United Kingdom')),\n",
       " (17850.0,\n",
       "  Row(InvoiceNo='536600', StockCode='84029G', Description='KNITTED UNION FLAG HOT WATER BOTTLE', Quantity=6, InvoiceDate=datetime.datetime(2010, 12, 2, 8, 32), UnitPrice=3.39, CustomerID=17850.0, Country='United Kingdom')),\n",
       " (17850.0,\n",
       "  Row(InvoiceNo='536600', StockCode='84029E', Description='RED WOOLLY HOTTIE WHITE HEART.', Quantity=6, InvoiceDate=datetime.datetime(2010, 12, 2, 8, 32), UnitPrice=3.39, CustomerID=17850.0, Country='United Kingdom')),\n",
       " (17850.0,\n",
       "  Row(InvoiceNo='536600', StockCode='22752', Description='SET 7 BABUSHKA NESTING BOXES', Quantity=2, InvoiceDate=datetime.datetime(2010, 12, 2, 8, 32), UnitPrice=7.65, CustomerID=17850.0, Country='United Kingdom')),\n",
       " (17850.0,\n",
       "  Row(InvoiceNo='536600', StockCode='22803', Description='IVORY EMBROIDERED QUILT ', Quantity=2, InvoiceDate=datetime.datetime(2010, 12, 2, 8, 32), UnitPrice=35.75, CustomerID=17850.0, Country='United Kingdom')),\n",
       " (17850.0,\n",
       "  Row(InvoiceNo='536600', StockCode='21730', Description='GLASS STAR FROSTED T-LIGHT HOLDER', Quantity=4, InvoiceDate=datetime.datetime(2010, 12, 2, 8, 32), UnitPrice=4.25, CustomerID=17850.0, Country='United Kingdom')),\n",
       " (17850.0,\n",
       "  Row(InvoiceNo='536601', StockCode='22632', Description='HAND WARMER RED POLKA DOT', Quantity=6, InvoiceDate=datetime.datetime(2010, 12, 2, 8, 33), UnitPrice=1.85, CustomerID=17850.0, Country='United Kingdom')),\n",
       " (17850.0,\n",
       "  Row(InvoiceNo='536601', StockCode='22633', Description='HAND WARMER UNION JACK', Quantity=6, InvoiceDate=datetime.datetime(2010, 12, 2, 8, 33), UnitPrice=1.85, CustomerID=17850.0, Country='United Kingdom')),\n",
       " (17850.0,\n",
       "  Row(InvoiceNo='536602', StockCode='37370', Description='RETRO COFFEE MUGS ASSORTED', Quantity=6, InvoiceDate=datetime.datetime(2010, 12, 2, 8, 34), UnitPrice=1.06, CustomerID=17850.0, Country='United Kingdom')),\n",
       " (17850.0,\n",
       "  Row(InvoiceNo='536602', StockCode='21871', Description='SAVE THE PLANET MUG', Quantity=6, InvoiceDate=datetime.datetime(2010, 12, 2, 8, 34), UnitPrice=1.06, CustomerID=17850.0, Country='United Kingdom')),\n",
       " (17850.0,\n",
       "  Row(InvoiceNo='536602', StockCode='21071', Description='VINTAGE BILLBOARD DRINK ME MUG', Quantity=6, InvoiceDate=datetime.datetime(2010, 12, 2, 8, 34), UnitPrice=1.06, CustomerID=17850.0, Country='United Kingdom')),\n",
       " (17850.0,\n",
       "  Row(InvoiceNo='536602', StockCode='21068', Description='VINTAGE BILLBOARD LOVE/HATE MUG', Quantity=6, InvoiceDate=datetime.datetime(2010, 12, 2, 8, 34), UnitPrice=1.06, CustomerID=17850.0, Country='United Kingdom')),\n",
       " (17850.0,\n",
       "  Row(InvoiceNo='536602', StockCode='82483', Description='WOOD 2 DRAWER CABINET WHITE FINISH', Quantity=4, InvoiceDate=datetime.datetime(2010, 12, 2, 8, 34), UnitPrice=4.95, CustomerID=17850.0, Country='United Kingdom')),\n",
       " (17850.0,\n",
       "  Row(InvoiceNo='536602', StockCode='22411', Description='JUMBO SHOPPER VINTAGE RED PAISLEY', Quantity=6, InvoiceDate=datetime.datetime(2010, 12, 2, 8, 34), UnitPrice=1.65, CustomerID=17850.0, Country='United Kingdom')),\n",
       " (17850.0,\n",
       "  Row(InvoiceNo='536602', StockCode='84029G', Description='KNITTED UNION FLAG HOT WATER BOTTLE', Quantity=6, InvoiceDate=datetime.datetime(2010, 12, 2, 8, 34), UnitPrice=3.39, CustomerID=17850.0, Country='United Kingdom')),\n",
       " (17850.0,\n",
       "  Row(InvoiceNo='536602', StockCode='84029E', Description='RED WOOLLY HOTTIE WHITE HEART.', Quantity=6, InvoiceDate=datetime.datetime(2010, 12, 2, 8, 34), UnitPrice=3.39, CustomerID=17850.0, Country='United Kingdom')),\n",
       " (17850.0,\n",
       "  Row(InvoiceNo='536602', StockCode='21730', Description='GLASS STAR FROSTED T-LIGHT HOLDER', Quantity=4, InvoiceDate=datetime.datetime(2010, 12, 2, 8, 34), UnitPrice=4.25, CustomerID=17850.0, Country='United Kingdom')),\n",
       " (17850.0,\n",
       "  Row(InvoiceNo='536602', StockCode='22752', Description='SET 7 BABUSHKA NESTING BOXES', Quantity=2, InvoiceDate=datetime.datetime(2010, 12, 2, 8, 34), UnitPrice=7.65, CustomerID=17850.0, Country='United Kingdom')),\n",
       " (17850.0,\n",
       "  Row(InvoiceNo='536602', StockCode='85123A', Description='WHITE HANGING HEART T-LIGHT HOLDER', Quantity=6, InvoiceDate=datetime.datetime(2010, 12, 2, 8, 34), UnitPrice=2.55, CustomerID=17850.0, Country='United Kingdom')),\n",
       " (17850.0,\n",
       "  Row(InvoiceNo='536602', StockCode='71053', Description='WHITE METAL LANTERN', Quantity=6, InvoiceDate=datetime.datetime(2010, 12, 2, 8, 34), UnitPrice=3.39, CustomerID=17850.0, Country='United Kingdom')),\n",
       " (17850.0,\n",
       "  Row(InvoiceNo='536603', StockCode='22632', Description='HAND WARMER RED POLKA DOT', Quantity=6, InvoiceDate=datetime.datetime(2010, 12, 2, 8, 40), UnitPrice=1.85, CustomerID=17850.0, Country='United Kingdom')),\n",
       " (17850.0,\n",
       "  Row(InvoiceNo='536603', StockCode='22633', Description='HAND WARMER UNION JACK', Quantity=6, InvoiceDate=datetime.datetime(2010, 12, 2, 8, 40), UnitPrice=1.85, CustomerID=17850.0, Country='United Kingdom')),\n",
       " (17850.0,\n",
       "  Row(InvoiceNo='536609', StockCode='85123A', Description='WHITE HANGING HEART T-LIGHT HOLDER', Quantity=6, InvoiceDate=datetime.datetime(2010, 12, 2, 9, 41), UnitPrice=2.55, CustomerID=17850.0, Country='United Kingdom')),\n",
       " (17850.0,\n",
       "  Row(InvoiceNo='536609', StockCode='71053', Description='WHITE METAL LANTERN', Quantity=6, InvoiceDate=datetime.datetime(2010, 12, 2, 9, 41), UnitPrice=3.39, CustomerID=17850.0, Country='United Kingdom')),\n",
       " (17850.0,\n",
       "  Row(InvoiceNo='536609', StockCode='84406B', Description='CREAM CUPID HEARTS COAT HANGER', Quantity=6, InvoiceDate=datetime.datetime(2010, 12, 2, 9, 41), UnitPrice=2.75, CustomerID=17850.0, Country='United Kingdom')),\n",
       " (17850.0,\n",
       "  Row(InvoiceNo='536609', StockCode='37370', Description='RETRO COFFEE MUGS ASSORTED', Quantity=6, InvoiceDate=datetime.datetime(2010, 12, 2, 9, 41), UnitPrice=1.06, CustomerID=17850.0, Country='United Kingdom')),\n",
       " (17850.0,\n",
       "  Row(InvoiceNo='536609', StockCode='21871', Description='SAVE THE PLANET MUG', Quantity=6, InvoiceDate=datetime.datetime(2010, 12, 2, 9, 41), UnitPrice=1.06, CustomerID=17850.0, Country='United Kingdom')),\n",
       " (17850.0,\n",
       "  Row(InvoiceNo='536609', StockCode='21071', Description='VINTAGE BILLBOARD DRINK ME MUG', Quantity=6, InvoiceDate=datetime.datetime(2010, 12, 2, 9, 41), UnitPrice=1.06, CustomerID=17850.0, Country='United Kingdom')),\n",
       " (17850.0,\n",
       "  Row(InvoiceNo='536609', StockCode='21068', Description='VINTAGE BILLBOARD LOVE/HATE MUG', Quantity=6, InvoiceDate=datetime.datetime(2010, 12, 2, 9, 41), UnitPrice=1.06, CustomerID=17850.0, Country='United Kingdom')),\n",
       " (17850.0,\n",
       "  Row(InvoiceNo='536609', StockCode='82483', Description='WOOD 2 DRAWER CABINET WHITE FINISH', Quantity=4, InvoiceDate=datetime.datetime(2010, 12, 2, 9, 41), UnitPrice=4.95, CustomerID=17850.0, Country='United Kingdom')),\n",
       " (17850.0,\n",
       "  Row(InvoiceNo='536609', StockCode='82486', Description='WOOD S/3 CABINET ANT WHITE FINISH', Quantity=4, InvoiceDate=datetime.datetime(2010, 12, 2, 9, 41), UnitPrice=6.95, CustomerID=17850.0, Country='United Kingdom')),\n",
       " (17850.0,\n",
       "  Row(InvoiceNo='536609', StockCode='82482', Description='WOODEN PICTURE FRAME WHITE FINISH', Quantity=6, InvoiceDate=datetime.datetime(2010, 12, 2, 9, 41), UnitPrice=2.1, CustomerID=17850.0, Country='United Kingdom')),\n",
       " (17850.0,\n",
       "  Row(InvoiceNo='536609', StockCode='82494L', Description='WOODEN FRAME ANTIQUE WHITE ', Quantity=6, InvoiceDate=datetime.datetime(2010, 12, 2, 9, 41), UnitPrice=2.55, CustomerID=17850.0, Country='United Kingdom')),\n",
       " (17850.0,\n",
       "  Row(InvoiceNo='536609', StockCode='22411', Description='JUMBO SHOPPER VINTAGE RED PAISLEY', Quantity=6, InvoiceDate=datetime.datetime(2010, 12, 2, 9, 41), UnitPrice=1.65, CustomerID=17850.0, Country='United Kingdom')),\n",
       " (17850.0,\n",
       "  Row(InvoiceNo='536609', StockCode='84029G', Description='KNITTED UNION FLAG HOT WATER BOTTLE', Quantity=6, InvoiceDate=datetime.datetime(2010, 12, 2, 9, 41), UnitPrice=3.39, CustomerID=17850.0, Country='United Kingdom')),\n",
       " (17850.0,\n",
       "  Row(InvoiceNo='536609', StockCode='84029E', Description='RED WOOLLY HOTTIE WHITE HEART.', Quantity=6, InvoiceDate=datetime.datetime(2010, 12, 2, 9, 41), UnitPrice=3.39, CustomerID=17850.0, Country='United Kingdom')),\n",
       " (17850.0,\n",
       "  Row(InvoiceNo='536609', StockCode='22752', Description='SET 7 BABUSHKA NESTING BOXES', Quantity=2, InvoiceDate=datetime.datetime(2010, 12, 2, 9, 41), UnitPrice=7.65, CustomerID=17850.0, Country='United Kingdom')),\n",
       " (17850.0,\n",
       "  Row(InvoiceNo='536609', StockCode='21730', Description='GLASS STAR FROSTED T-LIGHT HOLDER', Quantity=6, InvoiceDate=datetime.datetime(2010, 12, 2, 9, 41), UnitPrice=4.25, CustomerID=17850.0, Country='United Kingdom')),\n",
       " (17850.0,\n",
       "  Row(InvoiceNo='536610', StockCode='22632', Description='HAND WARMER RED POLKA DOT', Quantity=6, InvoiceDate=datetime.datetime(2010, 12, 2, 9, 42), UnitPrice=1.85, CustomerID=17850.0, Country='United Kingdom')),\n",
       " (17850.0,\n",
       "  Row(InvoiceNo='536610', StockCode='22633', Description='HAND WARMER UNION JACK', Quantity=6, InvoiceDate=datetime.datetime(2010, 12, 2, 9, 42), UnitPrice=1.85, CustomerID=17850.0, Country='United Kingdom')),\n",
       " (17850.0,\n",
       "  Row(InvoiceNo='536612', StockCode='85123A', Description='WHITE HANGING HEART T-LIGHT HOLDER', Quantity=6, InvoiceDate=datetime.datetime(2010, 12, 2, 9, 44), UnitPrice=2.55, CustomerID=17850.0, Country='United Kingdom')),\n",
       " (17850.0,\n",
       "  Row(InvoiceNo='536612', StockCode='71053', Description='WHITE METAL LANTERN', Quantity=6, InvoiceDate=datetime.datetime(2010, 12, 2, 9, 44), UnitPrice=3.39, CustomerID=17850.0, Country='United Kingdom')),\n",
       " (17850.0,\n",
       "  Row(InvoiceNo='536612', StockCode='84406B', Description='CREAM CUPID HEARTS COAT HANGER', Quantity=6, InvoiceDate=datetime.datetime(2010, 12, 2, 9, 44), UnitPrice=2.75, CustomerID=17850.0, Country='United Kingdom')),\n",
       " (17850.0,\n",
       "  Row(InvoiceNo='536612', StockCode='37370', Description='RETRO COFFEE MUGS ASSORTED', Quantity=6, InvoiceDate=datetime.datetime(2010, 12, 2, 9, 44), UnitPrice=1.06, CustomerID=17850.0, Country='United Kingdom')),\n",
       " (17850.0,\n",
       "  Row(InvoiceNo='536612', StockCode='21871', Description='SAVE THE PLANET MUG', Quantity=6, InvoiceDate=datetime.datetime(2010, 12, 2, 9, 44), UnitPrice=1.06, CustomerID=17850.0, Country='United Kingdom')),\n",
       " (17850.0,\n",
       "  Row(InvoiceNo='536612', StockCode='21071', Description='VINTAGE BILLBOARD DRINK ME MUG', Quantity=6, InvoiceDate=datetime.datetime(2010, 12, 2, 9, 44), UnitPrice=1.06, CustomerID=17850.0, Country='United Kingdom')),\n",
       " (17850.0,\n",
       "  Row(InvoiceNo='536612', StockCode='21068', Description='VINTAGE BILLBOARD LOVE/HATE MUG', Quantity=6, InvoiceDate=datetime.datetime(2010, 12, 2, 9, 44), UnitPrice=1.06, CustomerID=17850.0, Country='United Kingdom')),\n",
       " (17850.0,\n",
       "  Row(InvoiceNo='536612', StockCode='82483', Description='WOOD 2 DRAWER CABINET WHITE FINISH', Quantity=4, InvoiceDate=datetime.datetime(2010, 12, 2, 9, 44), UnitPrice=4.95, CustomerID=17850.0, Country='United Kingdom')),\n",
       " (17850.0,\n",
       "  Row(InvoiceNo='536612', StockCode='82486', Description='WOOD S/3 CABINET ANT WHITE FINISH', Quantity=2, InvoiceDate=datetime.datetime(2010, 12, 2, 9, 44), UnitPrice=6.95, CustomerID=17850.0, Country='United Kingdom')),\n",
       " (17850.0,\n",
       "  Row(InvoiceNo='536612', StockCode='82482', Description='WOODEN PICTURE FRAME WHITE FINISH', Quantity=6, InvoiceDate=datetime.datetime(2010, 12, 2, 9, 44), UnitPrice=2.1, CustomerID=17850.0, Country='United Kingdom')),\n",
       " (17850.0,\n",
       "  Row(InvoiceNo='536612', StockCode='82494L', Description='WOODEN FRAME ANTIQUE WHITE ', Quantity=6, InvoiceDate=datetime.datetime(2010, 12, 2, 9, 44), UnitPrice=2.55, CustomerID=17850.0, Country='United Kingdom')),\n",
       " (17850.0,\n",
       "  Row(InvoiceNo='536612', StockCode='22411', Description='JUMBO SHOPPER VINTAGE RED PAISLEY', Quantity=6, InvoiceDate=datetime.datetime(2010, 12, 2, 9, 44), UnitPrice=1.65, CustomerID=17850.0, Country='United Kingdom')),\n",
       " (17850.0,\n",
       "  Row(InvoiceNo='536612', StockCode='84029G', Description='KNITTED UNION FLAG HOT WATER BOTTLE', Quantity=6, InvoiceDate=datetime.datetime(2010, 12, 2, 9, 44), UnitPrice=3.39, CustomerID=17850.0, Country='United Kingdom')),\n",
       " (17850.0,\n",
       "  Row(InvoiceNo='536612', StockCode='84029E', Description='RED WOOLLY HOTTIE WHITE HEART.', Quantity=6, InvoiceDate=datetime.datetime(2010, 12, 2, 9, 44), UnitPrice=3.39, CustomerID=17850.0, Country='United Kingdom')),\n",
       " (17850.0,\n",
       "  Row(InvoiceNo='536612', StockCode='21730', Description='GLASS STAR FROSTED T-LIGHT HOLDER', Quantity=4, InvoiceDate=datetime.datetime(2010, 12, 2, 9, 44), UnitPrice=4.25, CustomerID=17850.0, Country='United Kingdom')),\n",
       " (17850.0,\n",
       "  Row(InvoiceNo='536614', StockCode='22632', Description='HAND WARMER RED POLKA DOT', Quantity=6, InvoiceDate=datetime.datetime(2010, 12, 2, 9, 44), UnitPrice=1.85, CustomerID=17850.0, Country='United Kingdom')),\n",
       " (17850.0,\n",
       "  Row(InvoiceNo='536614', StockCode='22633', Description='HAND WARMER UNION JACK', Quantity=6, InvoiceDate=datetime.datetime(2010, 12, 2, 9, 44), UnitPrice=1.85, CustomerID=17850.0, Country='United Kingdom')),\n",
       " (17850.0,\n",
       "  Row(InvoiceNo='536628', StockCode='85123A', Description='WHITE HANGING HEART T-LIGHT HOLDER', Quantity=6, InvoiceDate=datetime.datetime(2010, 12, 2, 10, 54), UnitPrice=2.55, CustomerID=17850.0, Country='United Kingdom')),\n",
       " (17850.0,\n",
       "  Row(InvoiceNo='536628', StockCode='71053', Description='WHITE METAL LANTERN', Quantity=6, InvoiceDate=datetime.datetime(2010, 12, 2, 10, 54), UnitPrice=3.39, CustomerID=17850.0, Country='United Kingdom')),\n",
       " (17850.0,\n",
       "  Row(InvoiceNo='536628', StockCode='84406B', Description='CREAM CUPID HEARTS COAT HANGER', Quantity=6, InvoiceDate=datetime.datetime(2010, 12, 2, 10, 54), UnitPrice=2.75, CustomerID=17850.0, Country='United Kingdom')),\n",
       " (17850.0,\n",
       "  Row(InvoiceNo='536628', StockCode='37370', Description='RETRO COFFEE MUGS ASSORTED', Quantity=6, InvoiceDate=datetime.datetime(2010, 12, 2, 10, 54), UnitPrice=1.06, CustomerID=17850.0, Country='United Kingdom')),\n",
       " (17850.0,\n",
       "  Row(InvoiceNo='536628', StockCode='21871', Description='SAVE THE PLANET MUG', Quantity=6, InvoiceDate=datetime.datetime(2010, 12, 2, 10, 54), UnitPrice=1.06, CustomerID=17850.0, Country='United Kingdom')),\n",
       " (17850.0,\n",
       "  Row(InvoiceNo='536628', StockCode='21071', Description='VINTAGE BILLBOARD DRINK ME MUG', Quantity=6, InvoiceDate=datetime.datetime(2010, 12, 2, 10, 54), UnitPrice=1.06, CustomerID=17850.0, Country='United Kingdom')),\n",
       " (17850.0,\n",
       "  Row(InvoiceNo='536628', StockCode='21068', Description='VINTAGE BILLBOARD LOVE/HATE MUG', Quantity=6, InvoiceDate=datetime.datetime(2010, 12, 2, 10, 54), UnitPrice=1.06, CustomerID=17850.0, Country='United Kingdom')),\n",
       " (17850.0,\n",
       "  Row(InvoiceNo='536628', StockCode='82483', Description='WOOD 2 DRAWER CABINET WHITE FINISH', Quantity=4, InvoiceDate=datetime.datetime(2010, 12, 2, 10, 54), UnitPrice=4.95, CustomerID=17850.0, Country='United Kingdom')),\n",
       " (17850.0,\n",
       "  Row(InvoiceNo='536628', StockCode='82486', Description='WOOD S/3 CABINET ANT WHITE FINISH', Quantity=2, InvoiceDate=datetime.datetime(2010, 12, 2, 10, 54), UnitPrice=6.95, CustomerID=17850.0, Country='United Kingdom')),\n",
       " (17850.0,\n",
       "  Row(InvoiceNo='536628', StockCode='82482', Description='WOODEN PICTURE FRAME WHITE FINISH', Quantity=6, InvoiceDate=datetime.datetime(2010, 12, 2, 10, 54), UnitPrice=2.1, CustomerID=17850.0, Country='United Kingdom')),\n",
       " (17850.0,\n",
       "  Row(InvoiceNo='536628', StockCode='82494L', Description='WOODEN FRAME ANTIQUE WHITE ', Quantity=6, InvoiceDate=datetime.datetime(2010, 12, 2, 10, 54), UnitPrice=2.55, CustomerID=17850.0, Country='United Kingdom')),\n",
       " (17850.0,\n",
       "  Row(InvoiceNo='536628', StockCode='22411', Description='JUMBO SHOPPER VINTAGE RED PAISLEY', Quantity=6, InvoiceDate=datetime.datetime(2010, 12, 2, 10, 54), UnitPrice=1.65, CustomerID=17850.0, Country='United Kingdom')),\n",
       " (17850.0,\n",
       "  Row(InvoiceNo='536628', StockCode='84029G', Description='KNITTED UNION FLAG HOT WATER BOTTLE', Quantity=6, InvoiceDate=datetime.datetime(2010, 12, 2, 10, 54), UnitPrice=3.39, CustomerID=17850.0, Country='United Kingdom')),\n",
       " (17850.0,\n",
       "  Row(InvoiceNo='536628', StockCode='84029E', Description='RED WOOLLY HOTTIE WHITE HEART.', Quantity=6, InvoiceDate=datetime.datetime(2010, 12, 2, 10, 54), UnitPrice=3.39, CustomerID=17850.0, Country='United Kingdom')),\n",
       " (17850.0,\n",
       "  Row(InvoiceNo='536628', StockCode='22752', Description='SET 7 BABUSHKA NESTING BOXES', Quantity=2, InvoiceDate=datetime.datetime(2010, 12, 2, 10, 54), UnitPrice=7.65, CustomerID=17850.0, Country='United Kingdom')),\n",
       " (17850.0,\n",
       "  Row(InvoiceNo='536628', StockCode='21730', Description='GLASS STAR FROSTED T-LIGHT HOLDER', Quantity=6, InvoiceDate=datetime.datetime(2010, 12, 2, 10, 54), UnitPrice=4.25, CustomerID=17850.0, Country='United Kingdom')),\n",
       " (17850.0,\n",
       "  Row(InvoiceNo='536629', StockCode='22632', Description='HAND WARMER RED POLKA DOT', Quantity=6, InvoiceDate=datetime.datetime(2010, 12, 2, 10, 55), UnitPrice=1.85, CustomerID=17850.0, Country='United Kingdom')),\n",
       " (17850.0,\n",
       "  Row(InvoiceNo='536629', StockCode='22633', Description='HAND WARMER UNION JACK', Quantity=6, InvoiceDate=datetime.datetime(2010, 12, 2, 10, 55), UnitPrice=1.85, CustomerID=17850.0, Country='United Kingdom')),\n",
       " (17850.0,\n",
       "  Row(InvoiceNo='536630', StockCode='85123A', Description='WHITE HANGING HEART T-LIGHT HOLDER', Quantity=6, InvoiceDate=datetime.datetime(2010, 12, 2, 10, 56), UnitPrice=2.55, CustomerID=17850.0, Country='United Kingdom')),\n",
       " (17850.0,\n",
       "  Row(InvoiceNo='536630', StockCode='71053', Description='WHITE METAL LANTERN', Quantity=6, InvoiceDate=datetime.datetime(2010, 12, 2, 10, 56), UnitPrice=3.39, CustomerID=17850.0, Country='United Kingdom')),\n",
       " (17850.0,\n",
       "  Row(InvoiceNo='536630', StockCode='84406B', Description='CREAM CUPID HEARTS COAT HANGER', Quantity=6, InvoiceDate=datetime.datetime(2010, 12, 2, 10, 56), UnitPrice=2.75, CustomerID=17850.0, Country='United Kingdom')),\n",
       " (17850.0,\n",
       "  Row(InvoiceNo='536630', StockCode='37370', Description='RETRO COFFEE MUGS ASSORTED', Quantity=6, InvoiceDate=datetime.datetime(2010, 12, 2, 10, 56), UnitPrice=1.06, CustomerID=17850.0, Country='United Kingdom')),\n",
       " (17850.0,\n",
       "  Row(InvoiceNo='536630', StockCode='21871', Description='SAVE THE PLANET MUG', Quantity=6, InvoiceDate=datetime.datetime(2010, 12, 2, 10, 56), UnitPrice=1.06, CustomerID=17850.0, Country='United Kingdom')),\n",
       " (17850.0,\n",
       "  Row(InvoiceNo='536630', StockCode='21071', Description='VINTAGE BILLBOARD DRINK ME MUG', Quantity=6, InvoiceDate=datetime.datetime(2010, 12, 2, 10, 56), UnitPrice=1.06, CustomerID=17850.0, Country='United Kingdom')),\n",
       " (17850.0,\n",
       "  Row(InvoiceNo='536630', StockCode='21068', Description='VINTAGE BILLBOARD LOVE/HATE MUG', Quantity=6, InvoiceDate=datetime.datetime(2010, 12, 2, 10, 56), UnitPrice=1.06, CustomerID=17850.0, Country='United Kingdom')),\n",
       " (17850.0,\n",
       "  Row(InvoiceNo='536630', StockCode='82483', Description='WOOD 2 DRAWER CABINET WHITE FINISH', Quantity=4, InvoiceDate=datetime.datetime(2010, 12, 2, 10, 56), UnitPrice=4.95, CustomerID=17850.0, Country='United Kingdom')),\n",
       " (17850.0,\n",
       "  Row(InvoiceNo='536630', StockCode='82486', Description='WOOD S/3 CABINET ANT WHITE FINISH', Quantity=4, InvoiceDate=datetime.datetime(2010, 12, 2, 10, 56), UnitPrice=6.95, CustomerID=17850.0, Country='United Kingdom')),\n",
       " (17850.0,\n",
       "  Row(InvoiceNo='536630', StockCode='82482', Description='WOODEN PICTURE FRAME WHITE FINISH', Quantity=6, InvoiceDate=datetime.datetime(2010, 12, 2, 10, 56), UnitPrice=2.1, CustomerID=17850.0, Country='United Kingdom')),\n",
       " (17850.0,\n",
       "  Row(InvoiceNo='536630', StockCode='82494L', Description='WOODEN FRAME ANTIQUE WHITE ', Quantity=6, InvoiceDate=datetime.datetime(2010, 12, 2, 10, 56), UnitPrice=2.55, CustomerID=17850.0, Country='United Kingdom')),\n",
       " (17850.0,\n",
       "  Row(InvoiceNo='536630', StockCode='22411', Description='JUMBO SHOPPER VINTAGE RED PAISLEY', Quantity=6, InvoiceDate=datetime.datetime(2010, 12, 2, 10, 56), UnitPrice=1.65, CustomerID=17850.0, Country='United Kingdom')),\n",
       " (17850.0,\n",
       "  Row(InvoiceNo='536630', StockCode='84029G', Description='KNITTED UNION FLAG HOT WATER BOTTLE', Quantity=6, InvoiceDate=datetime.datetime(2010, 12, 2, 10, 56), UnitPrice=3.39, CustomerID=17850.0, Country='United Kingdom')),\n",
       " (17850.0,\n",
       "  Row(InvoiceNo='536630', StockCode='84029E', Description='RED WOOLLY HOTTIE WHITE HEART.', Quantity=6, InvoiceDate=datetime.datetime(2010, 12, 2, 10, 56), UnitPrice=3.39, CustomerID=17850.0, Country='United Kingdom')),\n",
       " (17850.0,\n",
       "  Row(InvoiceNo='536630', StockCode='22752', Description='SET 7 BABUSHKA NESTING BOXES', Quantity=2, InvoiceDate=datetime.datetime(2010, 12, 2, 10, 56), UnitPrice=7.65, CustomerID=17850.0, Country='United Kingdom')),\n",
       " (17850.0,\n",
       "  Row(InvoiceNo='536630', StockCode='21730', Description='GLASS STAR FROSTED T-LIGHT HOLDER', Quantity=6, InvoiceDate=datetime.datetime(2010, 12, 2, 10, 56), UnitPrice=4.25, CustomerID=17850.0, Country='United Kingdom')),\n",
       " (17850.0,\n",
       "  Row(InvoiceNo='536631', StockCode='22632', Description='HAND WARMER RED POLKA DOT', Quantity=6, InvoiceDate=datetime.datetime(2010, 12, 2, 10, 58), UnitPrice=1.85, CustomerID=17850.0, Country='United Kingdom')),\n",
       " (17850.0,\n",
       "  Row(InvoiceNo='536631', StockCode='22633', Description='HAND WARMER UNION JACK', Quantity=6, InvoiceDate=datetime.datetime(2010, 12, 2, 10, 58), UnitPrice=1.85, CustomerID=17850.0, Country='United Kingdom')),\n",
       " (17850.0,\n",
       "  Row(InvoiceNo='536685', StockCode='84029E', Description='RED WOOLLY HOTTIE WHITE HEART.', Quantity=8, InvoiceDate=datetime.datetime(2010, 12, 2, 12, 23), UnitPrice=3.39, CustomerID=17850.0, Country='United Kingdom')),\n",
       " (17850.0,\n",
       "  Row(InvoiceNo='536685', StockCode='22752', Description='SET 7 BABUSHKA NESTING BOXES', Quantity=4, InvoiceDate=datetime.datetime(2010, 12, 2, 12, 23), UnitPrice=7.65, CustomerID=17850.0, Country='United Kingdom')),\n",
       " (17850.0,\n",
       "  Row(InvoiceNo='536685', StockCode='22803', Description='IVORY EMBROIDERED QUILT ', Quantity=2, InvoiceDate=datetime.datetime(2010, 12, 2, 12, 23), UnitPrice=35.75, CustomerID=17850.0, Country='United Kingdom')),\n",
       " (17850.0,\n",
       "  Row(InvoiceNo='536685', StockCode='21730', Description='GLASS STAR FROSTED T-LIGHT HOLDER', Quantity=6, InvoiceDate=datetime.datetime(2010, 12, 2, 12, 23), UnitPrice=4.25, CustomerID=17850.0, Country='United Kingdom')),\n",
       " (17850.0,\n",
       "  Row(InvoiceNo='536685', StockCode='85123A', Description='WHITE HANGING HEART T-LIGHT HOLDER', Quantity=12, InvoiceDate=datetime.datetime(2010, 12, 2, 12, 23), UnitPrice=2.55, CustomerID=17850.0, Country='United Kingdom')),\n",
       " (17850.0,\n",
       "  Row(InvoiceNo='536685', StockCode='71053', Description='WHITE METAL LANTERN', Quantity=12, InvoiceDate=datetime.datetime(2010, 12, 2, 12, 23), UnitPrice=3.39, CustomerID=17850.0, Country='United Kingdom')),\n",
       " (17850.0,\n",
       "  Row(InvoiceNo='536685', StockCode='84406B', Description='CREAM CUPID HEARTS COAT HANGER', Quantity=6, InvoiceDate=datetime.datetime(2010, 12, 2, 12, 23), UnitPrice=2.75, CustomerID=17850.0, Country='United Kingdom')),\n",
       " (17850.0,\n",
       "  Row(InvoiceNo='536685', StockCode='37370', Description='RETRO COFFEE MUGS ASSORTED', Quantity=6, InvoiceDate=datetime.datetime(2010, 12, 2, 12, 23), UnitPrice=1.06, CustomerID=17850.0, Country='United Kingdom')),\n",
       " (17850.0,\n",
       "  Row(InvoiceNo='536685', StockCode='21871', Description='SAVE THE PLANET MUG', Quantity=6, InvoiceDate=datetime.datetime(2010, 12, 2, 12, 23), UnitPrice=1.06, CustomerID=17850.0, Country='United Kingdom')),\n",
       " (17850.0,\n",
       "  Row(InvoiceNo='536685', StockCode='21071', Description='VINTAGE BILLBOARD DRINK ME MUG', Quantity=6, InvoiceDate=datetime.datetime(2010, 12, 2, 12, 23), UnitPrice=1.06, CustomerID=17850.0, Country='United Kingdom')),\n",
       " (17850.0,\n",
       "  Row(InvoiceNo='536685', StockCode='21068', Description='VINTAGE BILLBOARD LOVE/HATE MUG', Quantity=6, InvoiceDate=datetime.datetime(2010, 12, 2, 12, 23), UnitPrice=1.06, CustomerID=17850.0, Country='United Kingdom')),\n",
       " (17850.0,\n",
       "  Row(InvoiceNo='536685', StockCode='82483', Description='WOOD 2 DRAWER CABINET WHITE FINISH', Quantity=4, InvoiceDate=datetime.datetime(2010, 12, 2, 12, 23), UnitPrice=4.95, CustomerID=17850.0, Country='United Kingdom')),\n",
       " (17850.0,\n",
       "  Row(InvoiceNo='536685', StockCode='82486', Description='WOOD S/3 CABINET ANT WHITE FINISH', Quantity=4, InvoiceDate=datetime.datetime(2010, 12, 2, 12, 23), UnitPrice=6.95, CustomerID=17850.0, Country='United Kingdom')),\n",
       " (17850.0,\n",
       "  Row(InvoiceNo='536685', StockCode='82482', Description='WOODEN PICTURE FRAME WHITE FINISH', Quantity=6, InvoiceDate=datetime.datetime(2010, 12, 2, 12, 23), UnitPrice=2.1, CustomerID=17850.0, Country='United Kingdom')),\n",
       " (17850.0,\n",
       "  Row(InvoiceNo='536685', StockCode='82494L', Description='WOODEN FRAME ANTIQUE WHITE ', Quantity=6, InvoiceDate=datetime.datetime(2010, 12, 2, 12, 23), UnitPrice=2.55, CustomerID=17850.0, Country='United Kingdom')),\n",
       " (17850.0,\n",
       "  Row(InvoiceNo='536685', StockCode='22411', Description='JUMBO SHOPPER VINTAGE RED PAISLEY', Quantity=6, InvoiceDate=datetime.datetime(2010, 12, 2, 12, 23), UnitPrice=1.65, CustomerID=17850.0, Country='United Kingdom')),\n",
       " (17850.0,\n",
       "  Row(InvoiceNo='536685', StockCode='84029G', Description='KNITTED UNION FLAG HOT WATER BOTTLE', Quantity=8, InvoiceDate=datetime.datetime(2010, 12, 2, 12, 23), UnitPrice=3.39, CustomerID=17850.0, Country='United Kingdom')),\n",
       " (17850.0,\n",
       "  Row(InvoiceNo='536688', StockCode='22632', Description='HAND WARMER RED POLKA DOT', Quantity=6, InvoiceDate=datetime.datetime(2010, 12, 2, 12, 24), UnitPrice=1.85, CustomerID=17850.0, Country='United Kingdom')),\n",
       " (17850.0,\n",
       "  Row(InvoiceNo='536688', StockCode='22633', Description='HAND WARMER UNION JACK', Quantity=6, InvoiceDate=datetime.datetime(2010, 12, 2, 12, 24), UnitPrice=1.85, CustomerID=17850.0, Country='United Kingdom')),\n",
       " (17850.0,\n",
       "  Row(InvoiceNo='536690', StockCode='85123A', Description='WHITE HANGING HEART T-LIGHT HOLDER', Quantity=6, InvoiceDate=datetime.datetime(2010, 12, 2, 12, 25), UnitPrice=2.55, CustomerID=17850.0, Country='United Kingdom')),\n",
       " (17850.0,\n",
       "  Row(InvoiceNo='536690', StockCode='71053', Description='WHITE METAL LANTERN', Quantity=6, InvoiceDate=datetime.datetime(2010, 12, 2, 12, 25), UnitPrice=3.39, CustomerID=17850.0, Country='United Kingdom')),\n",
       " (17850.0,\n",
       "  Row(InvoiceNo='536690', StockCode='84406B', Description='CREAM CUPID HEARTS COAT HANGER', Quantity=6, InvoiceDate=datetime.datetime(2010, 12, 2, 12, 25), UnitPrice=2.75, CustomerID=17850.0, Country='United Kingdom')),\n",
       " (17850.0,\n",
       "  Row(InvoiceNo='536690', StockCode='37370', Description='RETRO COFFEE MUGS ASSORTED', Quantity=6, InvoiceDate=datetime.datetime(2010, 12, 2, 12, 25), UnitPrice=1.06, CustomerID=17850.0, Country='United Kingdom')),\n",
       " (17850.0,\n",
       "  Row(InvoiceNo='536690', StockCode='21871', Description='SAVE THE PLANET MUG', Quantity=6, InvoiceDate=datetime.datetime(2010, 12, 2, 12, 25), UnitPrice=1.06, CustomerID=17850.0, Country='United Kingdom')),\n",
       " (17850.0,\n",
       "  Row(InvoiceNo='536690', StockCode='21071', Description='VINTAGE BILLBOARD DRINK ME MUG', Quantity=6, InvoiceDate=datetime.datetime(2010, 12, 2, 12, 25), UnitPrice=1.06, CustomerID=17850.0, Country='United Kingdom')),\n",
       " (17850.0,\n",
       "  Row(InvoiceNo='536690', StockCode='21068', Description='VINTAGE BILLBOARD LOVE/HATE MUG', Quantity=6, InvoiceDate=datetime.datetime(2010, 12, 2, 12, 25), UnitPrice=1.06, CustomerID=17850.0, Country='United Kingdom')),\n",
       " (17850.0,\n",
       "  Row(InvoiceNo='536690', StockCode='82483', Description='WOOD 2 DRAWER CABINET WHITE FINISH', Quantity=4, InvoiceDate=datetime.datetime(2010, 12, 2, 12, 25), UnitPrice=4.95, CustomerID=17850.0, Country='United Kingdom')),\n",
       " (17850.0,\n",
       "  Row(InvoiceNo='536690', StockCode='82486', Description='WOOD S/3 CABINET ANT WHITE FINISH', Quantity=4, InvoiceDate=datetime.datetime(2010, 12, 2, 12, 25), UnitPrice=6.95, CustomerID=17850.0, Country='United Kingdom')),\n",
       " (17850.0,\n",
       "  Row(InvoiceNo='536690', StockCode='82482', Description='WOODEN PICTURE FRAME WHITE FINISH', Quantity=6, InvoiceDate=datetime.datetime(2010, 12, 2, 12, 25), UnitPrice=2.1, CustomerID=17850.0, Country='United Kingdom')),\n",
       " (17850.0,\n",
       "  Row(InvoiceNo='536690', StockCode='82494L', Description='WOODEN FRAME ANTIQUE WHITE ', Quantity=6, InvoiceDate=datetime.datetime(2010, 12, 2, 12, 25), UnitPrice=2.55, CustomerID=17850.0, Country='United Kingdom')),\n",
       " (17850.0,\n",
       "  Row(InvoiceNo='536690', StockCode='22411', Description='JUMBO SHOPPER VINTAGE RED PAISLEY', Quantity=6, InvoiceDate=datetime.datetime(2010, 12, 2, 12, 25), UnitPrice=1.65, CustomerID=17850.0, Country='United Kingdom')),\n",
       " (17850.0,\n",
       "  Row(InvoiceNo='536690', StockCode='84029G', Description='KNITTED UNION FLAG HOT WATER BOTTLE', Quantity=6, InvoiceDate=datetime.datetime(2010, 12, 2, 12, 25), UnitPrice=3.39, CustomerID=17850.0, Country='United Kingdom')),\n",
       " (17850.0,\n",
       "  Row(InvoiceNo='536690', StockCode='84029E', Description='RED WOOLLY HOTTIE WHITE HEART.', Quantity=6, InvoiceDate=datetime.datetime(2010, 12, 2, 12, 25), UnitPrice=3.39, CustomerID=17850.0, Country='United Kingdom')),\n",
       " (17850.0,\n",
       "  Row(InvoiceNo='536690', StockCode='22752', Description='SET 7 BABUSHKA NESTING BOXES', Quantity=4, InvoiceDate=datetime.datetime(2010, 12, 2, 12, 25), UnitPrice=7.65, CustomerID=17850.0, Country='United Kingdom')),\n",
       " (17850.0,\n",
       "  Row(InvoiceNo='536690', StockCode='22803', Description='IVORY EMBROIDERED QUILT ', Quantity=2, InvoiceDate=datetime.datetime(2010, 12, 2, 12, 25), UnitPrice=35.75, CustomerID=17850.0, Country='United Kingdom')),\n",
       " (17850.0,\n",
       "  Row(InvoiceNo='536690', StockCode='21730', Description='GLASS STAR FROSTED T-LIGHT HOLDER', Quantity=6, InvoiceDate=datetime.datetime(2010, 12, 2, 12, 25), UnitPrice=4.25, CustomerID=17850.0, Country='United Kingdom')),\n",
       " (17850.0,\n",
       "  Row(InvoiceNo='536693', StockCode='22632', Description='HAND WARMER RED POLKA DOT', Quantity=6, InvoiceDate=datetime.datetime(2010, 12, 2, 12, 26), UnitPrice=1.85, CustomerID=17850.0, Country='United Kingdom')),\n",
       " (17850.0,\n",
       "  Row(InvoiceNo='536693', StockCode='22633', Description='HAND WARMER UNION JACK', Quantity=6, InvoiceDate=datetime.datetime(2010, 12, 2, 12, 26), UnitPrice=1.85, CustomerID=17850.0, Country='United Kingdom')),\n",
       " (17850.0,\n",
       "  Row(InvoiceNo='536750', StockCode='85123A', Description='WHITE HANGING HEART T-LIGHT HOLDER', Quantity=12, InvoiceDate=datetime.datetime(2010, 12, 2, 14, 4), UnitPrice=2.55, CustomerID=17850.0, Country='United Kingdom')),\n",
       " (17850.0,\n",
       "  Row(InvoiceNo='536750', StockCode='71053', Description='WHITE METAL LANTERN', Quantity=12, InvoiceDate=datetime.datetime(2010, 12, 2, 14, 4), UnitPrice=3.39, CustomerID=17850.0, Country='United Kingdom')),\n",
       " (17850.0,\n",
       "  Row(InvoiceNo='536750', StockCode='84406B', Description='CREAM CUPID HEARTS COAT HANGER', Quantity=6, InvoiceDate=datetime.datetime(2010, 12, 2, 14, 4), UnitPrice=2.75, CustomerID=17850.0, Country='United Kingdom')),\n",
       " (17850.0,\n",
       "  Row(InvoiceNo='536750', StockCode='15056BL', Description='EDWARDIAN PARASOL BLACK', Quantity=6, InvoiceDate=datetime.datetime(2010, 12, 2, 14, 4), UnitPrice=4.95, CustomerID=17850.0, Country='United Kingdom')),\n",
       " (17850.0,\n",
       "  Row(InvoiceNo='536750', StockCode='20679', Description='EDWARDIAN PARASOL RED', Quantity=6, InvoiceDate=datetime.datetime(2010, 12, 2, 14, 4), UnitPrice=4.95, CustomerID=17850.0, Country='United Kingdom')),\n",
       " (17850.0,\n",
       "  Row(InvoiceNo='536750', StockCode='37370', Description='RETRO COFFEE MUGS ASSORTED', Quantity=6, InvoiceDate=datetime.datetime(2010, 12, 2, 14, 4), UnitPrice=1.06, CustomerID=17850.0, Country='United Kingdom')),\n",
       " (17850.0,\n",
       "  Row(InvoiceNo='536750', StockCode='21871', Description='SAVE THE PLANET MUG', Quantity=6, InvoiceDate=datetime.datetime(2010, 12, 2, 14, 4), UnitPrice=1.06, CustomerID=17850.0, Country='United Kingdom')),\n",
       " (17850.0,\n",
       "  Row(InvoiceNo='536750', StockCode='21071', Description='VINTAGE BILLBOARD DRINK ME MUG', Quantity=6, InvoiceDate=datetime.datetime(2010, 12, 2, 14, 4), UnitPrice=1.06, CustomerID=17850.0, Country='United Kingdom')),\n",
       " (17850.0,\n",
       "  Row(InvoiceNo='536750', StockCode='21068', Description='VINTAGE BILLBOARD LOVE/HATE MUG', Quantity=6, InvoiceDate=datetime.datetime(2010, 12, 2, 14, 4), UnitPrice=1.06, CustomerID=17850.0, Country='United Kingdom')),\n",
       " (17850.0,\n",
       "  Row(InvoiceNo='536750', StockCode='82483', Description='WOOD 2 DRAWER CABINET WHITE FINISH', Quantity=4, InvoiceDate=datetime.datetime(2010, 12, 2, 14, 4), UnitPrice=4.95, CustomerID=17850.0, Country='United Kingdom')),\n",
       " (17850.0,\n",
       "  Row(InvoiceNo='536750', StockCode='82486', Description='WOOD S/3 CABINET ANT WHITE FINISH', Quantity=4, InvoiceDate=datetime.datetime(2010, 12, 2, 14, 4), UnitPrice=6.95, CustomerID=17850.0, Country='United Kingdom')),\n",
       " (17850.0,\n",
       "  Row(InvoiceNo='536750', StockCode='82482', Description='WOODEN PICTURE FRAME WHITE FINISH', Quantity=6, InvoiceDate=datetime.datetime(2010, 12, 2, 14, 4), UnitPrice=2.1, CustomerID=17850.0, Country='United Kingdom')),\n",
       " (17850.0,\n",
       "  Row(InvoiceNo='536750', StockCode='82494L', Description='WOODEN FRAME ANTIQUE WHITE ', Quantity=6, InvoiceDate=datetime.datetime(2010, 12, 2, 14, 4), UnitPrice=2.55, CustomerID=17850.0, Country='United Kingdom')),\n",
       " (17850.0,\n",
       "  Row(InvoiceNo='536750', StockCode='22411', Description='JUMBO SHOPPER VINTAGE RED PAISLEY', Quantity=6, InvoiceDate=datetime.datetime(2010, 12, 2, 14, 4), UnitPrice=1.65, CustomerID=17850.0, Country='United Kingdom')),\n",
       " (17850.0,\n",
       "  Row(InvoiceNo='536750', StockCode='84029G', Description='KNITTED UNION FLAG HOT WATER BOTTLE', Quantity=6, InvoiceDate=datetime.datetime(2010, 12, 2, 14, 4), UnitPrice=3.39, CustomerID=17850.0, Country='United Kingdom')),\n",
       " (17850.0,\n",
       "  Row(InvoiceNo='536750', StockCode='84029E', Description='RED WOOLLY HOTTIE WHITE HEART.', Quantity=6, InvoiceDate=datetime.datetime(2010, 12, 2, 14, 4), UnitPrice=3.39, CustomerID=17850.0, Country='United Kingdom')),\n",
       " (17850.0,\n",
       "  Row(InvoiceNo='536750', StockCode='22752', Description='SET 7 BABUSHKA NESTING BOXES', Quantity=4, InvoiceDate=datetime.datetime(2010, 12, 2, 14, 4), UnitPrice=7.65, CustomerID=17850.0, Country='United Kingdom')),\n",
       " (17850.0,\n",
       "  Row(InvoiceNo='536750', StockCode='22803', Description='IVORY EMBROIDERED QUILT ', Quantity=2, InvoiceDate=datetime.datetime(2010, 12, 2, 14, 4), UnitPrice=35.75, CustomerID=17850.0, Country='United Kingdom')),\n",
       " (17850.0,\n",
       "  Row(InvoiceNo='536750', StockCode='21730', Description='GLASS STAR FROSTED T-LIGHT HOLDER', Quantity=8, InvoiceDate=datetime.datetime(2010, 12, 2, 14, 4), UnitPrice=4.25, CustomerID=17850.0, Country='United Kingdom')),\n",
       " (17850.0,\n",
       "  Row(InvoiceNo='536751', StockCode='22632', Description='HAND WARMER RED POLKA DOT', Quantity=6, InvoiceDate=datetime.datetime(2010, 12, 2, 14, 5), UnitPrice=1.85, CustomerID=17850.0, Country='United Kingdom')),\n",
       " (17850.0,\n",
       "  Row(InvoiceNo='536751', StockCode='22633', Description='HAND WARMER UNION JACK', Quantity=6, InvoiceDate=datetime.datetime(2010, 12, 2, 14, 5), UnitPrice=1.85, CustomerID=17850.0, Country='United Kingdom')),\n",
       " (17850.0,\n",
       "  Row(InvoiceNo='536752', StockCode='85123A', Description='WHITE HANGING HEART T-LIGHT HOLDER', Quantity=6, InvoiceDate=datetime.datetime(2010, 12, 2, 14, 6), UnitPrice=2.55, CustomerID=17850.0, Country='United Kingdom')),\n",
       " (17850.0,\n",
       "  Row(InvoiceNo='536752', StockCode='71053', Description='WHITE METAL LANTERN', Quantity=6, InvoiceDate=datetime.datetime(2010, 12, 2, 14, 6), UnitPrice=3.39, CustomerID=17850.0, Country='United Kingdom')),\n",
       " (17850.0,\n",
       "  Row(InvoiceNo='536752', StockCode='84406B', Description='CREAM CUPID HEARTS COAT HANGER', Quantity=6, InvoiceDate=datetime.datetime(2010, 12, 2, 14, 6), UnitPrice=2.75, CustomerID=17850.0, Country='United Kingdom')),\n",
       " (17850.0,\n",
       "  Row(InvoiceNo='536752', StockCode='15056BL', Description='EDWARDIAN PARASOL BLACK', Quantity=6, InvoiceDate=datetime.datetime(2010, 12, 2, 14, 6), UnitPrice=4.95, CustomerID=17850.0, Country='United Kingdom')),\n",
       " (17850.0,\n",
       "  Row(InvoiceNo='536752', StockCode='20679', Description='EDWARDIAN PARASOL RED', Quantity=6, InvoiceDate=datetime.datetime(2010, 12, 2, 14, 6), UnitPrice=4.95, CustomerID=17850.0, Country='United Kingdom')),\n",
       " (17850.0,\n",
       "  Row(InvoiceNo='536752', StockCode='37370', Description='RETRO COFFEE MUGS ASSORTED', Quantity=6, InvoiceDate=datetime.datetime(2010, 12, 2, 14, 6), UnitPrice=1.06, CustomerID=17850.0, Country='United Kingdom')),\n",
       " (17850.0,\n",
       "  Row(InvoiceNo='536752', StockCode='21871', Description='SAVE THE PLANET MUG', Quantity=6, InvoiceDate=datetime.datetime(2010, 12, 2, 14, 6), UnitPrice=1.06, CustomerID=17850.0, Country='United Kingdom')),\n",
       " (17850.0,\n",
       "  Row(InvoiceNo='536752', StockCode='21071', Description='VINTAGE BILLBOARD DRINK ME MUG', Quantity=6, InvoiceDate=datetime.datetime(2010, 12, 2, 14, 6), UnitPrice=1.06, CustomerID=17850.0, Country='United Kingdom')),\n",
       " (17850.0,\n",
       "  Row(InvoiceNo='536752', StockCode='21068', Description='VINTAGE BILLBOARD LOVE/HATE MUG', Quantity=6, InvoiceDate=datetime.datetime(2010, 12, 2, 14, 6), UnitPrice=1.06, CustomerID=17850.0, Country='United Kingdom')),\n",
       " (17850.0,\n",
       "  Row(InvoiceNo='536752', StockCode='82483', Description='WOOD 2 DRAWER CABINET WHITE FINISH', Quantity=4, InvoiceDate=datetime.datetime(2010, 12, 2, 14, 6), UnitPrice=4.95, CustomerID=17850.0, Country='United Kingdom')),\n",
       " (17850.0,\n",
       "  Row(InvoiceNo='536752', StockCode='82486', Description='WOOD S/3 CABINET ANT WHITE FINISH', Quantity=4, InvoiceDate=datetime.datetime(2010, 12, 2, 14, 6), UnitPrice=6.95, CustomerID=17850.0, Country='United Kingdom')),\n",
       " (17850.0,\n",
       "  Row(InvoiceNo='536752', StockCode='82482', Description='WOODEN PICTURE FRAME WHITE FINISH', Quantity=6, InvoiceDate=datetime.datetime(2010, 12, 2, 14, 6), UnitPrice=2.1, CustomerID=17850.0, Country='United Kingdom')),\n",
       " (17850.0,\n",
       "  Row(InvoiceNo='536752', StockCode='82494L', Description='WOODEN FRAME ANTIQUE WHITE ', Quantity=6, InvoiceDate=datetime.datetime(2010, 12, 2, 14, 6), UnitPrice=2.55, CustomerID=17850.0, Country='United Kingdom')),\n",
       " (17850.0,\n",
       "  Row(InvoiceNo='536752', StockCode='22411', Description='JUMBO SHOPPER VINTAGE RED PAISLEY', Quantity=6, InvoiceDate=datetime.datetime(2010, 12, 2, 14, 6), UnitPrice=1.65, CustomerID=17850.0, Country='United Kingdom')),\n",
       " (17850.0,\n",
       "  Row(InvoiceNo='536752', StockCode='84029G', Description='KNITTED UNION FLAG HOT WATER BOTTLE', Quantity=6, InvoiceDate=datetime.datetime(2010, 12, 2, 14, 6), UnitPrice=3.39, CustomerID=17850.0, Country='United Kingdom')),\n",
       " (17850.0,\n",
       "  Row(InvoiceNo='536752', StockCode='84029E', Description='RED WOOLLY HOTTIE WHITE HEART.', Quantity=6, InvoiceDate=datetime.datetime(2010, 12, 2, 14, 6), UnitPrice=3.39, CustomerID=17850.0, Country='United Kingdom')),\n",
       " (17850.0,\n",
       "  Row(InvoiceNo='536752', StockCode='22752', Description='SET 7 BABUSHKA NESTING BOXES', Quantity=4, InvoiceDate=datetime.datetime(2010, 12, 2, 14, 6), UnitPrice=7.65, CustomerID=17850.0, Country='United Kingdom')),\n",
       " (17850.0,\n",
       "  Row(InvoiceNo='536752', StockCode='22803', Description='IVORY EMBROIDERED QUILT ', Quantity=2, InvoiceDate=datetime.datetime(2010, 12, 2, 14, 6), UnitPrice=35.75, CustomerID=17850.0, Country='United Kingdom')),\n",
       " (17850.0,\n",
       "  Row(InvoiceNo='536752', StockCode='21730', Description='GLASS STAR FROSTED T-LIGHT HOLDER', Quantity=6, InvoiceDate=datetime.datetime(2010, 12, 2, 14, 6), UnitPrice=4.25, CustomerID=17850.0, Country='United Kingdom')),\n",
       " (17850.0,\n",
       "  Row(InvoiceNo='536753', StockCode='22632', Description='HAND WARMER RED POLKA DOT', Quantity=6, InvoiceDate=datetime.datetime(2010, 12, 2, 14, 7), UnitPrice=1.85, CustomerID=17850.0, Country='United Kingdom')),\n",
       " (17850.0,\n",
       "  Row(InvoiceNo='536753', StockCode='22633', Description='HAND WARMER UNION JACK', Quantity=6, InvoiceDate=datetime.datetime(2010, 12, 2, 14, 7), UnitPrice=1.85, CustomerID=17850.0, Country='United Kingdom')),\n",
       " (17850.0,\n",
       "  Row(InvoiceNo='536787', StockCode='85123A', Description='WHITE HANGING HEART T-LIGHT HOLDER', Quantity=6, InvoiceDate=datetime.datetime(2010, 12, 2, 15, 24), UnitPrice=2.55, CustomerID=17850.0, Country='United Kingdom')),\n",
       " (17850.0,\n",
       "  Row(InvoiceNo='536787', StockCode='71053', Description='WHITE METAL LANTERN', Quantity=6, InvoiceDate=datetime.datetime(2010, 12, 2, 15, 24), UnitPrice=3.39, CustomerID=17850.0, Country='United Kingdom')),\n",
       " (17850.0,\n",
       "  Row(InvoiceNo='536787', StockCode='84406B', Description='CREAM CUPID HEARTS COAT HANGER', Quantity=8, InvoiceDate=datetime.datetime(2010, 12, 2, 15, 24), UnitPrice=2.75, CustomerID=17850.0, Country='United Kingdom')),\n",
       " (17850.0,\n",
       "  Row(InvoiceNo='536787', StockCode='37370', Description='RETRO COFFEE MUGS ASSORTED', Quantity=6, InvoiceDate=datetime.datetime(2010, 12, 2, 15, 24), UnitPrice=1.06, CustomerID=17850.0, Country='United Kingdom')),\n",
       " (17850.0,\n",
       "  Row(InvoiceNo='536787', StockCode='21871', Description='SAVE THE PLANET MUG', Quantity=6, InvoiceDate=datetime.datetime(2010, 12, 2, 15, 24), UnitPrice=1.06, CustomerID=17850.0, Country='United Kingdom')),\n",
       " (17850.0,\n",
       "  Row(InvoiceNo='536787', StockCode='21071', Description='VINTAGE BILLBOARD DRINK ME MUG', Quantity=6, InvoiceDate=datetime.datetime(2010, 12, 2, 15, 24), UnitPrice=1.06, CustomerID=17850.0, Country='United Kingdom')),\n",
       " (17850.0,\n",
       "  Row(InvoiceNo='536787', StockCode='21068', Description='VINTAGE BILLBOARD LOVE/HATE MUG', Quantity=6, InvoiceDate=datetime.datetime(2010, 12, 2, 15, 24), UnitPrice=1.06, CustomerID=17850.0, Country='United Kingdom')),\n",
       " (17850.0,\n",
       "  Row(InvoiceNo='536787', StockCode='82482', Description='WOODEN PICTURE FRAME WHITE FINISH', Quantity=6, InvoiceDate=datetime.datetime(2010, 12, 2, 15, 24), UnitPrice=2.1, CustomerID=17850.0, Country='United Kingdom')),\n",
       " (17850.0,\n",
       "  Row(InvoiceNo='536787', StockCode='82494L', Description='WOODEN FRAME ANTIQUE WHITE ', Quantity=6, InvoiceDate=datetime.datetime(2010, 12, 2, 15, 24), UnitPrice=2.55, CustomerID=17850.0, Country='United Kingdom')),\n",
       " (17850.0,\n",
       "  Row(InvoiceNo='536787', StockCode='84029G', Description='KNITTED UNION FLAG HOT WATER BOTTLE', Quantity=6, InvoiceDate=datetime.datetime(2010, 12, 2, 15, 24), UnitPrice=3.39, CustomerID=17850.0, Country='United Kingdom')),\n",
       " (17850.0,\n",
       "  Row(InvoiceNo='536787', StockCode='84029E', Description='RED WOOLLY HOTTIE WHITE HEART.', Quantity=6, InvoiceDate=datetime.datetime(2010, 12, 2, 15, 24), UnitPrice=3.39, CustomerID=17850.0, Country='United Kingdom')),\n",
       " (17850.0,\n",
       "  Row(InvoiceNo='536787', StockCode='22752', Description='SET 7 BABUSHKA NESTING BOXES', Quantity=2, InvoiceDate=datetime.datetime(2010, 12, 2, 15, 24), UnitPrice=7.65, CustomerID=17850.0, Country='United Kingdom')),\n",
       " (17850.0,\n",
       "  Row(InvoiceNo='536787', StockCode='21730', Description='GLASS STAR FROSTED T-LIGHT HOLDER', Quantity=6, InvoiceDate=datetime.datetime(2010, 12, 2, 15, 24), UnitPrice=4.25, CustomerID=17850.0, Country='United Kingdom')),\n",
       " (17850.0,\n",
       "  Row(InvoiceNo='536789', StockCode='22633', Description='HAND WARMER UNION JACK', Quantity=6, InvoiceDate=datetime.datetime(2010, 12, 2, 15, 25), UnitPrice=1.85, CustomerID=17850.0, Country='United Kingdom')),\n",
       " (17850.0,\n",
       "  Row(InvoiceNo='536789', StockCode='22632', Description='HAND WARMER RED POLKA DOT', Quantity=6, InvoiceDate=datetime.datetime(2010, 12, 2, 15, 25), UnitPrice=1.85, CustomerID=17850.0, Country='United Kingdom')),\n",
       " (17850.0,\n",
       "  Row(InvoiceNo='536790', StockCode='85123A', Description='WHITE HANGING HEART T-LIGHT HOLDER', Quantity=12, InvoiceDate=datetime.datetime(2010, 12, 2, 15, 26), UnitPrice=2.95, CustomerID=17850.0, Country='United Kingdom')),\n",
       " (17850.0,\n",
       "  Row(InvoiceNo='536790', StockCode='71053', Description='WHITE METAL LANTERN', Quantity=12, InvoiceDate=datetime.datetime(2010, 12, 2, 15, 26), UnitPrice=3.39, CustomerID=17850.0, Country='United Kingdom')),\n",
       " (17850.0,\n",
       "  Row(InvoiceNo='536790', StockCode='84406B', Description='CREAM CUPID HEARTS COAT HANGER', Quantity=12, InvoiceDate=datetime.datetime(2010, 12, 2, 15, 26), UnitPrice=2.75, CustomerID=17850.0, Country='United Kingdom')),\n",
       " (17850.0,\n",
       "  Row(InvoiceNo='536790', StockCode='15056BL', Description='EDWARDIAN PARASOL BLACK', Quantity=6, InvoiceDate=datetime.datetime(2010, 12, 2, 15, 26), UnitPrice=4.95, CustomerID=17850.0, Country='United Kingdom')),\n",
       " (17850.0,\n",
       "  Row(InvoiceNo='536790', StockCode='20679', Description='EDWARDIAN PARASOL RED', Quantity=6, InvoiceDate=datetime.datetime(2010, 12, 2, 15, 26), UnitPrice=4.95, CustomerID=17850.0, Country='United Kingdom')),\n",
       " (17850.0,\n",
       "  Row(InvoiceNo='536790', StockCode='37370', Description='RETRO COFFEE MUGS ASSORTED', Quantity=12, InvoiceDate=datetime.datetime(2010, 12, 2, 15, 26), UnitPrice=1.06, CustomerID=17850.0, Country='United Kingdom')),\n",
       " (17850.0,\n",
       "  Row(InvoiceNo='536790', StockCode='21071', Description='VINTAGE BILLBOARD DRINK ME MUG', Quantity=12, InvoiceDate=datetime.datetime(2010, 12, 2, 15, 26), UnitPrice=1.06, CustomerID=17850.0, Country='United Kingdom')),\n",
       " (17850.0,\n",
       "  Row(InvoiceNo='536790', StockCode='21068', Description='VINTAGE BILLBOARD LOVE/HATE MUG', Quantity=12, InvoiceDate=datetime.datetime(2010, 12, 2, 15, 26), UnitPrice=1.06, CustomerID=17850.0, Country='United Kingdom')),\n",
       " (17850.0,\n",
       "  Row(InvoiceNo='536790', StockCode='82483', Description='WOOD 2 DRAWER CABINET WHITE FINISH', Quantity=4, InvoiceDate=datetime.datetime(2010, 12, 2, 15, 26), UnitPrice=4.95, CustomerID=17850.0, Country='United Kingdom')),\n",
       " (17850.0,\n",
       "  Row(InvoiceNo='536790', StockCode='82486', Description='WOOD S/3 CABINET ANT WHITE FINISH', Quantity=4, InvoiceDate=datetime.datetime(2010, 12, 2, 15, 26), UnitPrice=6.95, CustomerID=17850.0, Country='United Kingdom')),\n",
       " (17850.0,\n",
       "  Row(InvoiceNo='536790', StockCode='82482', Description='WOODEN PICTURE FRAME WHITE FINISH', Quantity=6, InvoiceDate=datetime.datetime(2010, 12, 2, 15, 26), UnitPrice=2.1, CustomerID=17850.0, Country='United Kingdom')),\n",
       " (17850.0,\n",
       "  Row(InvoiceNo='536790', StockCode='82494L', Description='WOODEN FRAME ANTIQUE WHITE ', Quantity=6, InvoiceDate=datetime.datetime(2010, 12, 2, 15, 26), UnitPrice=2.55, CustomerID=17850.0, Country='United Kingdom')),\n",
       " (17850.0,\n",
       "  Row(InvoiceNo='536790', StockCode='84029G', Description='KNITTED UNION FLAG HOT WATER BOTTLE', Quantity=12, InvoiceDate=datetime.datetime(2010, 12, 2, 15, 26), UnitPrice=3.39, CustomerID=17850.0, Country='United Kingdom')),\n",
       " (17850.0,\n",
       "  Row(InvoiceNo='536790', StockCode='84029E', Description='RED WOOLLY HOTTIE WHITE HEART.', Quantity=6, InvoiceDate=datetime.datetime(2010, 12, 2, 15, 26), UnitPrice=3.39, CustomerID=17850.0, Country='United Kingdom')),\n",
       " (17850.0,\n",
       "  Row(InvoiceNo='536790', StockCode='22752', Description='SET 7 BABUSHKA NESTING BOXES', Quantity=4, InvoiceDate=datetime.datetime(2010, 12, 2, 15, 26), UnitPrice=7.65, CustomerID=17850.0, Country='United Kingdom')),\n",
       " (17850.0,\n",
       "  Row(InvoiceNo='536790', StockCode='22803', Description='IVORY EMBROIDERED QUILT ', Quantity=3, InvoiceDate=datetime.datetime(2010, 12, 2, 15, 26), UnitPrice=35.75, CustomerID=17850.0, Country='United Kingdom')),\n",
       " (17850.0,\n",
       "  Row(InvoiceNo='536790', StockCode='21730', Description='GLASS STAR FROSTED T-LIGHT HOLDER', Quantity=12, InvoiceDate=datetime.datetime(2010, 12, 2, 15, 26), UnitPrice=4.25, CustomerID=17850.0, Country='United Kingdom')),\n",
       " (17850.0,\n",
       "  Row(InvoiceNo='536791', StockCode='22632', Description='HAND WARMER RED POLKA DOT', Quantity=12, InvoiceDate=datetime.datetime(2010, 12, 2, 15, 27), UnitPrice=1.85, CustomerID=17850.0, Country='United Kingdom')),\n",
       " (17850.0,\n",
       "  Row(InvoiceNo='536791', StockCode='22633', Description='HAND WARMER UNION JACK', Quantity=12, InvoiceDate=datetime.datetime(2010, 12, 2, 15, 27), UnitPrice=1.85, CustomerID=17850.0, Country='United Kingdom')),\n",
       " (12583.0,\n",
       "  Row(InvoiceNo='569120', StockCode='23368', Description='SET 12 COLOUR PENCILS DOLLY GIRL ', Quantity=16, InvoiceDate=datetime.datetime(2011, 9, 30, 12, 58), UnitPrice=0.65, CustomerID=12583.0, Country='France')),\n",
       " (12583.0,\n",
       "  Row(InvoiceNo='569120', StockCode='23367', Description='SET 12 COLOUR PENCILS SPACEBOY ', Quantity=16, InvoiceDate=datetime.datetime(2011, 9, 30, 12, 58), UnitPrice=0.65, CustomerID=12583.0, Country='France')),\n",
       " (12583.0,\n",
       "  Row(InvoiceNo='569120', StockCode='23506', Description='MINI PLAYING CARDS SPACEBOY ', Quantity=20, InvoiceDate=datetime.datetime(2011, 9, 30, 12, 58), UnitPrice=0.42, CustomerID=12583.0, Country='France')),\n",
       " (12583.0,\n",
       "  Row(InvoiceNo='569120', StockCode='23509', Description='MINI PLAYING CARDS FUN FAIR ', Quantity=20, InvoiceDate=datetime.datetime(2011, 9, 30, 12, 58), UnitPrice=0.42, CustomerID=12583.0, Country='France')),\n",
       " (12583.0,\n",
       "  Row(InvoiceNo='569120', StockCode='22629', Description='SPACEBOY LUNCH BOX ', Quantity=12, InvoiceDate=datetime.datetime(2011, 9, 30, 12, 58), UnitPrice=1.95, CustomerID=12583.0, Country='France')),\n",
       " (12583.0,\n",
       "  Row(InvoiceNo='569120', StockCode='21559', Description='STRAWBERRY LUNCH BOX WITH CUTLERY', Quantity=6, InvoiceDate=datetime.datetime(2011, 9, 30, 12, 58), UnitPrice=2.55, CustomerID=12583.0, Country='France')),\n",
       " (12583.0,\n",
       "  Row(InvoiceNo='569120', StockCode='21156', Description='RETROSPOT CHILDRENS APRON', Quantity=16, InvoiceDate=datetime.datetime(2011, 9, 30, 12, 58), UnitPrice=1.95, CustomerID=12583.0, Country='France')),\n",
       " (12583.0,\n",
       "  Row(InvoiceNo='569120', StockCode='20750', Description='RED RETROSPOT MINI CASES', Quantity=12, InvoiceDate=datetime.datetime(2011, 9, 30, 12, 58), UnitPrice=6.35, CustomerID=12583.0, Country='France')),\n",
       " (12583.0,\n",
       "  Row(InvoiceNo='569120', StockCode='22090', Description='PAPER BUNTING RETROSPOT', Quantity=12, InvoiceDate=datetime.datetime(2011, 9, 30, 12, 58), UnitPrice=2.95, CustomerID=12583.0, Country='France')),\n",
       " (12583.0,\n",
       "  Row(InvoiceNo='569120', StockCode='23298', Description='SPOTTY BUNTING', Quantity=3, InvoiceDate=datetime.datetime(2011, 9, 30, 12, 58), UnitPrice=4.95, CustomerID=12583.0, Country='France')),\n",
       " (12583.0,\n",
       "  Row(InvoiceNo='569120', StockCode='22539', Description='MINI JIGSAW DOLLY GIRL', Quantity=24, InvoiceDate=datetime.datetime(2011, 9, 30, 12, 58), UnitPrice=0.42, CustomerID=12583.0, Country='France')),\n",
       " (12583.0,\n",
       "  Row(InvoiceNo='569120', StockCode='POST', Description='POSTAGE', Quantity=2, InvoiceDate=datetime.datetime(2011, 9, 30, 12, 58), UnitPrice=18.0, CustomerID=12583.0, Country='France')),\n",
       " (12583.0,\n",
       "  Row(InvoiceNo='569120', StockCode='23389', Description='SPACEBOY MINI BACKPACK', Quantity=4, InvoiceDate=datetime.datetime(2011, 9, 30, 12, 58), UnitPrice=4.15, CustomerID=12583.0, Country='France')),\n",
       " (12583.0,\n",
       "  Row(InvoiceNo='569120', StockCode='22352', Description='LUNCH BOX WITH CUTLERY RETROSPOT ', Quantity=12, InvoiceDate=datetime.datetime(2011, 9, 30, 12, 58), UnitPrice=2.55, CustomerID=12583.0, Country='France')),\n",
       " (12583.0,\n",
       "  Row(InvoiceNo='C571127', StockCode='35970', Description='ZINC FOLKART SLEIGH BELLS', Quantity=-36, InvoiceDate=datetime.datetime(2011, 10, 14, 10, 1), UnitPrice=1.69, CustomerID=12583.0, Country='France')),\n",
       " (12583.0,\n",
       "  Row(InvoiceNo='540455', StockCode='21086', Description='SET/6 RED SPOTTY PAPER CUPS', Quantity=12, InvoiceDate=datetime.datetime(2011, 1, 7, 12, 7), UnitPrice=0.65, CustomerID=12583.0, Country='France')),\n",
       " (12583.0,\n",
       "  Row(InvoiceNo='540455', StockCode='21080', Description='SET/20 RED RETROSPOT PAPER NAPKINS ', Quantity=12, InvoiceDate=datetime.datetime(2011, 1, 7, 12, 7), UnitPrice=0.85, CustomerID=12583.0, Country='France')),\n",
       " (12583.0,\n",
       "  Row(InvoiceNo='540455', StockCode='22726', Description='ALARM CLOCK BAKELIKE GREEN', Quantity=16, InvoiceDate=datetime.datetime(2011, 1, 7, 12, 7), UnitPrice=3.75, CustomerID=12583.0, Country='France')),\n",
       " (12583.0,\n",
       "  Row(InvoiceNo='540455', StockCode='22727', Description='ALARM CLOCK BAKELIKE RED ', Quantity=12, InvoiceDate=datetime.datetime(2011, 1, 7, 12, 7), UnitPrice=3.75, CustomerID=12583.0, Country='France')),\n",
       " (12583.0,\n",
       "  Row(InvoiceNo='540455', StockCode='22728', Description='ALARM CLOCK BAKELIKE PINK', Quantity=12, InvoiceDate=datetime.datetime(2011, 1, 7, 12, 7), UnitPrice=3.75, CustomerID=12583.0, Country='France')),\n",
       " (12583.0,\n",
       "  Row(InvoiceNo='540455', StockCode='22729', Description='ALARM CLOCK BAKELIKE ORANGE', Quantity=12, InvoiceDate=datetime.datetime(2011, 1, 7, 12, 7), UnitPrice=3.75, CustomerID=12583.0, Country='France')),\n",
       " (12583.0,\n",
       "  Row(InvoiceNo='540455', StockCode='21121', Description='SET/10 RED POLKADOT PARTY CANDLES', Quantity=24, InvoiceDate=datetime.datetime(2011, 1, 7, 12, 7), UnitPrice=1.25, CustomerID=12583.0, Country='France')),\n",
       " (12583.0,\n",
       "  Row(InvoiceNo='540455', StockCode='22326', Description='ROUND SNACK BOXES SET OF4 WOODLAND ', Quantity=18, InvoiceDate=datetime.datetime(2011, 1, 7, 12, 7), UnitPrice=2.95, CustomerID=12583.0, Country='France')),\n",
       " (12583.0,\n",
       "  Row(InvoiceNo='540455', StockCode='20750', Description='RED RETROSPOT MINI CASES', Quantity=4, InvoiceDate=datetime.datetime(2011, 1, 7, 12, 7), UnitPrice=7.95, CustomerID=12583.0, Country='France')),\n",
       " (12583.0,\n",
       "  Row(InvoiceNo='540455', StockCode='22551', Description='PLASTERS IN TIN SPACEBOY', Quantity=24, InvoiceDate=datetime.datetime(2011, 1, 7, 12, 7), UnitPrice=1.65, CustomerID=12583.0, Country='France')),\n",
       " (12583.0,\n",
       "  Row(InvoiceNo='540455', StockCode='22556', Description='PLASTERS IN TIN CIRCUS PARADE ', Quantity=24, InvoiceDate=datetime.datetime(2011, 1, 7, 12, 7), UnitPrice=1.65, CustomerID=12583.0, Country='France')),\n",
       " (12583.0,\n",
       "  Row(InvoiceNo='540455', StockCode='22555', Description='PLASTERS IN TIN STRONGMAN', Quantity=24, InvoiceDate=datetime.datetime(2011, 1, 7, 12, 7), UnitPrice=1.65, CustomerID=12583.0, Country='France')),\n",
       " (12583.0,\n",
       "  Row(InvoiceNo='540455', StockCode='21731', Description='RED TOADSTOOL LED NIGHT LIGHT', Quantity=12, InvoiceDate=datetime.datetime(2011, 1, 7, 12, 7), UnitPrice=1.65, CustomerID=12583.0, Country='France')),\n",
       " (12583.0,\n",
       "  Row(InvoiceNo='540455', StockCode='22390', Description='PAPERWEIGHT CHILDHOOD MEMORIES', Quantity=60, InvoiceDate=datetime.datetime(2011, 1, 7, 12, 7), UnitPrice=0.85, CustomerID=12583.0, Country='France')),\n",
       " (12583.0,\n",
       "  Row(InvoiceNo='540455', StockCode='22333', Description='RETROSPOT PARTY BAG + STICKER SET', Quantity=16, InvoiceDate=datetime.datetime(2011, 1, 7, 12, 7), UnitPrice=1.65, CustomerID=12583.0, Country='France')),\n",
       " (12583.0,\n",
       "  Row(InvoiceNo='540455', StockCode='22331', Description='WOODLAND PARTY BAG + STICKER SET', Quantity=16, InvoiceDate=datetime.datetime(2011, 1, 7, 12, 7), UnitPrice=1.65, CustomerID=12583.0, Country='France')),\n",
       " (12583.0,\n",
       "  Row(InvoiceNo='540455', StockCode='20719', Description='WOODLAND CHARLOTTE BAG', Quantity=20, InvoiceDate=datetime.datetime(2011, 1, 7, 12, 7), UnitPrice=0.85, CustomerID=12583.0, Country='France')),\n",
       " (12583.0,\n",
       "  Row(InvoiceNo='540455', StockCode='21883', Description='STARS GIFT TAPE ', Quantity=144, InvoiceDate=datetime.datetime(2011, 1, 7, 12, 7), UnitPrice=0.19, CustomerID=12583.0, Country='France')),\n",
       " (12583.0,\n",
       "  Row(InvoiceNo='540455', StockCode='21042', Description='RED RETROSPOT APRON ', Quantity=6, InvoiceDate=datetime.datetime(2011, 1, 7, 12, 7), UnitPrice=5.95, CustomerID=12583.0, Country='France')),\n",
       " (12583.0,\n",
       "  Row(InvoiceNo='540455', StockCode='22367', Description='CHILDRENS APRON SPACEBOY DESIGN', Quantity=8, InvoiceDate=datetime.datetime(2011, 1, 7, 12, 7), UnitPrice=1.95, CustomerID=12583.0, Country='France')),\n",
       " (12583.0,\n",
       "  Row(InvoiceNo='540455', StockCode='21094', Description='SET/6 RED SPOTTY PAPER PLATES', Quantity=12, InvoiceDate=datetime.datetime(2011, 1, 7, 12, 7), UnitPrice=0.85, CustomerID=12583.0, Country='France')),\n",
       " (12583.0,\n",
       "  Row(InvoiceNo='540455', StockCode='POST', Description='POSTAGE', Quantity=3, InvoiceDate=datetime.datetime(2011, 1, 7, 12, 7), UnitPrice=18.0, CustomerID=12583.0, Country='France')),\n",
       " (12583.0,\n",
       "  Row(InvoiceNo='554134', StockCode='23280', Description='FOLDING BUTTERFLY MIRROR HOT PINK ', Quantity=24, InvoiceDate=datetime.datetime(2011, 5, 23, 9, 48), UnitPrice=0.83, CustomerID=12583.0, Country='France')),\n",
       " (12583.0,\n",
       "  Row(InvoiceNo='554134', StockCode='23281', Description='FOLDING BUTTERFLY MIRROR RED  ', Quantity=24, InvoiceDate=datetime.datetime(2011, 5, 23, 9, 48), UnitPrice=0.83, CustomerID=12583.0, Country='France')),\n",
       " (12583.0,\n",
       "  Row(InvoiceNo='554134', StockCode='22556', Description='PLASTERS IN TIN CIRCUS PARADE ', Quantity=24, InvoiceDate=datetime.datetime(2011, 5, 23, 9, 48), UnitPrice=1.65, CustomerID=12583.0, Country='France')),\n",
       " (12583.0,\n",
       "  Row(InvoiceNo='554134', StockCode='22492', Description='MINI PAINT SET VINTAGE ', Quantity=36, InvoiceDate=datetime.datetime(2011, 5, 23, 9, 48), UnitPrice=0.65, CustomerID=12583.0, Country='France')),\n",
       " (12583.0,\n",
       "  Row(InvoiceNo='554134', StockCode='22434', Description='BALLOON PUMP WITH 10 BALLOONS', Quantity=8, InvoiceDate=datetime.datetime(2011, 5, 23, 9, 48), UnitPrice=1.95, CustomerID=12583.0, Country='France')),\n",
       " (12583.0,\n",
       "  Row(InvoiceNo='554134', StockCode='21240', Description='BLUE POLKADOT CUP', Quantity=8, InvoiceDate=datetime.datetime(2011, 5, 23, 9, 48), UnitPrice=0.85, CustomerID=12583.0, Country='France')),\n",
       " (12583.0,\n",
       "  Row(InvoiceNo='554134', StockCode='21238', Description='RED RETROSPOT CUP', Quantity=8, InvoiceDate=datetime.datetime(2011, 5, 23, 9, 48), UnitPrice=0.85, CustomerID=12583.0, Country='France')),\n",
       " (12583.0,\n",
       "  Row(InvoiceNo='554134', StockCode='22090', Description='PAPER BUNTING RETROSPOT', Quantity=40, InvoiceDate=datetime.datetime(2011, 5, 23, 9, 48), UnitPrice=2.55, CustomerID=12583.0, Country='France')),\n",
       " (12583.0,\n",
       "  Row(InvoiceNo='554134', StockCode='22729', Description='ALARM CLOCK BAKELIKE ORANGE', Quantity=4, InvoiceDate=datetime.datetime(2011, 5, 23, 9, 48), UnitPrice=3.75, CustomerID=12583.0, Country='France')),\n",
       " (12583.0,\n",
       "  Row(InvoiceNo='554134', StockCode='20724', Description='RED RETROSPOT CHARLOTTE BAG', Quantity=10, InvoiceDate=datetime.datetime(2011, 5, 23, 9, 48), UnitPrice=0.85, CustomerID=12583.0, Country='France')),\n",
       " (12583.0,\n",
       "  Row(InvoiceNo='554134', StockCode='20719', Description='WOODLAND CHARLOTTE BAG', Quantity=10, InvoiceDate=datetime.datetime(2011, 5, 23, 9, 48), UnitPrice=0.85, CustomerID=12583.0, Country='France')),\n",
       " (12583.0,\n",
       "  Row(InvoiceNo='554134', StockCode='21039', Description='RED RETROSPOT SHOPPING BAG', Quantity=6, InvoiceDate=datetime.datetime(2011, 5, 23, 9, 48), UnitPrice=2.55, CustomerID=12583.0, Country='France')),\n",
       " (12583.0,\n",
       "  Row(InvoiceNo='554134', StockCode='21121', Description='SET/10 RED POLKADOT PARTY CANDLES', Quantity=24, InvoiceDate=datetime.datetime(2011, 5, 23, 9, 48), UnitPrice=1.25, CustomerID=12583.0, Country='France')),\n",
       " (12583.0,\n",
       "  Row(InvoiceNo='554134', StockCode='21212', Description='PACK OF 72 RETROSPOT CAKE CASES', Quantity=24, InvoiceDate=datetime.datetime(2011, 5, 23, 9, 48), UnitPrice=0.55, CustomerID=12583.0, Country='France')),\n",
       " (12583.0,\n",
       "  Row(InvoiceNo='554134', StockCode='21154', Description='RED RETROSPOT OVEN GLOVE ', Quantity=10, InvoiceDate=datetime.datetime(2011, 5, 23, 9, 48), UnitPrice=1.25, CustomerID=12583.0, Country='France')),\n",
       " (12583.0,\n",
       "  Row(InvoiceNo='554134', StockCode='20983', Description='12 PENCILS TALL TUBE RED RETROSPOT', Quantity=12, InvoiceDate=datetime.datetime(2011, 5, 23, 9, 48), UnitPrice=0.85, CustomerID=12583.0, Country='France')),\n",
       " (12583.0,\n",
       "  Row(InvoiceNo='554134', StockCode='20981', Description='12 PENCILS TALL TUBE WOODLAND', Quantity=12, InvoiceDate=datetime.datetime(2011, 5, 23, 9, 48), UnitPrice=0.85, CustomerID=12583.0, Country='France')),\n",
       " (12583.0,\n",
       "  Row(InvoiceNo='554134', StockCode='21245', Description='GREEN POLKADOT PLATE ', Quantity=8, InvoiceDate=datetime.datetime(2011, 5, 23, 9, 48), UnitPrice=1.69, CustomerID=12583.0, Country='France')),\n",
       " (12583.0,\n",
       "  Row(InvoiceNo='554134', StockCode='84380', Description='SET OF 3 BUTTERFLY COOKIE CUTTERS', Quantity=12, InvoiceDate=datetime.datetime(2011, 5, 23, 9, 48), UnitPrice=1.25, CustomerID=12583.0, Country='France')),\n",
       " (12583.0,\n",
       "  Row(InvoiceNo='554134', StockCode='POST', Description='POSTAGE', Quantity=2, InvoiceDate=datetime.datetime(2011, 5, 23, 9, 48), UnitPrice=18.0, CustomerID=12583.0, Country='France')),\n",
       " (12583.0,\n",
       "  Row(InvoiceNo='C568244', StockCode='23169', Description='CLASSIC GLASS COOKIE JAR', Quantity=-1, InvoiceDate=datetime.datetime(2011, 9, 26, 12, 21), UnitPrice=4.15, CustomerID=12583.0, Country='France')),\n",
       " (12583.0,\n",
       "  Row(InvoiceNo='C568244', StockCode='22197', Description='POPCORN HOLDER', Quantity=-13, InvoiceDate=datetime.datetime(2011, 9, 26, 12, 21), UnitPrice=0.85, CustomerID=12583.0, Country='France')),\n",
       " (12583.0,\n",
       "  Row(InvoiceNo='559441', StockCode='22728', Description='ALARM CLOCK BAKELIKE PINK', Quantity=4, InvoiceDate=datetime.datetime(2011, 7, 8, 12, 22), UnitPrice=3.75, CustomerID=12583.0, Country='France')),\n",
       " (12583.0,\n",
       "  Row(InvoiceNo='559441', StockCode='21080', Description='SET/20 RED RETROSPOT PAPER NAPKINS ', Quantity=12, InvoiceDate=datetime.datetime(2011, 7, 8, 12, 22), UnitPrice=0.85, CustomerID=12583.0, Country='France')),\n",
       " (12583.0,\n",
       "  Row(InvoiceNo='559441', StockCode='21094', Description='SET/6 RED SPOTTY PAPER PLATES', Quantity=12, InvoiceDate=datetime.datetime(2011, 7, 8, 12, 22), UnitPrice=0.85, CustomerID=12583.0, Country='France')),\n",
       " (12583.0,\n",
       "  Row(InvoiceNo='559441', StockCode='21086', Description='SET/6 RED SPOTTY PAPER CUPS', Quantity=12, InvoiceDate=datetime.datetime(2011, 7, 8, 12, 22), UnitPrice=0.65, CustomerID=12583.0, Country='France')),\n",
       " (12583.0,\n",
       "  Row(InvoiceNo='559441', StockCode='22955', Description='36 FOIL STAR CAKE CASES ', Quantity=12, InvoiceDate=datetime.datetime(2011, 7, 8, 12, 22), UnitPrice=2.1, CustomerID=12583.0, Country='France')),\n",
       " (12583.0,\n",
       "  Row(InvoiceNo='559441', StockCode='22636', Description='CHILDS BREAKFAST SET CIRCUS PARADE', Quantity=2, InvoiceDate=datetime.datetime(2011, 7, 8, 12, 22), UnitPrice=8.5, CustomerID=12583.0, Country='France')),\n",
       " (12583.0,\n",
       "  Row(InvoiceNo='559441', StockCode='22556', Description='PLASTERS IN TIN CIRCUS PARADE ', Quantity=24, InvoiceDate=datetime.datetime(2011, 7, 8, 12, 22), UnitPrice=1.65, CustomerID=12583.0, Country='France')),\n",
       " (12583.0,\n",
       "  Row(InvoiceNo='559441', StockCode='35970', Description='ZINC FOLKART SLEIGH BELLS', Quantity=36, InvoiceDate=datetime.datetime(2011, 7, 8, 12, 22), UnitPrice=1.69, CustomerID=12583.0, Country='France')),\n",
       " (12583.0,\n",
       "  Row(InvoiceNo='559441', StockCode='21988', Description='PACK OF 6 SKULL PAPER PLATES', Quantity=12, InvoiceDate=datetime.datetime(2011, 7, 8, 12, 22), UnitPrice=0.85, CustomerID=12583.0, Country='France')),\n",
       " (12583.0,\n",
       "  Row(InvoiceNo='559441', StockCode='21989', Description='PACK OF 20 SKULL PAPER NAPKINS', Quantity=12, InvoiceDate=datetime.datetime(2011, 7, 8, 12, 22), UnitPrice=0.85, CustomerID=12583.0, Country='France')),\n",
       " (12583.0,\n",
       "  Row(InvoiceNo='559441', StockCode='21987', Description='PACK OF 6 SKULL PAPER CUPS', Quantity=12, InvoiceDate=datetime.datetime(2011, 7, 8, 12, 22), UnitPrice=0.65, CustomerID=12583.0, Country='France')),\n",
       " (12583.0,\n",
       "  Row(InvoiceNo='559441', StockCode='22554', Description='PLASTERS IN TIN WOODLAND ANIMALS', Quantity=24, InvoiceDate=datetime.datetime(2011, 7, 8, 12, 22), UnitPrice=1.65, CustomerID=12583.0, Country='France')),\n",
       " (12583.0,\n",
       "  Row(InvoiceNo='559441', StockCode='22551', Description='PLASTERS IN TIN SPACEBOY', Quantity=24, InvoiceDate=datetime.datetime(2011, 7, 8, 12, 22), UnitPrice=1.65, CustomerID=12583.0, Country='France')),\n",
       " (12583.0,\n",
       "  Row(InvoiceNo='559441', StockCode='POST', Description='POSTAGE', Quantity=2, InvoiceDate=datetime.datetime(2011, 7, 8, 12, 22), UnitPrice=18.0, CustomerID=12583.0, Country='France')),\n",
       " (12583.0,\n",
       "  Row(InvoiceNo='557627', StockCode='22726', Description='ALARM CLOCK BAKELIKE GREEN', Quantity=16, InvoiceDate=datetime.datetime(2011, 6, 21, 14, 30), UnitPrice=3.75, CustomerID=12583.0, Country='France')),\n",
       " (12583.0,\n",
       "  Row(InvoiceNo='557627', StockCode='22727', Description='ALARM CLOCK BAKELIKE RED ', Quantity=12, InvoiceDate=datetime.datetime(2011, 6, 21, 14, 30), UnitPrice=3.75, CustomerID=12583.0, Country='France')),\n",
       " (12583.0,\n",
       "  Row(InvoiceNo='557627', StockCode='22728', Description='ALARM CLOCK BAKELIKE PINK', Quantity=4, InvoiceDate=datetime.datetime(2011, 6, 21, 14, 30), UnitPrice=3.75, CustomerID=12583.0, Country='France')),\n",
       " (12583.0,\n",
       "  Row(InvoiceNo='557627', StockCode='22729', Description='ALARM CLOCK BAKELIKE ORANGE', Quantity=4, InvoiceDate=datetime.datetime(2011, 6, 21, 14, 30), UnitPrice=3.75, CustomerID=12583.0, Country='France')),\n",
       " (12583.0,\n",
       "  Row(InvoiceNo='557627', StockCode='16218', Description='CARTOON  PENCIL SHARPENERS', Quantity=240, InvoiceDate=datetime.datetime(2011, 6, 21, 14, 30), UnitPrice=0.06, CustomerID=12583.0, Country='France')),\n",
       " (12583.0,\n",
       "  Row(InvoiceNo='557627', StockCode='23124', Description='18PC WOODEN CUTLERY SET DISPOSABLE', Quantity=16, InvoiceDate=datetime.datetime(2011, 6, 21, 14, 30), UnitPrice=1.25, CustomerID=12583.0, Country='France')),\n",
       " (12583.0,\n",
       "  Row(InvoiceNo='557627', StockCode='21094', Description='SET/6 RED SPOTTY PAPER PLATES', Quantity=12, InvoiceDate=datetime.datetime(2011, 6, 21, 14, 30), UnitPrice=0.85, CustomerID=12583.0, Country='France')),\n",
       " (12583.0,\n",
       "  Row(InvoiceNo='557627', StockCode='21080', Description='SET/20 RED RETROSPOT PAPER NAPKINS ', Quantity=12, InvoiceDate=datetime.datetime(2011, 6, 21, 14, 30), UnitPrice=0.85, CustomerID=12583.0, Country='France')),\n",
       " (12583.0,\n",
       "  Row(InvoiceNo='557627', StockCode='21086', Description='SET/6 RED SPOTTY PAPER CUPS', Quantity=12, InvoiceDate=datetime.datetime(2011, 6, 21, 14, 30), UnitPrice=0.65, CustomerID=12583.0, Country='France')),\n",
       " (12583.0,\n",
       "  Row(InvoiceNo='557627', StockCode='21559', Description='STRAWBERRY LUNCH BOX WITH CUTLERY', Quantity=6, InvoiceDate=datetime.datetime(2011, 6, 21, 14, 30), UnitPrice=2.55, CustomerID=12583.0, Country='France')),\n",
       " (12583.0,\n",
       "  Row(InvoiceNo='557627', StockCode='22333', Description='RETROSPOT PARTY BAG + STICKER SET', Quantity=16, InvoiceDate=datetime.datetime(2011, 6, 21, 14, 30), UnitPrice=1.65, CustomerID=12583.0, Country='France')),\n",
       " (12583.0,\n",
       "  Row(InvoiceNo='557627', StockCode='POST', Description='POSTAGE', Quantity=1, InvoiceDate=datetime.datetime(2011, 6, 21, 14, 30), UnitPrice=18.0, CustomerID=12583.0, Country='France')),\n",
       " (12583.0,\n",
       "  Row(InvoiceNo='564471', StockCode='22081', Description='RIBBON REEL FLORA + FAUNA ', Quantity=10, InvoiceDate=datetime.datetime(2011, 8, 25, 12, 26), UnitPrice=1.65, CustomerID=12583.0, Country='France')),\n",
       " (12583.0,\n",
       "  Row(InvoiceNo='564471', StockCode='22082', Description='RIBBON REEL STRIPES DESIGN ', Quantity=10, InvoiceDate=datetime.datetime(2011, 8, 25, 12, 26), UnitPrice=1.65, CustomerID=12583.0, Country='France')),\n",
       " (12583.0,\n",
       "  Row(InvoiceNo='564471', StockCode='22080', Description='RIBBON REEL POLKADOTS ', Quantity=20, InvoiceDate=datetime.datetime(2011, 8, 25, 12, 26), UnitPrice=1.65, CustomerID=12583.0, Country='France')),\n",
       " (12583.0,\n",
       "  Row(InvoiceNo='564471', StockCode='21210', Description='SET OF 72 RETROSPOT PAPER  DOILIES', Quantity=12, InvoiceDate=datetime.datetime(2011, 8, 25, 12, 26), UnitPrice=1.45, CustomerID=12583.0, Country='France')),\n",
       " (12583.0,\n",
       "  Row(InvoiceNo='564471', StockCode='21156', Description='RETROSPOT CHILDRENS APRON', Quantity=8, InvoiceDate=datetime.datetime(2011, 8, 25, 12, 26), UnitPrice=1.95, CustomerID=12583.0, Country='France')),\n",
       " (12583.0,\n",
       "  Row(InvoiceNo='564471', StockCode='21080', Description='SET/20 RED RETROSPOT PAPER NAPKINS ', Quantity=24, InvoiceDate=datetime.datetime(2011, 8, 25, 12, 26), UnitPrice=0.85, CustomerID=12583.0, Country='France')),\n",
       " (12583.0,\n",
       "  Row(InvoiceNo='564471', StockCode='21086', Description='SET/6 RED SPOTTY PAPER CUPS', Quantity=24, InvoiceDate=datetime.datetime(2011, 8, 25, 12, 26), UnitPrice=0.65, CustomerID=12583.0, Country='France')),\n",
       " (12583.0,\n",
       "  Row(InvoiceNo='564471', StockCode='21094', Description='SET/6 RED SPOTTY PAPER PLATES', Quantity=24, InvoiceDate=datetime.datetime(2011, 8, 25, 12, 26), UnitPrice=0.85, CustomerID=12583.0, Country='France')),\n",
       " (12583.0,\n",
       "  Row(InvoiceNo='564471', StockCode='23445', Description='ICE CREAM BUBBLES', Quantity=20, InvoiceDate=datetime.datetime(2011, 8, 25, 12, 26), UnitPrice=0.83, CustomerID=12583.0, Country='France')),\n",
       " (12583.0,\n",
       "  Row(InvoiceNo='564471', StockCode='22326', Description='ROUND SNACK BOXES SET OF4 WOODLAND ', Quantity=18, InvoiceDate=datetime.datetime(2011, 8, 25, 12, 26), UnitPrice=2.95, CustomerID=12583.0, Country='France')),\n",
       " (12583.0,\n",
       "  Row(InvoiceNo='564471', StockCode='POST', Description='POSTAGE', Quantity=1, InvoiceDate=datetime.datetime(2011, 8, 25, 12, 26), UnitPrice=18.0, CustomerID=12583.0, Country='France')),\n",
       " (12583.0,\n",
       "  Row(InvoiceNo='C543992', StockCode='POST', Description='POSTAGE', Quantity=-1, InvoiceDate=datetime.datetime(2011, 2, 15, 10, 29), UnitPrice=18.0, CustomerID=12583.0, Country='France')),\n",
       " (12583.0,\n",
       "  Row(InvoiceNo='556463', StockCode='23100', Description='SILVER BELLS TABLE DECORATION', Quantity=12, InvoiceDate=datetime.datetime(2011, 6, 12, 10, 47), UnitPrice=1.25, CustomerID=12583.0, Country='France')),\n",
       " (12583.0,\n",
       "  Row(InvoiceNo='556463', StockCode='21240', Description='BLUE POLKADOT CUP', Quantity=8, InvoiceDate=datetime.datetime(2011, 6, 12, 10, 47), UnitPrice=0.85, CustomerID=12583.0, Country='France')),\n",
       " (12583.0,\n",
       "  Row(InvoiceNo='556463', StockCode='21238', Description='RED RETROSPOT CUP', Quantity=8, InvoiceDate=datetime.datetime(2011, 6, 12, 10, 47), UnitPrice=0.85, CustomerID=12583.0, Country='France')),\n",
       " (12583.0,\n",
       "  Row(InvoiceNo='556463', StockCode='21244', Description='BLUE POLKADOT PLATE ', Quantity=8, InvoiceDate=datetime.datetime(2011, 6, 12, 10, 47), UnitPrice=1.69, CustomerID=12583.0, Country='France')),\n",
       " (12583.0,\n",
       "  Row(InvoiceNo='556463', StockCode='21242', Description='RED RETROSPOT PLATE ', Quantity=8, InvoiceDate=datetime.datetime(2011, 6, 12, 10, 47), UnitPrice=1.69, CustomerID=12583.0, Country='France')),\n",
       " (12583.0,\n",
       "  Row(InvoiceNo='556463', StockCode='23298', Description='SPOTTY BUNTING', Quantity=12, InvoiceDate=datetime.datetime(2011, 6, 12, 10, 47), UnitPrice=4.95, CustomerID=12583.0, Country='France')),\n",
       " (12583.0,\n",
       "  Row(InvoiceNo='556463', StockCode='22197', Description='SMALL POPCORN HOLDER', Quantity=36, InvoiceDate=datetime.datetime(2011, 6, 12, 10, 47), UnitPrice=0.85, CustomerID=12583.0, Country='France')),\n",
       " (12583.0,\n",
       "  Row(InvoiceNo='556463', StockCode='21210', Description='SET OF 72 RETROSPOT PAPER  DOILIES', Quantity=12, InvoiceDate=datetime.datetime(2011, 6, 12, 10, 47), UnitPrice=1.45, CustomerID=12583.0, Country='France')),\n",
       " (12583.0,\n",
       "  Row(InvoiceNo='556463', StockCode='22356', Description='CHARLOTTE BAG PINK POLKADOT', Quantity=10, InvoiceDate=datetime.datetime(2011, 6, 12, 10, 47), UnitPrice=0.85, CustomerID=12583.0, Country='France')),\n",
       " (12583.0,\n",
       "  Row(InvoiceNo='556463', StockCode='22466', Description='FAIRY TALE COTTAGE NIGHTLIGHT', Quantity=12, InvoiceDate=datetime.datetime(2011, 6, 12, 10, 47), UnitPrice=1.95, CustomerID=12583.0, Country='France')),\n",
       " (12583.0,\n",
       "  Row(InvoiceNo='556463', StockCode='22610', Description='PENS ASSORTED FUNNY FACE', Quantity=360, InvoiceDate=datetime.datetime(2011, 6, 12, 10, 47), UnitPrice=0.19, CustomerID=12583.0, Country='France')),\n",
       " (12583.0,\n",
       "  Row(InvoiceNo='556463', StockCode='22609', Description='PENS ASSORTED SPACEBALL', Quantity=216, InvoiceDate=datetime.datetime(2011, 6, 12, 10, 47), UnitPrice=0.19, CustomerID=12583.0, Country='France')),\n",
       " (12583.0,\n",
       "  Row(InvoiceNo='556463', StockCode='22561', Description='WOODEN SCHOOL COLOURING SET', Quantity=12, InvoiceDate=datetime.datetime(2011, 6, 12, 10, 47), UnitPrice=1.65, CustomerID=12583.0, Country='France')),\n",
       " (12583.0,\n",
       "  Row(InvoiceNo='556463', StockCode='POST', Description='POSTAGE', Quantity=2, InvoiceDate=datetime.datetime(2011, 6, 12, 10, 47), UnitPrice=18.0, CustomerID=12583.0, Country='France')),\n",
       " (12583.0,\n",
       "  Row(InvoiceNo='546373', StockCode='23007', Description=' SPACEBOY BABY GIFT SET', Quantity=6, InvoiceDate=datetime.datetime(2011, 3, 11, 12, 0), UnitPrice=14.95, CustomerID=12583.0, Country='France')),\n",
       " (12583.0,\n",
       "  Row(InvoiceNo='546373', StockCode='23010', Description='CIRCUS PARADE BABY GIFT SET', Quantity=3, InvoiceDate=datetime.datetime(2011, 3, 11, 12, 0), UnitPrice=16.95, CustomerID=12583.0, Country='France')),\n",
       " (12583.0,\n",
       "  Row(InvoiceNo='546373', StockCode='21559', Description='STRAWBERRY LUNCH BOX WITH CUTLERY', Quantity=12, InvoiceDate=datetime.datetime(2011, 3, 11, 12, 0), UnitPrice=2.55, CustomerID=12583.0, Country='France')),\n",
       " (12583.0,\n",
       "  Row(InvoiceNo='546373', StockCode='21042', Description='RED RETROSPOT APRON ', Quantity=6, InvoiceDate=datetime.datetime(2011, 3, 11, 12, 0), UnitPrice=5.95, CustomerID=12583.0, Country='France')),\n",
       " (12583.0,\n",
       "  Row(InvoiceNo='546373', StockCode='21080', Description='SET/20 RED RETROSPOT PAPER NAPKINS ', Quantity=24, InvoiceDate=datetime.datetime(2011, 3, 11, 12, 0), UnitPrice=0.85, CustomerID=12583.0, Country='France')),\n",
       " (12583.0,\n",
       "  Row(InvoiceNo='546373', StockCode='21086', Description='SET/6 RED SPOTTY PAPER CUPS', Quantity=24, InvoiceDate=datetime.datetime(2011, 3, 11, 12, 0), UnitPrice=0.65, CustomerID=12583.0, Country='France')),\n",
       " (12583.0,\n",
       "  Row(InvoiceNo='546373', StockCode='21094', Description='SET/6 RED SPOTTY PAPER PLATES', Quantity=24, InvoiceDate=datetime.datetime(2011, 3, 11, 12, 0), UnitPrice=0.85, CustomerID=12583.0, Country='France')),\n",
       " (12583.0,\n",
       "  Row(InvoiceNo='546373', StockCode='21240', Description='BLUE POLKADOT CUP', Quantity=8, InvoiceDate=datetime.datetime(2011, 3, 11, 12, 0), UnitPrice=0.85, CustomerID=12583.0, Country='France')),\n",
       " (12583.0,\n",
       "  Row(InvoiceNo='546373', StockCode='21731', Description='RED TOADSTOOL LED NIGHT LIGHT', Quantity=24, InvoiceDate=datetime.datetime(2011, 3, 11, 12, 0), UnitPrice=1.65, CustomerID=12583.0, Country='France')),\n",
       " (12583.0,\n",
       "  Row(InvoiceNo='546373', StockCode='22333', Description='RETROSPOT PARTY BAG + STICKER SET', Quantity=24, InvoiceDate=datetime.datetime(2011, 3, 11, 12, 0), UnitPrice=1.65, CustomerID=12583.0, Country='France')),\n",
       " (12583.0,\n",
       "  Row(InvoiceNo='546373', StockCode='22331', Description='WOODLAND PARTY BAG + STICKER SET', Quantity=8, InvoiceDate=datetime.datetime(2011, 3, 11, 12, 0), UnitPrice=1.65, CustomerID=12583.0, Country='France')),\n",
       " (12583.0,\n",
       "  Row(InvoiceNo='546373', StockCode='22556', Description='PLASTERS IN TIN CIRCUS PARADE ', Quantity=24, InvoiceDate=datetime.datetime(2011, 3, 11, 12, 0), UnitPrice=1.65, CustomerID=12583.0, Country='France')),\n",
       " (12583.0,\n",
       "  Row(InvoiceNo='546373', StockCode='22554', Description='PLASTERS IN TIN WOODLAND ANIMALS', Quantity=24, InvoiceDate=datetime.datetime(2011, 3, 11, 12, 0), UnitPrice=1.65, CustomerID=12583.0, Country='France')),\n",
       " (12583.0,\n",
       "  Row(InvoiceNo='546373', StockCode='22729', Description='ALARM CLOCK BAKELIKE ORANGE', Quantity=4, InvoiceDate=datetime.datetime(2011, 3, 11, 12, 0), UnitPrice=3.75, CustomerID=12583.0, Country='France')),\n",
       " (12583.0,\n",
       "  Row(InvoiceNo='546373', StockCode='22197', Description='SMALL POPCORN HOLDER', Quantity=36, InvoiceDate=datetime.datetime(2011, 3, 11, 12, 0), UnitPrice=0.85, CustomerID=12583.0, Country='France')),\n",
       " (12583.0,\n",
       "  Row(InvoiceNo='546373', StockCode='22090', Description='PAPER BUNTING RETROSPOT', Quantity=18, InvoiceDate=datetime.datetime(2011, 3, 11, 12, 0), UnitPrice=2.95, CustomerID=12583.0, Country='France')),\n",
       " (12583.0,\n",
       "  Row(InvoiceNo='546373', StockCode='22492', Description='MINI PAINT SET VINTAGE ', Quantity=36, InvoiceDate=datetime.datetime(2011, 3, 11, 12, 0), UnitPrice=0.65, CustomerID=12583.0, Country='France')),\n",
       " (12583.0,\n",
       "  Row(InvoiceNo='546373', StockCode='POST', Description='POSTAGE', Quantity=2, InvoiceDate=datetime.datetime(2011, 3, 11, 12, 0), UnitPrice=18.0, CustomerID=12583.0, Country='France')),\n",
       " (12583.0,\n",
       "  Row(InvoiceNo='546373', StockCode='22991', Description='GIRAFFE WOODEN RULER', Quantity=12, InvoiceDate=datetime.datetime(2011, 3, 11, 12, 0), UnitPrice=1.95, CustomerID=12583.0, Country='France')),\n",
       " (12583.0,\n",
       "  Row(InvoiceNo='546373', StockCode='23009', Description='I LOVE LONDON BABY GIFT SET', Quantity=6, InvoiceDate=datetime.datetime(2011, 3, 11, 12, 0), UnitPrice=14.95, CustomerID=12583.0, Country='France')),\n",
       " (17850.0,\n",
       "  Row(InvoiceNo='C543611', StockCode='82483', Description='WOOD 2 DRAWER CABINET WHITE FINISH', Quantity=-1, InvoiceDate=datetime.datetime(2011, 2, 10, 14, 38), UnitPrice=4.95, CustomerID=17850.0, Country='United Kingdom')),\n",
       " (17850.0,\n",
       "  Row(InvoiceNo='C543611', StockCode='22632', Description='HAND WARMER RED RETROSPOT', Quantity=-6, InvoiceDate=datetime.datetime(2011, 2, 10, 14, 38), UnitPrice=1.85, CustomerID=17850.0, Country='United Kingdom')),\n",
       " (17850.0,\n",
       "  Row(InvoiceNo='C543611', StockCode='82483', Description='WOOD 2 DRAWER CABINET WHITE FINISH', Quantity=-1, InvoiceDate=datetime.datetime(2011, 2, 10, 14, 38), UnitPrice=4.95, CustomerID=17850.0, Country='United Kingdom')),\n",
       " (17850.0,\n",
       "  Row(InvoiceNo='C543611', StockCode='21871', Description='SAVE THE PLANET MUG', Quantity=-1, InvoiceDate=datetime.datetime(2011, 2, 10, 14, 38), UnitPrice=1.06, CustomerID=17850.0, Country='United Kingdom')),\n",
       " (17850.0,\n",
       "  Row(InvoiceNo='C543611', StockCode='82494L', Description='WOODEN FRAME ANTIQUE WHITE ', Quantity=-2, InvoiceDate=datetime.datetime(2011, 2, 10, 14, 38), UnitPrice=2.55, CustomerID=17850.0, Country='United Kingdom')),\n",
       " (17850.0,\n",
       "  Row(InvoiceNo='C543611', StockCode='21730', Description='GLASS STAR FROSTED T-LIGHT HOLDER', Quantity=-1, InvoiceDate=datetime.datetime(2011, 2, 10, 14, 38), UnitPrice=4.25, CustomerID=17850.0, Country='United Kingdom')),\n",
       " (17850.0,\n",
       "  Row(InvoiceNo='C543611', StockCode='21730', Description='GLASS STAR FROSTED T-LIGHT HOLDER', Quantity=-1, InvoiceDate=datetime.datetime(2011, 2, 10, 14, 38), UnitPrice=4.95, CustomerID=17850.0, Country='United Kingdom')),\n",
       " (17850.0,\n",
       "  Row(InvoiceNo='C543611', StockCode='82494L', Description='WOODEN FRAME ANTIQUE WHITE ', Quantity=-12, InvoiceDate=datetime.datetime(2011, 2, 10, 14, 38), UnitPrice=2.55, CustomerID=17850.0, Country='United Kingdom')),\n",
       " (17850.0,\n",
       "  Row(InvoiceNo='C543611', StockCode='21071', Description='VINTAGE BILLBOARD DRINK ME MUG', Quantity=-6, InvoiceDate=datetime.datetime(2011, 2, 10, 14, 38), UnitPrice=1.06, CustomerID=17850.0, Country='United Kingdom')),\n",
       " (17850.0,\n",
       "  Row(InvoiceNo='C543611', StockCode='82483', Description='WOOD 2 DRAWER CABINET WHITE FINISH', Quantity=-2, InvoiceDate=datetime.datetime(2011, 2, 10, 14, 38), UnitPrice=4.95, CustomerID=17850.0, Country='United Kingdom')),\n",
       " (17850.0,\n",
       "  Row(InvoiceNo='C543611', StockCode='82483', Description='WOOD 2 DRAWER CABINET WHITE FINISH', Quantity=-1, InvoiceDate=datetime.datetime(2011, 2, 10, 14, 38), UnitPrice=4.95, CustomerID=17850.0, Country='United Kingdom')),\n",
       " (17850.0,\n",
       "  Row(InvoiceNo='C543611', StockCode='21874', Description='GIN AND TONIC MUG', Quantity=-1, InvoiceDate=datetime.datetime(2011, 2, 10, 14, 38), UnitPrice=1.06, CustomerID=17850.0, Country='United Kingdom')),\n",
       " (17850.0,\n",
       "  Row(InvoiceNo='C543611', StockCode='71477', Description='COLOUR GLASS. STAR T-LIGHT HOLDER', Quantity=-2, InvoiceDate=datetime.datetime(2011, 2, 10, 14, 38), UnitPrice=2.75, CustomerID=17850.0, Country='United Kingdom')),\n",
       " (17850.0,\n",
       "  Row(InvoiceNo='C543611', StockCode='82483', Description='WOOD 2 DRAWER CABINET WHITE FINISH', Quantity=-1, InvoiceDate=datetime.datetime(2011, 2, 10, 14, 38), UnitPrice=4.95, CustomerID=17850.0, Country='United Kingdom')),\n",
       " (17850.0,\n",
       "  Row(InvoiceNo='C543611', StockCode='21169', Description=\"YOU'RE CONFUSING ME METAL SIGN \", Quantity=-2, InvoiceDate=datetime.datetime(2011, 2, 10, 14, 38), UnitPrice=1.45, CustomerID=17850.0, Country='United Kingdom')),\n",
       " (12583.0,\n",
       "  Row(InvoiceNo='543625', StockCode='22540', Description='MINI JIGSAW CIRCUS PARADE ', Quantity=72, InvoiceDate=datetime.datetime(2011, 2, 10, 15, 38), UnitPrice=0.42, CustomerID=12583.0, Country='France')),\n",
       " (12583.0,\n",
       "  Row(InvoiceNo='543625', StockCode='22539', Description='MINI JIGSAW DOLLY GIRL', Quantity=24, InvoiceDate=datetime.datetime(2011, 2, 10, 15, 38), UnitPrice=0.42, CustomerID=12583.0, Country='France')),\n",
       " (12583.0,\n",
       "  Row(InvoiceNo='543625', StockCode='22556', Description='PLASTERS IN TIN CIRCUS PARADE ', Quantity=24, InvoiceDate=datetime.datetime(2011, 2, 10, 15, 38), UnitPrice=1.65, CustomerID=12583.0, Country='France')),\n",
       " (12583.0,\n",
       "  Row(InvoiceNo='543625', StockCode='22554', Description='PLASTERS IN TIN WOODLAND ANIMALS', Quantity=24, InvoiceDate=datetime.datetime(2011, 2, 10, 15, 38), UnitPrice=1.65, CustomerID=12583.0, Country='France')),\n",
       " (12583.0,\n",
       "  Row(InvoiceNo='543625', StockCode='22551', Description='PLASTERS IN TIN SPACEBOY', Quantity=12, InvoiceDate=datetime.datetime(2011, 2, 10, 15, 38), UnitPrice=1.65, CustomerID=12583.0, Country='France')),\n",
       " (12583.0,\n",
       "  Row(InvoiceNo='543625', StockCode='21981', Description='PACK OF 12 WOODLAND TISSUES ', Quantity=24, InvoiceDate=datetime.datetime(2011, 2, 10, 15, 38), UnitPrice=0.29, CustomerID=12583.0, Country='France')),\n",
       " (12583.0,\n",
       "  Row(InvoiceNo='543625', StockCode='22615', Description='PACK OF 12 CIRCUS PARADE TISSUES ', Quantity=24, InvoiceDate=datetime.datetime(2011, 2, 10, 15, 38), UnitPrice=0.29, CustomerID=12583.0, Country='France')),\n",
       " (12583.0,\n",
       "  Row(InvoiceNo='543625', StockCode='22616', Description='PACK OF 12 LONDON TISSUES ', Quantity=24, InvoiceDate=datetime.datetime(2011, 2, 10, 15, 38), UnitPrice=0.29, CustomerID=12583.0, Country='France')),\n",
       " (12583.0,\n",
       "  Row(InvoiceNo='543625', StockCode='22614', Description='PACK OF 12 SPACEBOY TISSUES', Quantity=24, InvoiceDate=datetime.datetime(2011, 2, 10, 15, 38), UnitPrice=0.29, CustomerID=12583.0, Country='France')),\n",
       " (12583.0,\n",
       "  Row(InvoiceNo='543625', StockCode='16218', Description='CARTOON  PENCIL SHARPENERS', Quantity=80, InvoiceDate=datetime.datetime(2011, 2, 10, 15, 38), UnitPrice=0.16, CustomerID=12583.0, Country='France')),\n",
       " (12583.0,\n",
       "  Row(InvoiceNo='543625', StockCode='22326', Description='ROUND SNACK BOXES SET OF4 WOODLAND ', Quantity=12, InvoiceDate=datetime.datetime(2011, 2, 10, 15, 38), UnitPrice=2.95, CustomerID=12583.0, Country='France')),\n",
       " (12583.0,\n",
       "  Row(InvoiceNo='543625', StockCode='22492', Description='MINI PAINT SET VINTAGE ', Quantity=108, InvoiceDate=datetime.datetime(2011, 2, 10, 15, 38), UnitPrice=0.65, CustomerID=12583.0, Country='France')),\n",
       " (12583.0,\n",
       "  Row(InvoiceNo='543625', StockCode='POST', Description='POSTAGE', Quantity=2, InvoiceDate=datetime.datetime(2011, 2, 10, 15, 38), UnitPrice=18.0, CustomerID=12583.0, Country='France'))]"
      ]
     },
     "execution_count": 111,
     "metadata": {},
     "output_type": "execute_result"
    }
   ],
   "source": [
    "keyedRDDCustomPartitionPartitions = keyedRDDCustomPartition.glom().collect()\n",
    "keyedRDDCustomPartitionPartitions[0]"
   ]
  },
  {
   "cell_type": "code",
   "execution_count": 113,
   "id": "2469de14-fee5-4c50-9ed5-3856024f2261",
   "metadata": {},
   "outputs": [
    {
     "name": "stdout",
     "output_type": "stream",
     "text": [
      "563\n",
      "270628\n",
      "270718\n"
     ]
    },
    {
     "data": {
      "text/plain": [
       "[None, None, None]"
      ]
     },
     "execution_count": 113,
     "metadata": {},
     "output_type": "execute_result"
    }
   ],
   "source": [
    "[print(len(partition)) for partition in keyedRDDCustomPartitionPartitions]"
   ]
  },
  {
   "cell_type": "code",
   "execution_count": null,
   "id": "c09c3e02-4887-4907-9c71-bac336b98860",
   "metadata": {},
   "outputs": [],
   "source": []
  }
 ],
 "metadata": {
  "kernelspec": {
   "display_name": "Python 3 (ipykernel)",
   "language": "python",
   "name": "python3"
  },
  "language_info": {
   "codemirror_mode": {
    "name": "ipython",
    "version": 3
   },
   "file_extension": ".py",
   "mimetype": "text/x-python",
   "name": "python",
   "nbconvert_exporter": "python",
   "pygments_lexer": "ipython3",
   "version": "3.10.14"
  }
 },
 "nbformat": 4,
 "nbformat_minor": 5
}
