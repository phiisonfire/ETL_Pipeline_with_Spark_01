{
 "cells": [
  {
   "cell_type": "code",
   "execution_count": 1,
   "metadata": {},
   "outputs": [],
   "source": [
    "from faker import Faker"
   ]
  },
  {
   "cell_type": "code",
   "execution_count": 2,
   "metadata": {},
   "outputs": [
    {
     "data": {
      "text/plain": [
       "'Erin Murillo'"
      ]
     },
     "execution_count": 2,
     "metadata": {},
     "output_type": "execute_result"
    }
   ],
   "source": [
    "fake = Faker()\n",
    "\n",
    "fake.name()"
   ]
  },
  {
   "cell_type": "code",
   "execution_count": 3,
   "metadata": {},
   "outputs": [
    {
     "data": {
      "text/plain": [
       "'range'"
      ]
     },
     "execution_count": 3,
     "metadata": {},
     "output_type": "execute_result"
    }
   ],
   "source": [
    "fake.word()"
   ]
  },
  {
   "cell_type": "code",
   "execution_count": 2,
   "metadata": {},
   "outputs": [
    {
     "name": "stdout",
     "output_type": "stream",
     "text": [
      "/home/phinguyen/ETL_Pipeline_with_Spark_01/notebooks\n"
     ]
    }
   ],
   "source": [
    "import yaml\n",
    "import os\n",
    "\n",
    "pwd = os.getcwd()\n",
    "print(pwd)"
   ]
  },
  {
   "cell_type": "code",
   "execution_count": 3,
   "metadata": {},
   "outputs": [
    {
     "data": {
      "text/plain": [
       "'/home/phinguyen/ETL_Pipeline_with_Spark_01'"
      ]
     },
     "execution_count": 3,
     "metadata": {},
     "output_type": "execute_result"
    }
   ],
   "source": [
    "parent_directory = os.path.dirname(pwd)\n",
    "parent_directory"
   ]
  },
  {
   "cell_type": "code",
   "execution_count": 4,
   "metadata": {},
   "outputs": [
    {
     "data": {
      "text/plain": [
       "'/home/phinguyen/ETL_Pipeline_with_Spark_01/sample_data'"
      ]
     },
     "execution_count": 4,
     "metadata": {},
     "output_type": "execute_result"
    }
   ],
   "source": [
    "sample_data_dir = os.path.join(parent_directory, 'sample_data')\n",
    "sample_data_dir"
   ]
  },
  {
   "cell_type": "code",
   "execution_count": 5,
   "metadata": {},
   "outputs": [
    {
     "data": {
      "text/plain": [
       "PosixPath('/home/phinguyen/ETL_Pipeline_with_Spark_01/sample_data')"
      ]
     },
     "execution_count": 5,
     "metadata": {},
     "output_type": "execute_result"
    }
   ],
   "source": [
    "from pathlib import Path\n",
    "\n",
    "sample_data_dir = Path(sample_data_dir)\n",
    "sample_data_dir"
   ]
  },
  {
   "cell_type": "code",
   "execution_count": 7,
   "metadata": {},
   "outputs": [
    {
     "data": {
      "text/plain": [
       "PosixPath('/home/phinguyen/ETL_Pipeline_with_Spark_01/sample_data/DimProducts.yaml')"
      ]
     },
     "execution_count": 7,
     "metadata": {},
     "output_type": "execute_result"
    }
   ],
   "source": [
    "yaml_file_path = sample_data_dir / 'DimProducts.yaml'\n",
    "yaml_file_path"
   ]
  },
  {
   "cell_type": "code",
   "execution_count": 8,
   "metadata": {},
   "outputs": [
    {
     "name": "stdout",
     "output_type": "stream",
     "text": [
      "CREATE TABLE IF NOT EXISTS DimProducts (ProductKey INT, ProductAlternateKey VARCHAR(255), ProductCategoryKeyEnglishProductName VARCHAR(255), Color VARCHAR(255), StandardCost FLOAT, ListPrice FLOAT)\n"
     ]
    }
   ],
   "source": [
    "with open(yaml_file_path, 'r') as yaml_file:\n",
    "            yaml_data = yaml.safe_load(yaml_file)\n",
    "            columns = ', '.join([f\"{col['name']} {col['type']}\" for col in yaml_data['columns']])\n",
    "            create_table_query = f\"CREATE TABLE IF NOT EXISTS DimProducts ({columns})\"\n",
    "            print(create_table_query)"
   ]
  },
  {
   "cell_type": "code",
   "execution_count": 1,
   "metadata": {},
   "outputs": [
    {
     "name": "stdout",
     "output_type": "stream",
     "text": [
      "admin\n"
     ]
    }
   ],
   "source": [
    "import os\n",
    "from dotenv import load_dotenv\n",
    "load_dotenv()\n",
    "\n",
    "user=os.getenv('MYSQL_USER')\n",
    "print(user)"
   ]
  },
  {
   "cell_type": "code",
   "execution_count": 4,
   "metadata": {},
   "outputs": [
    {
     "name": "stdout",
     "output_type": "stream",
     "text": [
      "[{'name': 'ProductKey', 'type': 'INT'}, {'name': 'ProductAlternateKey', 'type': 'VARCHAR(255)'}, {'name': 'ProductCategoryKeyEnglishProductName', 'type': 'VARCHAR(255)'}, {'name': 'Color', 'type': 'VARCHAR(255)'}, {'name': 'StandardCost', 'type': 'FLOAT'}, {'name': 'ListPrice', 'type': 'FLOAT'}]\n",
      "CREATE TABLE IF NOT EXISTS DimProducts (ProductKey INT, ProductAlternateKey VARCHAR(255), ProductCategoryKeyEnglishProductName VARCHAR(255), Color VARCHAR(255), StandardCost FLOAT, ListPrice FLOAT)\n"
     ]
    }
   ],
   "source": [
    "import yaml\n",
    "\n",
    "yaml_file_path = \"/home/phinguyen/ETL_Pipeline_with_Spark_01/sample_data/DimProducts.yaml\"\n",
    "table_name = \"DimProducts\"\n",
    "with open(yaml_file_path, 'r') as yaml_file:\n",
    "    yaml_data = yaml.safe_load(yaml_file)\n",
    "    print(yaml_data['columns'])\n",
    "    # Filter out non-dictionary elements\n",
    "    valid_columns = [col for col in yaml_data['columns'] if isinstance(col, dict)]\n",
    "    \n",
    "    # Construct the table columns\n",
    "    columns = ', '.join([f\"{col['name']} {col['type']}\" for col in valid_columns])\n",
    "    create_table_query = f\"CREATE TABLE IF NOT EXISTS {table_name} ({columns})\"\n",
    "print(create_table_query)"
   ]
  },
  {
   "cell_type": "code",
   "execution_count": 3,
   "metadata": {},
   "outputs": [
    {
     "ename": "ImportError",
     "evalue": "attempted relative import with no known parent package",
     "output_type": "error",
     "traceback": [
      "\u001b[0;31m---------------------------------------------------------------------------\u001b[0m",
      "\u001b[0;31mImportError\u001b[0m                               Traceback (most recent call last)",
      "Cell \u001b[0;32mIn[3], line 1\u001b[0m\n\u001b[0;32m----> 1\u001b[0m \u001b[38;5;28;01mfrom\u001b[39;00m \u001b[38;5;21;01m.\u001b[39;00m\u001b[38;5;21;01m.\u001b[39;00m\u001b[38;5;21;01msrc\u001b[39;00m\u001b[38;5;21;01m.\u001b[39;00m\u001b[38;5;21;01mgenerator\u001b[39;00m\u001b[38;5;21;01m.\u001b[39;00m\u001b[38;5;21;01mschema\u001b[39;00m \u001b[38;5;28;01mimport\u001b[39;00m load_schema\n\u001b[1;32m      3\u001b[0m schema \u001b[38;5;241m=\u001b[39m load_schema(\u001b[38;5;124m\"\u001b[39m\u001b[38;5;124m/home/phinguyen/ETL_Pipeline_with_Spark_01/sample_data/DimProducts.yaml\u001b[39m\u001b[38;5;124m\"\u001b[39m)\n\u001b[1;32m      4\u001b[0m schema\n",
      "\u001b[0;31mImportError\u001b[0m: attempted relative import with no known parent package"
     ]
    }
   ],
   "source": [
    "from src.generator.schema import load_schema\n",
    "\n",
    "schema = load_schema(\"/home/phinguyen/ETL_Pipeline_with_Spark_01/sample_data/DimProducts.yaml\")\n",
    "schema"
   ]
  },
  {
   "cell_type": "code",
   "execution_count": 27,
   "metadata": {},
   "outputs": [
    {
     "data": {
      "text/html": [
       "<div>\n",
       "<style scoped>\n",
       "    .dataframe tbody tr th:only-of-type {\n",
       "        vertical-align: middle;\n",
       "    }\n",
       "\n",
       "    .dataframe tbody tr th {\n",
       "        vertical-align: top;\n",
       "    }\n",
       "\n",
       "    .dataframe thead th {\n",
       "        text-align: right;\n",
       "    }\n",
       "</style>\n",
       "<table border=\"1\" class=\"dataframe\">\n",
       "  <thead>\n",
       "    <tr style=\"text-align: right;\">\n",
       "      <th></th>\n",
       "      <th>ProductKey</th>\n",
       "      <th>ProductAlternateKey</th>\n",
       "      <th>ProductCategoryKeyEnglishProductName</th>\n",
       "      <th>Color</th>\n",
       "      <th>StandardCost</th>\n",
       "      <th>ListPrice</th>\n",
       "    </tr>\n",
       "  </thead>\n",
       "  <tbody>\n",
       "    <tr>\n",
       "      <th>1</th>\n",
       "      <td>AR-5381</td>\n",
       "      <td>NaN</td>\n",
       "      <td>Adjustable Race</td>\n",
       "      <td>NaN</td>\n",
       "      <td>NaN</td>\n",
       "      <td>NaN</td>\n",
       "    </tr>\n",
       "    <tr>\n",
       "      <th>2</th>\n",
       "      <td>BA-8327</td>\n",
       "      <td>NaN</td>\n",
       "      <td>Bearing Ball</td>\n",
       "      <td>NaN</td>\n",
       "      <td>NaN</td>\n",
       "      <td>NaN</td>\n",
       "    </tr>\n",
       "    <tr>\n",
       "      <th>3</th>\n",
       "      <td>BE-2349</td>\n",
       "      <td>NaN</td>\n",
       "      <td>BB Ball Bearing</td>\n",
       "      <td>NaN</td>\n",
       "      <td>NaN</td>\n",
       "      <td>NaN</td>\n",
       "    </tr>\n",
       "    <tr>\n",
       "      <th>4</th>\n",
       "      <td>BE-2908</td>\n",
       "      <td>NaN</td>\n",
       "      <td>Headset Ball Bearings</td>\n",
       "      <td>NaN</td>\n",
       "      <td>NaN</td>\n",
       "      <td>NaN</td>\n",
       "    </tr>\n",
       "    <tr>\n",
       "      <th>5</th>\n",
       "      <td>BL-2036</td>\n",
       "      <td>NaN</td>\n",
       "      <td>Blade</td>\n",
       "      <td>NaN</td>\n",
       "      <td>NaN</td>\n",
       "      <td>NaN</td>\n",
       "    </tr>\n",
       "  </tbody>\n",
       "</table>\n",
       "</div>"
      ],
      "text/plain": [
       "  ProductKey  ProductAlternateKey ProductCategoryKeyEnglishProductName Color  \\\n",
       "1    AR-5381                  NaN                      Adjustable Race   NaN   \n",
       "2    BA-8327                  NaN                         Bearing Ball   NaN   \n",
       "3    BE-2349                  NaN                      BB Ball Bearing   NaN   \n",
       "4    BE-2908                  NaN                Headset Ball Bearings   NaN   \n",
       "5    BL-2036                  NaN                                Blade   NaN   \n",
       "\n",
       "   StandardCost  ListPrice  \n",
       "1           NaN        NaN  \n",
       "2           NaN        NaN  \n",
       "3           NaN        NaN  \n",
       "4           NaN        NaN  \n",
       "5           NaN        NaN  "
      ]
     },
     "execution_count": 27,
     "metadata": {},
     "output_type": "execute_result"
    }
   ],
   "source": [
    "import pandas as pd\n",
    "\n",
    "df = pd.read_csv(\"/home/phinguyen/ETL_Pipeline_with_Spark_01/sample_data/DimProducts.csv\", \n",
    "                 na_values=['NA', 'NULL'],\n",
    "                 quotechar='\"')\n",
    "df.head()"
   ]
  },
  {
   "cell_type": "code",
   "execution_count": 28,
   "metadata": {},
   "outputs": [
    {
     "data": {
      "text/html": [
       "<div>\n",
       "<style scoped>\n",
       "    .dataframe tbody tr th:only-of-type {\n",
       "        vertical-align: middle;\n",
       "    }\n",
       "\n",
       "    .dataframe tbody tr th {\n",
       "        vertical-align: top;\n",
       "    }\n",
       "\n",
       "    .dataframe thead th {\n",
       "        text-align: right;\n",
       "    }\n",
       "</style>\n",
       "<table border=\"1\" class=\"dataframe\">\n",
       "  <thead>\n",
       "    <tr style=\"text-align: right;\">\n",
       "      <th></th>\n",
       "      <th>ProductKey</th>\n",
       "      <th>ProductAlternateKey</th>\n",
       "      <th>ProductCategoryKeyEnglishProductName</th>\n",
       "      <th>Color</th>\n",
       "      <th>StandardCost</th>\n",
       "      <th>ListPrice</th>\n",
       "    </tr>\n",
       "  </thead>\n",
       "  <tbody>\n",
       "    <tr>\n",
       "      <th>587</th>\n",
       "      <td>BK-M38S-38</td>\n",
       "      <td>1.0</td>\n",
       "      <td>Mountain-400-W Silver, 38</td>\n",
       "      <td>Silver</td>\n",
       "      <td>419.7784</td>\n",
       "      <td>769.49</td>\n",
       "    </tr>\n",
       "  </tbody>\n",
       "</table>\n",
       "</div>"
      ],
      "text/plain": [
       "     ProductKey  ProductAlternateKey ProductCategoryKeyEnglishProductName  \\\n",
       "587  BK-M38S-38                  1.0            Mountain-400-W Silver, 38   \n",
       "\n",
       "      Color  StandardCost  ListPrice  \n",
       "587  Silver      419.7784     769.49  "
      ]
     },
     "execution_count": 28,
     "metadata": {},
     "output_type": "execute_result"
    }
   ],
   "source": [
    "df[df['ProductKey'] == 'BK-M38S-38']"
   ]
  },
  {
   "cell_type": "code",
   "execution_count": 21,
   "metadata": {},
   "outputs": [
    {
     "data": {
      "text/html": [
       "<div>\n",
       "<style scoped>\n",
       "    .dataframe tbody tr th:only-of-type {\n",
       "        vertical-align: middle;\n",
       "    }\n",
       "\n",
       "    .dataframe tbody tr th {\n",
       "        vertical-align: top;\n",
       "    }\n",
       "\n",
       "    .dataframe thead th {\n",
       "        text-align: right;\n",
       "    }\n",
       "</style>\n",
       "<table border=\"1\" class=\"dataframe\">\n",
       "  <thead>\n",
       "    <tr style=\"text-align: right;\">\n",
       "      <th></th>\n",
       "      <th>ProductKey</th>\n",
       "      <th>ProductAlternateKey</th>\n",
       "      <th>ProductCategoryKeyEnglishProductName</th>\n",
       "      <th>Color</th>\n",
       "      <th>StandardCost</th>\n",
       "      <th>ListPrice</th>\n",
       "    </tr>\n",
       "  </thead>\n",
       "  <tbody>\n",
       "    <tr>\n",
       "      <th>1</th>\n",
       "      <td>AR-5381</td>\n",
       "      <td>None</td>\n",
       "      <td>Adjustable Race</td>\n",
       "      <td>None</td>\n",
       "      <td>None</td>\n",
       "      <td>None</td>\n",
       "    </tr>\n",
       "    <tr>\n",
       "      <th>2</th>\n",
       "      <td>BA-8327</td>\n",
       "      <td>None</td>\n",
       "      <td>Bearing Ball</td>\n",
       "      <td>None</td>\n",
       "      <td>None</td>\n",
       "      <td>None</td>\n",
       "    </tr>\n",
       "    <tr>\n",
       "      <th>3</th>\n",
       "      <td>BE-2349</td>\n",
       "      <td>None</td>\n",
       "      <td>BB Ball Bearing</td>\n",
       "      <td>None</td>\n",
       "      <td>None</td>\n",
       "      <td>None</td>\n",
       "    </tr>\n",
       "    <tr>\n",
       "      <th>4</th>\n",
       "      <td>BE-2908</td>\n",
       "      <td>None</td>\n",
       "      <td>Headset Ball Bearings</td>\n",
       "      <td>None</td>\n",
       "      <td>None</td>\n",
       "      <td>None</td>\n",
       "    </tr>\n",
       "    <tr>\n",
       "      <th>5</th>\n",
       "      <td>BL-2036</td>\n",
       "      <td>None</td>\n",
       "      <td>Blade</td>\n",
       "      <td>None</td>\n",
       "      <td>None</td>\n",
       "      <td>None</td>\n",
       "    </tr>\n",
       "  </tbody>\n",
       "</table>\n",
       "</div>"
      ],
      "text/plain": [
       "  ProductKey ProductAlternateKey ProductCategoryKeyEnglishProductName Color  \\\n",
       "1    AR-5381                None                      Adjustable Race  None   \n",
       "2    BA-8327                None                         Bearing Ball  None   \n",
       "3    BE-2349                None                      BB Ball Bearing  None   \n",
       "4    BE-2908                None                Headset Ball Bearings  None   \n",
       "5    BL-2036                None                                Blade  None   \n",
       "\n",
       "  StandardCost ListPrice  \n",
       "1         None      None  \n",
       "2         None      None  \n",
       "3         None      None  \n",
       "4         None      None  \n",
       "5         None      None  "
      ]
     },
     "execution_count": 21,
     "metadata": {},
     "output_type": "execute_result"
    }
   ],
   "source": [
    "import numpy as np\n",
    "\n",
    "df.replace({np.nan: None}, inplace=True)\n",
    "df.head()"
   ]
  },
  {
   "cell_type": "code",
   "execution_count": 26,
   "metadata": {},
   "outputs": [
    {
     "name": "stdout",
     "output_type": "stream",
     "text": [
      "INSERT INTO your_table_name (ProductKey, ProductAlternateKey, ProductCategoryKeyEnglishProductName, Color, StandardCost, ListPrice) VALUES ('AR-5381', NULL, 'Adjustable Race', NULL, NULL, NULL)\n"
     ]
    },
    {
     "ename": "TypeError",
     "evalue": "not all arguments converted during string formatting",
     "output_type": "error",
     "traceback": [
      "\u001b[0;31m---------------------------------------------------------------------------\u001b[0m",
      "\u001b[0;31mTypeError\u001b[0m                                 Traceback (most recent call last)",
      "Cell \u001b[0;32mIn[26], line 12\u001b[0m\n\u001b[1;32m     10\u001b[0m \u001b[38;5;28mprint\u001b[39m(sql_query)\n\u001b[1;32m     11\u001b[0m \u001b[38;5;66;03m# Print the SQL query with the actual values\u001b[39;00m\n\u001b[0;32m---> 12\u001b[0m \u001b[38;5;28mprint\u001b[39m(\u001b[43msql_query\u001b[49m\u001b[43m \u001b[49m\u001b[38;5;241;43m%\u001b[39;49m\u001b[43m \u001b[49m\u001b[38;5;28;43mtuple\u001b[39;49m\u001b[43m(\u001b[49m\u001b[43mrow\u001b[49m\u001b[43m)\u001b[49m)\n\u001b[1;32m     13\u001b[0m \u001b[38;5;28;01mbreak\u001b[39;00m\n",
      "\u001b[0;31mTypeError\u001b[0m: not all arguments converted during string formatting"
     ]
    }
   ],
   "source": [
    "# Get the column names from the DataFrame\n",
    "columns = df.columns.tolist()\n",
    "\n",
    "# Iterate through each row in the DataFrame\n",
    "for index, row in df.iterrows():\n",
    "    # Construct the SQL query\n",
    "    values = ', '.join(['NULL' if v is None else f\"'{v}'\" for v in row])\n",
    "    columns_str = ', '.join(columns)\n",
    "    sql_query = f\"INSERT INTO your_table_name ({columns_str}) VALUES ({values})\"\n",
    "    print(sql_query)\n",
    "    # Print the SQL query with the actual values\n",
    "    print(sql_query % tuple(row))\n",
    "    break"
   ]
  },
  {
   "cell_type": "code",
   "execution_count": null,
   "metadata": {},
   "outputs": [],
   "source": []
  },
  {
   "cell_type": "code",
   "execution_count": null,
   "metadata": {},
   "outputs": [],
   "source": []
  },
  {
   "cell_type": "code",
   "execution_count": 10,
   "metadata": {},
   "outputs": [
    {
     "data": {
      "text/html": [
       "<div>\n",
       "<style scoped>\n",
       "    .dataframe tbody tr th:only-of-type {\n",
       "        vertical-align: middle;\n",
       "    }\n",
       "\n",
       "    .dataframe tbody tr th {\n",
       "        vertical-align: top;\n",
       "    }\n",
       "\n",
       "    .dataframe thead th {\n",
       "        text-align: right;\n",
       "    }\n",
       "</style>\n",
       "<table border=\"1\" class=\"dataframe\">\n",
       "  <thead>\n",
       "    <tr style=\"text-align: right;\">\n",
       "      <th></th>\n",
       "      <th>ProductKey</th>\n",
       "      <th>ProductAlternateKey</th>\n",
       "      <th>ProductCategoryKeyEnglishProductName</th>\n",
       "      <th>Color</th>\n",
       "      <th>StandardCost</th>\n",
       "      <th>ListPrice</th>\n",
       "    </tr>\n",
       "  </thead>\n",
       "  <tbody>\n",
       "    <tr>\n",
       "      <th>1</th>\n",
       "      <td>AR-5381</td>\n",
       "      <td>NaN</td>\n",
       "      <td>Adjustable Race</td>\n",
       "      <td>NaN</td>\n",
       "      <td>NaN</td>\n",
       "      <td>NaN</td>\n",
       "    </tr>\n",
       "  </tbody>\n",
       "</table>\n",
       "</div>"
      ],
      "text/plain": [
       "  ProductKey  ProductAlternateKey ProductCategoryKeyEnglishProductName Color  \\\n",
       "1    AR-5381                  NaN                      Adjustable Race   NaN   \n",
       "\n",
       "   StandardCost  ListPrice  \n",
       "1           NaN        NaN  "
      ]
     },
     "execution_count": 10,
     "metadata": {},
     "output_type": "execute_result"
    }
   ],
   "source": [
    "df[:1]"
   ]
  },
  {
   "cell_type": "code",
   "execution_count": 6,
   "metadata": {},
   "outputs": [
    {
     "data": {
      "text/plain": [
       "Index(['ProductKey', 'ProductAlternateKey',\n",
       "       'ProductCategoryKeyEnglishProductName', 'Color', 'StandardCost',\n",
       "       'ListPrice'],\n",
       "      dtype='object')"
      ]
     },
     "execution_count": 6,
     "metadata": {},
     "output_type": "execute_result"
    }
   ],
   "source": [
    "df.columns"
   ]
  },
  {
   "cell_type": "code",
   "execution_count": 12,
   "metadata": {},
   "outputs": [],
   "source": [
    "df = df.where(pd.notna(df), None)"
   ]
  },
  {
   "cell_type": "code",
   "execution_count": 15,
   "metadata": {},
   "outputs": [
    {
     "name": "stderr",
     "output_type": "stream",
     "text": [
      "/tmp/ipykernel_82868/4271472690.py:1: FutureWarning: DataFrame.applymap has been deprecated. Use DataFrame.map instead.\n",
      "  df = df.applymap(lambda x: None if pd.isna(x) else x)\n"
     ]
    }
   ],
   "source": [
    "df = df.applymap(lambda x: None if pd.isna(x) else x)"
   ]
  },
  {
   "cell_type": "code",
   "execution_count": 19,
   "metadata": {},
   "outputs": [
    {
     "name": "stdout",
     "output_type": "stream",
     "text": [
      "('AR-5381', nan, 'Adjustable Race', nan, nan, nan)\n",
      "AR-5381\n",
      "<class 'str'>\n",
      "nan\n",
      "<class 'float'>\n",
      "Adjustable Race\n",
      "<class 'str'>\n",
      "nan\n",
      "<class 'float'>\n",
      "nan\n",
      "<class 'float'>\n",
      "nan\n",
      "<class 'float'>\n"
     ]
    }
   ],
   "source": [
    "for row in df.itertuples(index=False, name=None):\n",
    "    print(row)\n",
    "    for element in row:\n",
    "        print(element)\n",
    "        print(type(element))\n",
    "    break"
   ]
  },
  {
   "cell_type": "code",
   "execution_count": null,
   "metadata": {},
   "outputs": [],
   "source": [
    "columns = ['ProductKey', 'ProductAlternateKey',\n",
    "       'ProductCategoryKeyEnglishProductName', 'Color', 'StandardCost',\n",
    "       'ListPrice']\n",
    "\n",
    "insert_query = f\"INSERT INTO {table_name} ({', '.join(columns)}) VALUES ({', '.join(['%s'] * len(columns))})\"\n",
    "\n",
    "for row in df.itertuples(index=False, name=None):\n",
    "    print(row)\n",
    "    break"
   ]
  },
  {
   "cell_type": "code",
   "execution_count": 5,
   "metadata": {},
   "outputs": [
    {
     "name": "stdout",
     "output_type": "stream",
     "text": [
      "['2022-10-15', '2022-10-16', '2022-10-17', '2022-10-18', '2022-10-19', '2022-10-20']\n"
     ]
    },
    {
     "data": {
      "text/plain": [
       "['2022-10-15',\n",
       " '2022-10-16',\n",
       " '2022-10-17',\n",
       " '2022-10-18',\n",
       " '2022-10-19',\n",
       " '2022-10-20']"
      ]
     },
     "execution_count": 5,
     "metadata": {},
     "output_type": "execute_result"
    }
   ],
   "source": [
    "from datetime import datetime, timedelta\n",
    "\n",
    "def main(n_each_day: int, start_date: str, end_date: str):\n",
    "    start_date = datetime.strptime(start_date, \"%Y-%m-%d\")\n",
    "    end_date = datetime.strptime(end_date, \"%Y-%m-%d\")\n",
    "    number_of_days = (end_date - start_date).days + 1  # Include end_date in the range\n",
    "    \n",
    "    # Generate list of dates\n",
    "    date_list = [(start_date + timedelta(days=i)).strftime(\"%Y-%m-%d\") for i in range(number_of_days)]\n",
    "    \n",
    "    print(date_list)\n",
    "    return date_list\n",
    "\n",
    "main(10, \"2022-10-15\", \"2022-10-20\")"
   ]
  },
  {
   "cell_type": "code",
   "execution_count": 1,
   "metadata": {},
   "outputs": [
    {
     "data": {
      "text/plain": [
       "[1, 2, 3, 4, 5, 6]"
      ]
     },
     "execution_count": 1,
     "metadata": {},
     "output_type": "execute_result"
    }
   ],
   "source": [
    "customers_data = []\n",
    "customer_data_1 = [1, 2, 3]\n",
    "customer_data_2 = [4, 5, 6]\n",
    "customers_data.extend(customer_data_1)\n",
    "customers_data.extend(customer_data_2)\n",
    "customers_data"
   ]
  }
 ],
 "metadata": {
  "kernelspec": {
   "display_name": "pyspark",
   "language": "python",
   "name": "python3"
  },
  "language_info": {
   "codemirror_mode": {
    "name": "ipython",
    "version": 3
   },
   "file_extension": ".py",
   "mimetype": "text/x-python",
   "name": "python",
   "nbconvert_exporter": "python",
   "pygments_lexer": "ipython3",
   "version": "3.11.8"
  }
 },
 "nbformat": 4,
 "nbformat_minor": 2
}
