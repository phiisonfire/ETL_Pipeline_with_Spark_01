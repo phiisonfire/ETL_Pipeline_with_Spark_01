{
 "cells": [
  {
   "cell_type": "code",
   "execution_count": 1,
   "metadata": {},
   "outputs": [
    {
     "name": "stdout",
     "output_type": "stream",
     "text": [
      "Connection to MySQL database is successful\n",
      "information_schema\n",
      "performance_schema\n",
      "retail_db\n"
     ]
    }
   ],
   "source": [
    "from src.utils.db_connection import DBConnection\n",
    "\n",
    "conn = DBConnection()\n",
    "conn.connect()\n",
    "conn.list_schemas()"
   ]
  },
  {
   "cell_type": "code",
   "execution_count": 2,
   "metadata": {},
   "outputs": [
    {
     "data": {
      "text/plain": [
       "'/home/phinguyen/ETL_Pipeline_with_Spark_01/src'"
      ]
     },
     "execution_count": 2,
     "metadata": {},
     "output_type": "execute_result"
    }
   ],
   "source": [
    "import os\n",
    "os.getcwd()"
   ]
  },
  {
   "cell_type": "code",
   "execution_count": 3,
   "metadata": {},
   "outputs": [
    {
     "name": "stdout",
     "output_type": "stream",
     "text": [
      "['/home/phinguyen/miniconda3/envs/pyspark/lib/python310.zip', '/home/phinguyen/miniconda3/envs/pyspark/lib/python3.10', '/home/phinguyen/miniconda3/envs/pyspark/lib/python3.10/lib-dynload', '', '/home/phinguyen/miniconda3/envs/pyspark/lib/python3.10/site-packages', '/home/phinguyen/ETL_Pipeline_with_Spark_01']\n"
     ]
    }
   ],
   "source": [
    "import sys\n",
    "\n",
    "print(sys.path)"
   ]
  },
  {
   "cell_type": "code",
   "execution_count": null,
   "metadata": {},
   "outputs": [],
   "source": []
  }
 ],
 "metadata": {
  "kernelspec": {
   "display_name": "pyspark",
   "language": "python",
   "name": "python3"
  },
  "language_info": {
   "codemirror_mode": {
    "name": "ipython",
    "version": 3
   },
   "file_extension": ".py",
   "mimetype": "text/x-python",
   "name": "python",
   "nbconvert_exporter": "python",
   "pygments_lexer": "ipython3",
   "version": "3.10.14"
  }
 },
 "nbformat": 4,
 "nbformat_minor": 2
}
